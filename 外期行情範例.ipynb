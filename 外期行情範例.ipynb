{
  "cells": [
    {
      "cell_type": "markdown",
      "metadata": {
        "id": "view-in-github",
        "colab_type": "text"
      },
      "source": [
        "<a href=\"https://colab.research.google.com/github/PFCEC/unitrade/blob/main/%E5%A4%96%E6%9C%9F%E8%A1%8C%E6%83%85%E7%AF%84%E4%BE%8B.ipynb\" target=\"_parent\"><img src=\"https://colab.research.google.com/assets/colab-badge.svg\" alt=\"Open In Colab\"/></a>"
      ]
    },
    {
      "cell_type": "markdown",
      "source": [],
      "metadata": {
        "id": "ItyqMwpF9YJA"
      }
    },
    {
      "cell_type": "markdown",
      "source": [
        "<div class=\"markdown-google-sans\">\n",
        "\n",
        "# <strong>事先準備</strong>\n",
        "</div>"
      ],
      "metadata": {
        "id": "HImbuf--E6qi"
      }
    },
    {
      "cell_type": "markdown",
      "metadata": {
        "id": "u3RO0BeThqIg"
      },
      "source": [
        "<div class=\"markdown-google-sans\">\n",
        "\n",
        "## <strong>安裝plotly</strong>\n",
        "</div>\n",
        "範例會使用plotly表格呈現,請先安裝plotly<br/>\n"
      ]
    },
    {
      "cell_type": "code",
      "execution_count": null,
      "metadata": {
        "scrolled": true,
        "colab": {
          "base_uri": "https://localhost:8080/"
        },
        "id": "vGjcJZ1hhqIi",
        "outputId": "5be822e4-5fc2-41f5-d4f6-8448b375ac0b"
      },
      "outputs": [
        {
          "output_type": "stream",
          "name": "stdout",
          "text": [
            "Requirement already satisfied: plotly in /usr/local/lib/python3.10/dist-packages (5.24.1)\n",
            "Requirement already satisfied: tenacity>=6.2.0 in /usr/local/lib/python3.10/dist-packages (from plotly) (9.0.0)\n",
            "Requirement already satisfied: packaging in /usr/local/lib/python3.10/dist-packages (from plotly) (24.2)\n"
          ]
        }
      ],
      "source": [
        "!pip install plotly"
      ]
    },
    {
      "cell_type": "markdown",
      "source": [
        "<div class=\"markdown-google-sans\">\n",
        "\n",
        "## <strong>載入plotly和設定渲染器</strong>\n",
        "</div>\n",
        "並且為了colab可以瀏覽,請透過以下指令設定"
      ],
      "metadata": {
        "id": "wNRM9Ak4Kqcy"
      }
    },
    {
      "cell_type": "code",
      "source": [
        "#匯入顯示表格套件\n",
        "import plotly.graph_objs as go\n",
        "from plotly.offline import init_notebook_mode\n",
        "import plotly.io as pio\n",
        "pio.renderers.default = 'colab'  # 或嘗試 'notebook' 或 'iframe' 渲染器\n",
        "from google.colab import output\n",
        "output.enable_custom_widget_manager()\n",
        "init_notebook_mode(connected=True)\n",
        "\n"
      ],
      "metadata": {
        "colab": {
          "base_uri": "https://localhost:8080/",
          "height": 17
        },
        "id": "Pa9JbL-OKvLc",
        "outputId": "c88f97f9-c960-4752-96b8-7d4a995271d5"
      },
      "execution_count": null,
      "outputs": [
        {
          "output_type": "display_data",
          "data": {
            "text/html": [
              "        <script type=\"text/javascript\">\n",
              "        window.PlotlyConfig = {MathJaxConfig: 'local'};\n",
              "        if (window.MathJax && window.MathJax.Hub && window.MathJax.Hub.Config) {window.MathJax.Hub.Config({SVG: {font: \"STIX-Web\"}});}\n",
              "        if (typeof require !== 'undefined') {\n",
              "        require.undef(\"plotly\");\n",
              "        requirejs.config({\n",
              "            paths: {\n",
              "                'plotly': ['https://cdn.plot.ly/plotly-2.35.2.min']\n",
              "            }\n",
              "        });\n",
              "        require(['plotly'], function(Plotly) {\n",
              "            window._Plotly = Plotly;\n",
              "        });\n",
              "        }\n",
              "        </script>\n",
              "        "
            ]
          },
          "metadata": {}
        }
      ]
    },
    {
      "cell_type": "markdown",
      "source": [
        "<div class=\"markdown-google-sans\">\n",
        "\n",
        "## <strong>範例欄位設定</strong>\n",
        "</div>\n",
        "定義顯示欄位<br/>"
      ],
      "metadata": {
        "id": "5gq-JxR0A_XM"
      }
    },
    {
      "cell_type": "code",
      "source": [
        "from typing import List\n",
        "\n",
        "head_match = dict(values=['成交時間', '成交價','成交量'])\n",
        "head_bid = dict(values=['買價1','買量1' ,'買價2','買量2','買價3','買量3','買價4','買量4','買價5','買量5'\n",
        "                       ,'買價6','買量6','買價7','買量7','買價8','買量8','買價9','買量9','買價10','買量10' ])\n",
        "head_off = dict(values=['賣價1','賣量1' ,'賣價2','賣量2','賣價3','賣量3','賣價4','賣量4','賣價5','賣量5'\n",
        "                       ,'賣價6','賣量6','賣價7','賣量7','賣價8','賣量8','賣價9','賣量9','賣價10','賣量10' ])\n",
        "head_implied = dict(values=['隱含買價','隱含買量','隱含賣價','隱含賣量','最高價','最低價','開盤價','收盤價','目前結算價','最新結算價'])\n",
        "\n",
        "# 創建初始表格\n",
        "fig_match = go.FigureWidget(data=[go.Table( header=head_match, cells=dict(values=list(zip(*[['','','']])), align='left'),)])\n",
        "fig_match.update_layout(height=100, margin=dict(t=0, b=0, l=0, r=0),autosize=True)\n",
        "fig_bid = go.FigureWidget(data=[go.Table( header=head_bid, cells=dict(values=list(zip(*[['','','','','','','','','','','','','','','','','','','','']])), align='left'),)])\n",
        "fig_bid.update_layout(height=100, margin=dict(t=0, b=0, l=0, r=0),autosize=True)\n",
        "fig_off = go.FigureWidget(data=[go.Table( header=head_off, cells=dict(values=list(zip(*[['','','','','','','','','','','','','','','','','','','','']])), align='left'),)])\n",
        "fig_off.update_layout(height=100, margin=dict(t=0, b=0, l=0, r=0),autosize=True)\n",
        "fig_implied = go.FigureWidget(data=[go.Table( header=head_implied, cells=dict(values=list(zip(*[['','','','','','','','','','']])), align='left'),)])\n",
        "fig_implied.update_layout(height=100, margin=dict(t=0, b=0, l=0, r=0),autosize=True)\n",
        "col_match = {header: idx for idx, header in enumerate(head_match['values'])}\n",
        "col_bid = {header: idx for idx, header in enumerate(head_bid['values'])}\n",
        "col_off = {header: idx for idx, header in enumerate(head_off['values'])}\n",
        "col_implied = {header: idx for idx, header in enumerate(head_implied['values'])}"
      ],
      "metadata": {
        "id": "XeLjFJhwA0QQ"
      },
      "execution_count": null,
      "outputs": []
    },
    {
      "cell_type": "markdown",
      "source": [
        "<div class=\"markdown-google-sans\">\n",
        "\n",
        "## <strong>安裝unitrade</strong>\n",
        "</div>"
      ],
      "metadata": {
        "id": "-4s0qdl--EST"
      }
    },
    {
      "cell_type": "code",
      "source": [
        "!pip install unitrade-1.0.0.1-cp310-cp310-manylinux_2_17_x86_64.manylinux2014_x86_64.manylinux_2_28_x86_64.whl"
      ],
      "metadata": {
        "colab": {
          "base_uri": "https://localhost:8080/"
        },
        "id": "pA-GQgr7iIod",
        "outputId": "123bd56b-d065-4996-e19b-1ebe0ea8a6be"
      },
      "execution_count": null,
      "outputs": [
        {
          "output_type": "stream",
          "name": "stdout",
          "text": [
            "Processing ./unitrade-1.0.0.1-cp310-cp310-manylinux_2_17_x86_64.manylinux2014_x86_64.manylinux_2_28_x86_64.whl\n",
            "Collecting bitarray>=2.3.4 (from unitrade==1.0.0.1)\n",
            "  Downloading bitarray-3.0.0-cp310-cp310-manylinux_2_17_x86_64.manylinux2014_x86_64.whl.metadata (32 kB)\n",
            "Requirement already satisfied: requests in /usr/local/lib/python3.10/dist-packages (from unitrade==1.0.0.1) (2.32.3)\n",
            "Requirement already satisfied: cryptography in /usr/local/lib/python3.10/dist-packages (from unitrade==1.0.0.1) (43.0.3)\n",
            "Requirement already satisfied: cython in /usr/local/lib/python3.10/dist-packages (from unitrade==1.0.0.1) (3.0.11)\n",
            "Requirement already satisfied: numpy in /usr/local/lib/python3.10/dist-packages (from unitrade==1.0.0.1) (1.26.4)\n",
            "Requirement already satisfied: cffi>=1.12 in /usr/local/lib/python3.10/dist-packages (from cryptography->unitrade==1.0.0.1) (1.17.1)\n",
            "Requirement already satisfied: charset-normalizer<4,>=2 in /usr/local/lib/python3.10/dist-packages (from requests->unitrade==1.0.0.1) (3.4.0)\n",
            "Requirement already satisfied: idna<4,>=2.5 in /usr/local/lib/python3.10/dist-packages (from requests->unitrade==1.0.0.1) (3.10)\n",
            "Requirement already satisfied: urllib3<3,>=1.21.1 in /usr/local/lib/python3.10/dist-packages (from requests->unitrade==1.0.0.1) (2.2.3)\n",
            "Requirement already satisfied: certifi>=2017.4.17 in /usr/local/lib/python3.10/dist-packages (from requests->unitrade==1.0.0.1) (2024.8.30)\n",
            "Requirement already satisfied: pycparser in /usr/local/lib/python3.10/dist-packages (from cffi>=1.12->cryptography->unitrade==1.0.0.1) (2.22)\n",
            "Downloading bitarray-3.0.0-cp310-cp310-manylinux_2_17_x86_64.manylinux2014_x86_64.whl (278 kB)\n",
            "\u001b[2K   \u001b[90m━━━━━━━━━━━━━━━━━━━━━━━━━━━━━━━━━━━━━━━━\u001b[0m \u001b[32m278.3/278.3 kB\u001b[0m \u001b[31m5.8 MB/s\u001b[0m eta \u001b[36m0:00:00\u001b[0m\n",
            "\u001b[?25hInstalling collected packages: bitarray, unitrade\n",
            "Successfully installed bitarray-3.0.0 unitrade-1.0.0.1\n"
          ]
        }
      ]
    },
    {
      "cell_type": "markdown",
      "metadata": {
        "id": "eeUwPGjahqIj"
      },
      "source": [
        "<div class=\"markdown-google-sans\">\n",
        "\n",
        "# <strong>初始化</strong>\n",
        "</div>"
      ]
    },
    {
      "cell_type": "code",
      "execution_count": null,
      "metadata": {
        "colab": {
          "base_uri": "https://localhost:8080/"
        },
        "id": "yZxDgooGhqIj",
        "outputId": "6f01fb7a-2fd2-437e-acfc-bdac458005f5"
      },
      "outputs": [
        {
          "output_type": "stream",
          "name": "stdout",
          "text": [
            "The package version is 1.0.0.1\n"
          ]
        }
      ],
      "source": [
        "##API初始&登入\n",
        "import unitrade\n",
        "from unitrade.unitrade import *\n",
        "from unitrade.quote.fdata import *\n",
        "#初始API\n",
        "api = Unitrade()"
      ]
    },
    {
      "cell_type": "markdown",
      "source": [
        "<div class=\"markdown-google-sans\">\n",
        "\n",
        "# <strong>登入api</strong>\n",
        "</div>"
      ],
      "metadata": {
        "id": "r1jl1-yE-Yb9"
      }
    },
    {
      "cell_type": "code",
      "execution_count": null,
      "metadata": {
        "colab": {
          "base_uri": "https://localhost:8080/"
        },
        "id": "Yxbg275XhqIk",
        "outputId": "8df195d4-2b18-416e-ae71-febd1059b17c"
      },
      "outputs": [
        {
          "output_type": "stream",
          "name": "stdout",
          "text": [
            "LoginResponse(ok=True, error='')\n",
            "登入旗標True\n",
            "交易帳號['9809769']\n"
          ]
        }
      ],
      "source": [
        "#錯誤事件處理\n",
        "api.on_error = lambda error: print(f'api錯誤 {error}')\n",
        "#系統登入\n",
        "loginresponse = api.login(\n",
        "    \"url\", \"帳號\", \"密碼\", '憑證檔名', '憑證密碼')#url,帳號,密碼,憑證檔名,憑證密碼\n",
        "\n",
        "#顯示登入結果\n",
        "print(loginresponse)\n",
        "print(f\"登入旗標{api.login_status_flag}\")\n",
        "print(f\"交易帳號{api.get_accounts()}\")\n"
      ]
    },
    {
      "cell_type": "markdown",
      "source": [
        "<div class=\"markdown-google-sans\">\n",
        "\n",
        "# <strong>查詢行情</strong>\n",
        "</div>"
      ],
      "metadata": {
        "id": "ro9GGoIOFz-k"
      }
    },
    {
      "cell_type": "markdown",
      "source": [
        "\n",
        "<div class=\"markdown-google-sans\">\n",
        "\n",
        "## <strong>成交價量</strong>\n",
        "</div>\n",
        "透過query_tick_data_trade方法實作,帶入商品代碼\n"
      ],
      "metadata": {
        "id": "N1NzkGKCNAWz"
      }
    },
    {
      "cell_type": "code",
      "source": [
        "productid='CME|NQ|202412|F|' #商品代碼\n",
        "tickDataTradeResponse=api.fquote.query_tick_data_trade(exchange= productid.split('|')[0], symbol= productid.split('|')[1], ym=productid.split('|')[2], cp= productid.split('|')[3], strike=productid.split('|')[4] )\n",
        "if tickDataTradeResponse.ok == True:\n",
        "  tickdatatrade=tickDataTradeResponse.data\n",
        "  cur = list(fig_match.data[0].cells.values)\n",
        "  cur[col_match['成交時間']] =tickdatatrade.time\n",
        "  cur[col_match['成交價']] = tickdatatrade.lastprice\n",
        "  cur[col_match['成交量'] ]= tickdatatrade.lastvolume\n",
        "  with fig_match.batch_update():\n",
        "    fig_match.data[0].cells.values = cur\n",
        "  display(fig_match)\n",
        "else:\n",
        "  print('結果 '+tickDataTradeResponse.error)"
      ],
      "metadata": {
        "colab": {
          "base_uri": "https://localhost:8080/",
          "height": 377,
          "referenced_widgets": [
            "239761796bb04ca5a3e30446d63760ec"
          ]
        },
        "id": "2dSVmboBNHEf",
        "outputId": "e520e171-5992-4516-f520-2ff90facf5be"
      },
      "execution_count": null,
      "outputs": [
        {
          "output_type": "display_data",
          "data": {
            "application/vnd.jupyter.widget-view+json": {
              "version_major": 2,
              "version_minor": 0,
              "model_id": "239761796bb04ca5a3e30446d63760ec"
            },
            "text/plain": [
              "FigureWidget({\n",
              "    'data': [{'cells': {'align': 'left', 'values': ['152154296', 20668.0, 1]},\n",
              "              'header': {'values': ['成交時間', '成交價', '成交量']},\n",
              "              'type': 'table',\n",
              "              'uid': '0ee7801f-efd2-42c0-894e-f6c39e0d078f'}],\n",
              "    'layout': {'autosize': True, 'template': '...'}\n",
              "})"
            ]
          },
          "metadata": {
            "application/vnd.jupyter.widget-view+json": {
              "colab": {
                "custom_widget_manager": {
                  "url": "https://ssl.gstatic.com/colaboratory-static/widgets/colab-cdn-widget-manager/2b70e893a8ba7c0f/manager.min.js"
                }
              }
            }
          }
        }
      ]
    },
    {
      "cell_type": "markdown",
      "source": [
        "<div class=\"markdown-google-sans\">\n",
        "\n",
        "## <strong>最佳買價量</strong>\n",
        "</div>\n",
        "透過query_tick_data_bid方法實作,帶入商品代碼\n"
      ],
      "metadata": {
        "id": "BBm2ojpSNLRB"
      }
    },
    {
      "cell_type": "code",
      "source": [
        "tickDataBidResponse=api.fquote.query_tick_data_bid(exchange= productid.split('|')[0], symbol= productid.split('|')[1], ym=productid.split('|')[2], cp= productid.split('|')[3], strike=productid.split('|')[4] )\n",
        "if tickDataBidResponse.ok == True:\n",
        "    tickdatabid=tickDataBidResponse.data\n",
        "    cur = list(fig_bid.data[0].cells.values)\n",
        "    cur[col_bid['買價1']] =tickdatabid.BidDOM1Price\n",
        "    cur[col_bid['買量1']] =tickdatabid.BidDOM1Volume\n",
        "    cur[col_bid['買價2']] =tickdatabid.BidDOM2Price\n",
        "    cur[col_bid['買量2']] =tickdatabid.BidDOM2Volume\n",
        "    cur[col_bid['買價3']] =tickdatabid.BidDOM3Price\n",
        "    cur[col_bid['買量3']] =tickdatabid.BidDOM3Volume\n",
        "    cur[col_bid['買價4']] =tickdatabid.BidDOM4Price\n",
        "    cur[col_bid['買量4']] =tickdatabid.BidDOM4Volume\n",
        "    cur[col_bid['買價5']] =tickdatabid.BidDOM5Price\n",
        "    cur[col_bid['買量5']] =tickdatabid.BidDOM5Volume\n",
        "    cur[col_bid['買價6']] =tickdatabid.BidDOM6Price\n",
        "    cur[col_bid['買量6']] =tickdatabid.BidDOM6Volume\n",
        "    cur[col_bid['買價7']] =tickdatabid.BidDOM7Price\n",
        "    cur[col_bid['買量7']] =tickdatabid.BidDOM7Volume\n",
        "    cur[col_bid['買價8']] =tickdatabid.BidDOM8Price\n",
        "    cur[col_bid['買量8']] =tickdatabid.BidDOM8Volume\n",
        "    cur[col_bid['買價9']] =tickdatabid.BidDOM9Price\n",
        "    cur[col_bid['買量9']] =tickdatabid.BidDOM9Volume\n",
        "    cur[col_bid['買價10']] =tickdatabid.BidDOM10Price\n",
        "    cur[col_bid['買量10']] =tickdatabid.BidDOM10Volume\n",
        "    with fig_bid.batch_update():\n",
        "        fig_bid.data[0].cells.values = cur\n",
        "    display(fig_bid)\n",
        "else:\n",
        "    print('tickDataBidResponse '+tickDataBidResponse.error)"
      ],
      "metadata": {
        "id": "zreIEdmeNSQy",
        "colab": {
          "base_uri": "https://localhost:8080/",
          "height": 377,
          "referenced_widgets": [
            "80dea6ac95084f56aa9f3368189d2b48"
          ]
        },
        "outputId": "ac4f2c4a-cf7a-494e-9116-9babcc60ac1b"
      },
      "execution_count": null,
      "outputs": [
        {
          "output_type": "display_data",
          "data": {
            "application/vnd.jupyter.widget-view+json": {
              "version_major": 2,
              "version_minor": 0,
              "model_id": "80dea6ac95084f56aa9f3368189d2b48"
            },
            "text/plain": [
              "FigureWidget({\n",
              "    'data': [{'cells': {'align': 'left',\n",
              "                        'values': [20667.5, 2, 20667.25, 3, 20667.0, 2, 20666.75,\n",
              "                                   4, 20666.5, 3, 20666.25, 7, 20666.0, 8,\n",
              "                                   20665.75, 9, 20665.5, 9, 20665.25, 8]},\n",
              "              'header': {'values': [買價1, 買量1, 買價2, 買量2, 買價3, 買量3, 買價4, 買量4, 買價5,\n",
              "                                    買量5, 買價6, 買量6, 買價7, 買量7, 買價8, 買量8, 買價9, 買量9,\n",
              "                                    買價10, 買量10]},\n",
              "              'type': 'table',\n",
              "              'uid': '4b6fd2d7-2277-42b9-b497-588b76c3fd0f'}],\n",
              "    'layout': {'autosize': True, 'template': '...'}\n",
              "})"
            ]
          },
          "metadata": {
            "application/vnd.jupyter.widget-view+json": {
              "colab": {
                "custom_widget_manager": {
                  "url": "https://ssl.gstatic.com/colaboratory-static/widgets/colab-cdn-widget-manager/2b70e893a8ba7c0f/manager.min.js"
                }
              }
            }
          }
        }
      ]
    },
    {
      "cell_type": "markdown",
      "source": [
        "<div class=\"markdown-google-sans\">\n",
        "\n",
        "## <strong>最佳賣價量</strong>\n",
        "</div>\n",
        "透過query_tick_data_offer方法實作,帶入商品代碼\n"
      ],
      "metadata": {
        "id": "t0RseKw6TUyf"
      }
    },
    {
      "cell_type": "code",
      "source": [
        "tickDataoffResponse=api.fquote.query_tick_data_offer(exchange= productid.split('|')[0], symbol= productid.split('|')[1], ym=productid.split('|')[2], cp= productid.split('|')[3], strike=productid.split('|')[4] )\n",
        "if tickDataoffResponse.ok == True:\n",
        "    tickdataOffer=tickDataoffResponse.data\n",
        "    cur = list(fig_off.data[0].cells.values)\n",
        "    cur[col_off['賣價1']] =tickdataOffer.OfferDOM1Price\n",
        "    cur[col_off['賣量1']] =tickdataOffer.OfferDOM1Volume\n",
        "    cur[col_off['賣價2']] =tickdataOffer.OfferDOM2Price\n",
        "    cur[col_off['賣量2']] =tickdataOffer.OfferDOM2Volume\n",
        "    cur[col_off['賣價3']] =tickdataOffer.OfferDOM3Price\n",
        "    cur[col_off['賣量3']] =tickdataOffer.OfferDOM3Volume\n",
        "    cur[col_off['賣價4']] =tickdataOffer.OfferDOM4Price\n",
        "    cur[col_off['賣量4']] =tickdataOffer.OfferDOM4Volume\n",
        "    cur[col_off['賣價5']] =tickdataOffer.OfferDOM5Price\n",
        "    cur[col_off['賣量5']] =tickdataOffer.OfferDOM5Volume\n",
        "    cur[col_off['賣價6']] =tickdataOffer.OfferDOM6Price\n",
        "    cur[col_off['賣量6']] =tickdataOffer.OfferDOM6Volume\n",
        "    cur[col_off['賣價7']] =tickdataOffer.OfferDOM7Price\n",
        "    cur[col_off['賣量7']] =tickdataOffer.OfferDOM7Volume\n",
        "    cur[col_off['賣價8']] =tickdataOffer.OfferDOM8Price\n",
        "    cur[col_off['賣量8']] =tickdataOffer.OfferDOM8Volume\n",
        "    cur[col_off['賣價9']] =tickdataOffer.OfferDOM9Price\n",
        "    cur[col_off['賣量9']] =tickdataOffer.OfferDOM9Volume\n",
        "    cur[col_off['賣價10']] =tickdataOffer.OfferDOM10Price\n",
        "    cur[col_off['賣量10']] =tickdataOffer.OfferDOM10Volume\n",
        "    with fig_off.batch_update():\n",
        "        fig_off.data[0].cells.values = cur\n",
        "    display(fig_off)\n",
        "else:\n",
        "    print('結果 '+tickDataoffResponse.error)"
      ],
      "metadata": {
        "colab": {
          "base_uri": "https://localhost:8080/",
          "height": 377,
          "referenced_widgets": [
            "4023aca6d262488fa11ab08fcfa3b1c2"
          ]
        },
        "outputId": "00d87a44-bd06-4009-c8a1-b0023cbf08b1",
        "id": "u-MwHyVuTaaF"
      },
      "execution_count": null,
      "outputs": [
        {
          "output_type": "display_data",
          "data": {
            "application/vnd.jupyter.widget-view+json": {
              "version_major": 2,
              "version_minor": 0,
              "model_id": "4023aca6d262488fa11ab08fcfa3b1c2"
            },
            "text/plain": [
              "FigureWidget({\n",
              "    'data': [{'cells': {'align': 'left',\n",
              "                        'values': [20668.0, 2, 20668.25, 10, 20668.5, 3, 20668.75,\n",
              "                                   3, 20669.0, 9, 20669.25, 6, 20669.5, 10,\n",
              "                                   20669.75, 4, 20670.0, 15, 20670.25, 4]},\n",
              "              'header': {'values': [賣價1, 賣量1, 賣價2, 賣量2, 賣價3, 賣量3, 賣價4, 賣量4, 賣價5,\n",
              "                                    賣量5, 賣價6, 賣量6, 賣價7, 賣量7, 賣價8, 賣量8, 賣價9, 賣量9,\n",
              "                                    賣價10, 賣量10]},\n",
              "              'type': 'table',\n",
              "              'uid': '031fd6d6-4869-40f5-9f52-5acb9684f993'}],\n",
              "    'layout': {'autosize': True, 'template': '...'}\n",
              "})"
            ]
          },
          "metadata": {
            "application/vnd.jupyter.widget-view+json": {
              "colab": {
                "custom_widget_manager": {
                  "url": "https://ssl.gstatic.com/colaboratory-static/widgets/colab-cdn-widget-manager/2b70e893a8ba7c0f/manager.min.js"
                }
              }
            }
          }
        }
      ]
    },
    {
      "cell_type": "markdown",
      "source": [
        "<div class=\"markdown-google-sans\">\n",
        "\n",
        "## <strong>隱含買賣價</strong>\n",
        "</div>\n",
        "透過query_tick_data_implied方法實作,帶入商品代碼\n"
      ],
      "metadata": {
        "id": "fyfDcbl7UKNH"
      }
    },
    {
      "cell_type": "code",
      "source": [
        "tickDataImpliedResponse=api.fquote.query_tick_data_implied(exchange= productid.split('|')[0], symbol= productid.split('|')[1], ym=productid.split('|')[2], cp= productid.split('|')[3], strike=productid.split('|')[4] )\n",
        "if tickDataImpliedResponse.ok == True:\n",
        "  tickdataimplied=tickDataImpliedResponse.data\n",
        "  cur = list(fig_implied.data[0].cells.values)\n",
        "  cur[col_implied['隱含買價']] = tickdataimplied.ImpliedBidPrice\n",
        "  cur[col_implied['隱含買量']] = tickdataimplied.ImpliedBidVolume\n",
        "  cur[col_implied['隱含賣價']] = tickdataimplied.ImpliedOfferPrice\n",
        "  cur[col_implied['隱含賣量']] = tickdataimplied.ImpliedOfferVolume\n",
        "  with fig_implied.batch_update():\n",
        "    fig_implied.data[0].cells.values = cur\n",
        "  display(fig_implied)\n",
        "else:\n",
        "  print('結果 '+tickDataImpliedResponse.error)"
      ],
      "metadata": {
        "colab": {
          "base_uri": "https://localhost:8080/",
          "height": 377,
          "referenced_widgets": [
            "05249d72257f47c4abd8303173c106c3"
          ]
        },
        "id": "VEV3YAhyUbZg",
        "outputId": "f2922381-c7c4-42a2-d1b3-64148ca0a844"
      },
      "execution_count": null,
      "outputs": [
        {
          "output_type": "display_data",
          "data": {
            "application/vnd.jupyter.widget-view+json": {
              "version_major": 2,
              "version_minor": 0,
              "model_id": "05249d72257f47c4abd8303173c106c3"
            },
            "text/plain": [
              "FigureWidget({\n",
              "    'data': [{'cells': {'align': 'left', 'values': [0.0, 0, 0.0, 0, 20697.0, 20603.5, 20633.25, 20666.0, 20633.5, 0.0]},\n",
              "              'header': {'values': ['隱含買價', '隱含買量', '隱含賣價', '隱含賣量', '最高價', '最低價', '開盤價', '收盤價', '目前結算價', '最新結算價']},\n",
              "              'type': 'table',\n",
              "              'uid': '482e3cf7-883b-46bd-9f55-c6e375e538ab'}],\n",
              "    'layout': {'autosize': True, 'template': '...'}\n",
              "})"
            ]
          },
          "metadata": {
            "application/vnd.jupyter.widget-view+json": {
              "colab": {
                "custom_widget_manager": {
                  "url": "https://ssl.gstatic.com/colaboratory-static/widgets/colab-cdn-widget-manager/2b70e893a8ba7c0f/manager.min.js"
                }
              }
            }
          }
        }
      ]
    },
    {
      "cell_type": "markdown",
      "source": [
        "<div class=\"markdown-google-sans\">\n",
        "\n",
        "## <strong>開收盤價</strong>\n",
        "</div>\n",
        "透過query_tick_data_open_close方法實作,帶入商品代碼\n"
      ],
      "metadata": {
        "id": "MUcgsYiRVJQ4"
      }
    },
    {
      "cell_type": "code",
      "source": [
        "tickDataOpencloseResponse=api.fquote.query_tick_data_open_close(exchange= productid.split('|')[0], symbol= productid.split('|')[1], ym=productid.split('|')[2], cp= productid.split('|')[3], strike=productid.split('|')[4] )\n",
        "if tickDataOpencloseResponse.ok == True:\n",
        "  tickdataopenclose=tickDataOpencloseResponse.data\n",
        "  cur = list(fig_implied.data[0].cells.values)\n",
        "  cur[col_implied['開盤價']] = tickdataopenclose.Opening\n",
        "  cur[col_implied['收盤價']] = tickdataopenclose.Closing\n",
        "  with fig_implied.batch_update():\n",
        "    fig_implied.data[0].cells.values = cur\n",
        "  display(fig_implied)\n",
        "else:\n",
        "  print('結果 '+tickDataOpencloseResponse.error)"
      ],
      "metadata": {
        "colab": {
          "base_uri": "https://localhost:8080/",
          "height": 377,
          "referenced_widgets": [
            "05249d72257f47c4abd8303173c106c3"
          ]
        },
        "id": "a_pag9UfVWe2",
        "outputId": "087db6a5-367e-4188-c247-8d081e16fa0d"
      },
      "execution_count": null,
      "outputs": [
        {
          "output_type": "display_data",
          "data": {
            "application/vnd.jupyter.widget-view+json": {
              "version_major": 2,
              "version_minor": 0,
              "model_id": "05249d72257f47c4abd8303173c106c3"
            },
            "text/plain": [
              "FigureWidget({\n",
              "    'data': [{'cells': {'align': 'left', 'values': [0.0, 0, 0.0, 0, 20697.0, 20603.5, 20633.25, 20668.0, 20633.5, 0.0]},\n",
              "              'header': {'values': ['隱含買價', '隱含買量', '隱含賣價', '隱含賣量', '最高價', '最低價', '開盤價', '收盤價', '目前結算價', '最新結算價']},\n",
              "              'type': 'table',\n",
              "              'uid': '482e3cf7-883b-46bd-9f55-c6e375e538ab'}],\n",
              "    'layout': {'autosize': True, 'template': '...'}\n",
              "})"
            ]
          },
          "metadata": {
            "application/vnd.jupyter.widget-view+json": {
              "colab": {
                "custom_widget_manager": {
                  "url": "https://ssl.gstatic.com/colaboratory-static/widgets/colab-cdn-widget-manager/2b70e893a8ba7c0f/manager.min.js"
                }
              }
            }
          }
        }
      ]
    },
    {
      "cell_type": "markdown",
      "source": [
        "<div class=\"markdown-google-sans\">\n",
        "\n",
        "## <strong>最高最低價</strong>\n",
        "</div>\n",
        "透過query_tick_data_high_low方法實作,帶入商品代碼\n"
      ],
      "metadata": {
        "id": "F8XM4RI_WLi8"
      }
    },
    {
      "cell_type": "code",
      "source": [
        "tickDataHighLowResponse=api.fquote.query_tick_data_high_low(exchange= productid.split('|')[0], symbol= productid.split('|')[1], ym=productid.split('|')[2], cp= productid.split('|')[3], strike=productid.split('|')[4] )\n",
        "if tickDataHighLowResponse.ok==True:\n",
        "  tickdatahighlow=tickDataHighLowResponse.data\n",
        "  cur = list(fig_implied.data[0].cells.values)\n",
        "  cur[col_implied['最高價']] = tickdatahighlow.High\n",
        "  cur[col_implied['最低價']] = tickdatahighlow.Low\n",
        "  with fig_implied.batch_update():\n",
        "    fig_implied.data[0].cells.values = cur\n",
        "  display(fig_implied)\n",
        "else:\n",
        "  print('結果 '+tickDataOpencloseResponse.error)"
      ],
      "metadata": {
        "colab": {
          "base_uri": "https://localhost:8080/",
          "height": 377,
          "referenced_widgets": [
            "05249d72257f47c4abd8303173c106c3"
          ]
        },
        "outputId": "a46cfd6d-92b3-4fb4-f3a3-f61a71d90b79",
        "id": "Q1C_4dVYWLi8"
      },
      "execution_count": null,
      "outputs": [
        {
          "output_type": "display_data",
          "data": {
            "application/vnd.jupyter.widget-view+json": {
              "version_major": 2,
              "version_minor": 0,
              "model_id": "05249d72257f47c4abd8303173c106c3"
            },
            "text/plain": [
              "FigureWidget({\n",
              "    'data': [{'cells': {'align': 'left', 'values': [0.0, 0, 0.0, 0, 20697.0, 20603.5, 20633.25, 20668.0, 20633.5, 0.0]},\n",
              "              'header': {'values': ['隱含買價', '隱含買量', '隱含賣價', '隱含賣量', '最高價', '最低價', '開盤價', '收盤價', '目前結算價', '最新結算價']},\n",
              "              'type': 'table',\n",
              "              'uid': '482e3cf7-883b-46bd-9f55-c6e375e538ab'}],\n",
              "    'layout': {'autosize': True, 'template': '...'}\n",
              "})"
            ]
          },
          "metadata": {
            "application/vnd.jupyter.widget-view+json": {
              "colab": {
                "custom_widget_manager": {
                  "url": "https://ssl.gstatic.com/colaboratory-static/widgets/colab-cdn-widget-manager/2b70e893a8ba7c0f/manager.min.js"
                }
              }
            }
          }
        }
      ]
    },
    {
      "cell_type": "markdown",
      "source": [
        "<div class=\"markdown-google-sans\">\n",
        "\n",
        "## <strong>結算價</strong>\n",
        "</div>\n",
        "透過query_tick_data_settle方法實作,帶入商品代碼\n"
      ],
      "metadata": {
        "id": "YCHuhicBVp91"
      }
    },
    {
      "cell_type": "code",
      "source": [
        "tickDataSettleResponse=api.fquote.query_tick_data_settle(exchange= productid.split('|')[0], symbol= productid.split('|')[1], ym=productid.split('|')[2], cp= productid.split('|')[3], strike=productid.split('|')[4] )\n",
        "if tickDataSettleResponse.ok==True:\n",
        "  tickdatasettle=tickDataSettleResponse.data\n",
        "  cur = list(fig_implied.data[0].cells.values)\n",
        "  cur[col_implied['目前結算價']] = tickdatasettle.CurrStl\n",
        "  cur[col_implied['最新結算價']] = tickdatasettle.NewStl\n",
        "  with fig_implied.batch_update():\n",
        "    fig_implied.data[0].cells.values = cur\n",
        "  display(fig_implied)\n",
        "else:\n",
        "  print('結果 '+tickDataSettleResponse.error)"
      ],
      "metadata": {
        "colab": {
          "base_uri": "https://localhost:8080/",
          "height": 377,
          "referenced_widgets": [
            "05249d72257f47c4abd8303173c106c3"
          ]
        },
        "id": "kfONh14VVyoa",
        "outputId": "de0e5078-14c5-4a6f-81fd-7b8033b2d0e3"
      },
      "execution_count": null,
      "outputs": [
        {
          "output_type": "display_data",
          "data": {
            "application/vnd.jupyter.widget-view+json": {
              "version_major": 2,
              "version_minor": 0,
              "model_id": "05249d72257f47c4abd8303173c106c3"
            },
            "text/plain": [
              "FigureWidget({\n",
              "    'data': [{'cells': {'align': 'left', 'values': [0.0, 0, 0.0, 0, 20697.0, 20603.5, 20633.25, 20668.0, 20633.5, 0.0]},\n",
              "              'header': {'values': ['隱含買價', '隱含買量', '隱含賣價', '隱含賣量', '最高價', '最低價', '開盤價', '收盤價', '目前結算價', '最新結算價']},\n",
              "              'type': 'table',\n",
              "              'uid': '482e3cf7-883b-46bd-9f55-c6e375e538ab'}],\n",
              "    'layout': {'autosize': True, 'template': '...'}\n",
              "})"
            ]
          },
          "metadata": {
            "application/vnd.jupyter.widget-view+json": {
              "colab": {
                "custom_widget_manager": {
                  "url": "https://ssl.gstatic.com/colaboratory-static/widgets/colab-cdn-widget-manager/2b70e893a8ba7c0f/manager.min.js"
                }
              }
            }
          }
        }
      ]
    },
    {
      "cell_type": "markdown",
      "source": [
        "<div class=\"markdown-google-sans\">\n",
        "\n",
        "# <strong>接收即時行情</strong>\n",
        "</div>"
      ],
      "metadata": {
        "id": "9DE-qfXM-f-W"
      }
    },
    {
      "cell_type": "markdown",
      "source": [
        "\n",
        "<div class=\"markdown-google-sans\">\n",
        "\n",
        "## <strong>*定義接收處理fucttion*</strong>\n",
        "</div>"
      ],
      "metadata": {
        "id": "8sD82KBj45YL"
      }
    },
    {
      "cell_type": "markdown",
      "source": [
        "<div class=\"markdown-google-sans\">\n",
        "\n",
        "### <strong>*成交價量*</strong>\n",
        "</div>"
      ],
      "metadata": {
        "id": "VtrVF1XbVv9r"
      }
    },
    {
      "cell_type": "code",
      "source": [
        "def on_tick_data_trade(tickdatatrade: FTickDataTrade):\n",
        "  cur = list(fig_match.data[0].cells.values)\n",
        "  cur[col_match['成交時間']] =tickdatatrade.time\n",
        "  cur[col_match['成交價']] = tickdatatrade.lastprice\n",
        "  cur[col_match['成交量'] ]= tickdatatrade.lastvolume\n",
        "  with fig_match.batch_update():\n",
        "    fig_match.data[0].cells.values = cur"
      ],
      "metadata": {
        "id": "Dj1BkO-abJZF"
      },
      "execution_count": null,
      "outputs": []
    },
    {
      "cell_type": "markdown",
      "source": [
        "<div class=\"markdown-google-sans\">\n",
        "\n",
        "### <strong>*最佳買價*</strong>\n",
        "</div>"
      ],
      "metadata": {
        "id": "SiBQ4y1KbAo5"
      }
    },
    {
      "cell_type": "code",
      "source": [
        "def on_tick_data_bid(tickdatabid: FTickDataBid):\n",
        "    cur = list(fig_bid.data[0].cells.values)\n",
        "    cur[col_bid['買價1']] =tickdatabid.BidDOM1Price\n",
        "    cur[col_bid['買量1']] =tickdatabid.BidDOM1Volume\n",
        "    cur[col_bid['買價2']] =tickdatabid.BidDOM2Price\n",
        "    cur[col_bid['買量2']] =tickdatabid.BidDOM2Volume\n",
        "    cur[col_bid['買價3']] =tickdatabid.BidDOM3Price\n",
        "    cur[col_bid['買量3']] =tickdatabid.BidDOM3Volume\n",
        "    cur[col_bid['買價4']] =tickdatabid.BidDOM4Price\n",
        "    cur[col_bid['買量4']] =tickdatabid.BidDOM4Volume\n",
        "    cur[col_bid['買價5']] =tickdatabid.BidDOM5Price\n",
        "    cur[col_bid['買量5']] =tickdatabid.BidDOM5Volume\n",
        "    cur[col_bid['買價6']] =tickdatabid.BidDOM6Price\n",
        "    cur[col_bid['買量6']] =tickdatabid.BidDOM6Volume\n",
        "    cur[col_bid['買價7']] =tickdatabid.BidDOM7Price\n",
        "    cur[col_bid['買量7']] =tickdatabid.BidDOM7Volume\n",
        "    cur[col_bid['買價8']] =tickdatabid.BidDOM8Price\n",
        "    cur[col_bid['買量8']] =tickdatabid.BidDOM8Volume\n",
        "    cur[col_bid['買價9']] =tickdatabid.BidDOM9Price\n",
        "    cur[col_bid['買量9']] =tickdatabid.BidDOM9Volume\n",
        "    cur[col_bid['買價10']] =tickdatabid.BidDOM10Price\n",
        "    cur[col_bid['買量10']] =tickdatabid.BidDOM10Volume\n",
        "    with fig_bid.batch_update():\n",
        "        fig_bid.data[0].cells.values = cur"
      ],
      "metadata": {
        "id": "87h2d41zbL3s"
      },
      "execution_count": null,
      "outputs": []
    },
    {
      "cell_type": "markdown",
      "source": [
        "<div class=\"markdown-google-sans\">\n",
        "\n",
        "### <strong>*最佳賣價*</strong>\n",
        "</div>"
      ],
      "metadata": {
        "id": "q9BTkF8BbER5"
      }
    },
    {
      "cell_type": "code",
      "source": [
        "def on_tick_data_offer(tickdataOffer: FTickDataOffer):\n",
        "    cur = list(fig_off.data[0].cells.values)\n",
        "    cur[col_off['賣價1']] =tickdataOffer.OfferDOM1Price\n",
        "    cur[col_off['賣量1']] =tickdataOffer.OfferDOM1Volume\n",
        "    cur[col_off['賣價2']] =tickdataOffer.OfferDOM2Price\n",
        "    cur[col_off['賣量2']] =tickdataOffer.OfferDOM2Volume\n",
        "    cur[col_off['賣價3']] =tickdataOffer.OfferDOM3Price\n",
        "    cur[col_off['賣量3']] =tickdataOffer.OfferDOM3Volume\n",
        "    cur[col_off['賣價4']] =tickdataOffer.OfferDOM4Price\n",
        "    cur[col_off['賣量4']] =tickdataOffer.OfferDOM4Volume\n",
        "    cur[col_off['賣價5']] =tickdataOffer.OfferDOM5Price\n",
        "    cur[col_off['賣量5']] =tickdataOffer.OfferDOM5Volume\n",
        "    cur[col_off['賣價6']] =tickdataOffer.OfferDOM6Price\n",
        "    cur[col_off['賣量6']] =tickdataOffer.OfferDOM6Volume\n",
        "    cur[col_off['賣價7']] =tickdataOffer.OfferDOM7Price\n",
        "    cur[col_off['賣量7']] =tickdataOffer.OfferDOM7Volume\n",
        "    cur[col_off['賣價8']] =tickdataOffer.OfferDOM8Price\n",
        "    cur[col_off['賣量8']] =tickdataOffer.OfferDOM8Volume\n",
        "    cur[col_off['賣價9']] =tickdataOffer.OfferDOM9Price\n",
        "    cur[col_off['賣量9']] =tickdataOffer.OfferDOM9Volume\n",
        "    cur[col_off['賣價10']] =tickdataOffer.OfferDOM10Price\n",
        "    cur[col_off['賣量10']] =tickdataOffer.OfferDOM10Volume\n",
        "    with fig_off.batch_update():\n",
        "        fig_off.data[0].cells.values = cur"
      ],
      "metadata": {
        "id": "Ujtusud_bOF7"
      },
      "execution_count": null,
      "outputs": []
    },
    {
      "cell_type": "markdown",
      "source": [
        "<div class=\"markdown-google-sans\">\n",
        "\n",
        "### <strong>*隱含買賣價*</strong>\n",
        "</div>"
      ],
      "metadata": {
        "id": "7jKXYvZ7beCk"
      }
    },
    {
      "cell_type": "code",
      "source": [
        "def on_tick_data_implied(ticksataimplied: FTickDataImplied):\n",
        "  cur = list(fig_implied.data[0].cells.values)\n",
        "  cur[col_implied['隱含買價']] = tickdataimplied.ImpliedBidPrice\n",
        "  cur[col_implied['隱含買量']] = tickdataimplied.ImpliedBidVolume\n",
        "  cur[col_implied['隱含賣價']] = tickdataimplied.ImpliedOfferPrice\n",
        "  cur[col_implied['隱含賣量']] = tickdataimplied.ImpliedOfferVolume\n",
        "  with fig_implied.batch_update():\n",
        "    fig_implied.data[0].cells.values = cur"
      ],
      "metadata": {
        "id": "-B9wzV4xcx-k"
      },
      "execution_count": null,
      "outputs": []
    },
    {
      "cell_type": "markdown",
      "source": [
        "<div class=\"markdown-google-sans\">\n",
        "\n",
        "### <strong>*開收盤價*</strong>\n",
        "</div>"
      ],
      "metadata": {
        "id": "Jfq1zDbMbebN"
      }
    },
    {
      "cell_type": "code",
      "source": [
        "def on_tick_data_open_close(tickdataopenclose: FTickDataOpenclose):\n",
        "  cur = list(fig_implied.data[0].cells.values)\n",
        "  cur[col_implied['開盤價']] = tickdataopenclose.Opening\n",
        "  cur[col_implied['收盤價']] = tickdataopenclose.Closing\n",
        "  with fig_implied.batch_update():\n",
        "    fig_implied.data[0].cells.values = cur\n"
      ],
      "metadata": {
        "id": "7WKaxRUZdCiu"
      },
      "execution_count": null,
      "outputs": []
    },
    {
      "cell_type": "markdown",
      "source": [
        "<div class=\"markdown-google-sans\">\n",
        "\n",
        "### <strong>*最高最低價*</strong>\n",
        "</div>"
      ],
      "metadata": {
        "id": "AK52R3rwd7Xe"
      }
    },
    {
      "cell_type": "code",
      "source": [
        "def on_tick_data_high_low(tickdatahighlow: FTickDataHighLow):\n",
        "    cur = list(fig_implied.data[0].cells.values)\n",
        "    cur[col_implied['最高價']] = tickdatahighlow.High\n",
        "    cur[col_implied['最低價']] = tickdatahighlow.Low\n",
        "    with fig_implied.batch_update():\n",
        "        fig_implied.data[0].cells.values = cur\n"
      ],
      "metadata": {
        "id": "FcuB-5BreCK4"
      },
      "execution_count": null,
      "outputs": []
    },
    {
      "cell_type": "markdown",
      "source": [
        "<div class=\"markdown-google-sans\">\n",
        "\n",
        "### <strong>*結算價*</strong>\n",
        "</div>"
      ],
      "metadata": {
        "id": "mXYanJ_WbeoM"
      }
    },
    {
      "cell_type": "code",
      "source": [
        "def on_tick_data_settle(tickdatasettle: FTickDataSettle):\n",
        "  cur = list(fig_implied.data[0].cells.values)\n",
        "  cur[col_implied['目前結算價']] = tickdatasettle.CurrStl\n",
        "  cur[col_implied['最新結算價']] = tickdatasettle.NewStl\n",
        "  with fig_implied.batch_update():\n",
        "    fig_implied.data[0].cells.values = cur"
      ],
      "metadata": {
        "id": "vqKf62FPdokL"
      },
      "execution_count": null,
      "outputs": []
    },
    {
      "cell_type": "markdown",
      "source": [
        "<div class=\"markdown-google-sans\">\n",
        "\n",
        "## <strong>*註冊*</strong>\n",
        "</div>"
      ],
      "metadata": {
        "id": "nL-Flwnea70D"
      }
    },
    {
      "cell_type": "code",
      "source": [
        "productid='CME|NQ|202412|F|' #商品代碼\n",
        "api.fquote.on_tick_data_trade = on_tick_data_trade\n",
        "api.fquote.on_tick_data_bid = on_tick_data_bid\n",
        "api.fquote.on_tick_data_offer = on_tick_data_offer\n",
        "api.fquote.on_tick_data_implied = on_tick_data_implied\n",
        "api.fquote.on_tick_data_high_low = on_tick_data_high_low\n",
        "api.fquote.on_tick_data_open_close = on_tick_data_open_close\n",
        "api.fquote.on_tick_data_settle = on_tick_data_settle\n",
        "subok, msg = api.fquote.subscribe(exchange=productid.split('|')[0], symbol=productid.split(\n",
        "        '|')[1], ym=productid.split('|')[2], cp=productid.split('|')[3], strike=productid.split('|')[4])\n",
        "print(f'註冊報價 {productid} {subok} {msg}')\n",
        "display(fig_match)\n",
        "display(fig_bid)\n",
        "display(fig_off)"
      ],
      "metadata": {
        "colab": {
          "base_uri": "https://localhost:8080/",
          "referenced_widgets": [
            "239761796bb04ca5a3e30446d63760ec",
            "80dea6ac95084f56aa9f3368189d2b48",
            "4023aca6d262488fa11ab08fcfa3b1c2"
          ]
        },
        "id": "Lw7YWtFyXeff",
        "outputId": "17fe5c2d-dcee-42f6-bc16-4f69852fa1e7"
      },
      "execution_count": null,
      "outputs": [
        {
          "output_type": "stream",
          "name": "stdout",
          "text": [
            "註冊報價 CME|NQ|202412|F| True \n"
          ]
        },
        {
          "output_type": "display_data",
          "data": {
            "application/vnd.jupyter.widget-view+json": {
              "version_major": 2,
              "version_minor": 0,
              "model_id": "239761796bb04ca5a3e30446d63760ec"
            },
            "text/plain": [
              "FigureWidget({\n",
              "    'data': [{'cells': {'align': 'left', 'values': ['155308736', 20676.5, 1]},\n",
              "              'header': {'values': ['成交時間', '成交價', '成交量']},\n",
              "              'type': 'table',\n",
              "              'uid': '0ee7801f-efd2-42c0-894e-f6c39e0d078f'}],\n",
              "    'layout': {'autosize': True, 'template': '...'}\n",
              "})"
            ]
          },
          "metadata": {
            "application/vnd.jupyter.widget-view+json": {
              "colab": {
                "custom_widget_manager": {
                  "url": "https://ssl.gstatic.com/colaboratory-static/widgets/colab-cdn-widget-manager/2b70e893a8ba7c0f/manager.min.js"
                }
              }
            }
          }
        },
        {
          "output_type": "display_data",
          "data": {
            "application/vnd.jupyter.widget-view+json": {
              "version_major": 2,
              "version_minor": 0,
              "model_id": "80dea6ac95084f56aa9f3368189d2b48"
            },
            "text/plain": [
              "FigureWidget({\n",
              "    'data': [{'cells': {'align': 'left',\n",
              "                        'values': [20676.25, 2, 20676.0, 3, 20675.75, 3, 20675.5,\n",
              "                                   6, 20675.25, 3, 20675.0, 7, 20674.75, 6,\n",
              "                                   20674.5, 8, 20674.25, 6, 20674.0, 11]},\n",
              "              'header': {'values': [買價1, 買量1, 買價2, 買量2, 買價3, 買量3, 買價4, 買量4, 買價5,\n",
              "                                    買量5, 買價6, 買量6, 買價7, 買量7, 買價8, 買量8, 買價9, 買量9,\n",
              "                                    買價10, 買量10]},\n",
              "              'type': 'table',\n",
              "              'uid': '4b6fd2d7-2277-42b9-b497-588b76c3fd0f'}],\n",
              "    'layout': {'autosize': True, 'template': '...'}\n",
              "})"
            ]
          },
          "metadata": {
            "application/vnd.jupyter.widget-view+json": {
              "colab": {
                "custom_widget_manager": {
                  "url": "https://ssl.gstatic.com/colaboratory-static/widgets/colab-cdn-widget-manager/2b70e893a8ba7c0f/manager.min.js"
                }
              }
            }
          }
        },
        {
          "output_type": "display_data",
          "data": {
            "application/vnd.jupyter.widget-view+json": {
              "version_major": 2,
              "version_minor": 0,
              "model_id": "4023aca6d262488fa11ab08fcfa3b1c2"
            },
            "text/plain": [
              "FigureWidget({\n",
              "    'data': [{'cells': {'align': 'left',\n",
              "                        'values': [20677.0, 1, 20677.25, 3, 20677.5, 1, 20677.75,\n",
              "                                   4, 20678.0, 4, 20678.25, 16, 20678.5, 3,\n",
              "                                   20678.75, 6, 20679.0, 10, 20679.25, 5]},\n",
              "              'header': {'values': [賣價1, 賣量1, 賣價2, 賣量2, 賣價3, 賣量3, 賣價4, 賣量4, 賣價5,\n",
              "                                    賣量5, 賣價6, 賣量6, 賣價7, 賣量7, 賣價8, 賣量8, 賣價9, 賣量9,\n",
              "                                    賣價10, 賣量10]},\n",
              "              'type': 'table',\n",
              "              'uid': '031fd6d6-4869-40f5-9f52-5acb9684f993'}],\n",
              "    'layout': {'autosize': True, 'template': '...'}\n",
              "})"
            ]
          },
          "metadata": {
            "application/vnd.jupyter.widget-view+json": {
              "colab": {
                "custom_widget_manager": {
                  "url": "https://ssl.gstatic.com/colaboratory-static/widgets/colab-cdn-widget-manager/2b70e893a8ba7c0f/manager.min.js"
                }
              }
            }
          }
        }
      ]
    },
    {
      "cell_type": "markdown",
      "source": [
        "<div class=\"markdown-google-sans\">\n",
        "\n",
        "##<strong>*反註冊*</strong>\n",
        "</div>"
      ],
      "metadata": {
        "id": "E04iPtWa-2Vq"
      }
    },
    {
      "cell_type": "code",
      "execution_count": null,
      "metadata": {
        "colab": {
          "base_uri": "https://localhost:8080/"
        },
        "id": "a3hCRWYVhqIm",
        "outputId": "2542b259-3560-438e-a3fe-f53b25ad1d5d"
      },
      "outputs": [
        {
          "output_type": "stream",
          "name": "stdout",
          "text": [
            "反註冊報價 CME|NQ|202412|F| True \n"
          ]
        }
      ],
      "source": [
        "#反註冊現貨價量接收\n",
        "unsub_ok,msg=api.fquote.unsubscribe(exchange=productid.split('|')[0], symbol=productid.split(\n",
        "        '|')[1], ym=productid.split('|')[2], cp=productid.split('|')[3], strike=productid.split('|')[4])\n",
        "print(f'反註冊報價 {productid} {subok} {msg}')"
      ]
    },
    {
      "cell_type": "markdown",
      "source": [
        "<div class=\"markdown-google-sans\">\n",
        "\n",
        "# <strong>*系統登出*</strong>\n",
        "</div>\n"
      ],
      "metadata": {
        "id": "JfIM_Cu4-4ZH"
      }
    },
    {
      "cell_type": "code",
      "execution_count": null,
      "metadata": {
        "scrolled": true,
        "colab": {
          "base_uri": "https://localhost:8080/"
        },
        "id": "tCNo21yWhqIn",
        "outputId": "79c7ef33-e7c9-42e4-9b0b-dc0f9e7986ae"
      },
      "outputs": [
        {
          "output_type": "stream",
          "name": "stdout",
          "text": [
            "登出完畢\n",
            "登入旗標False\n"
          ]
        }
      ],
      "source": [
        "#系統登出\n",
        "api.logout()\n",
        "print('登出完畢')\n",
        "print(f\"登入旗標{api.login_status_flag}\")\n"
      ]
    }
  ],
  "metadata": {
    "kernelspec": {
      "display_name": "venv",
      "language": "python",
      "name": "python3"
    },
    "language_info": {
      "codemirror_mode": {
        "name": "ipython",
        "version": 3
      },
      "file_extension": ".py",
      "mimetype": "text/x-python",
      "name": "python",
      "nbconvert_exporter": "python",
      "pygments_lexer": "ipython3",
      "version": "3.12.7"
    },
    "colab": {
      "provenance": [],
      "collapsed_sections": [
        "VtrVF1XbVv9r",
        "SiBQ4y1KbAo5",
        "nL-Flwnea70D",
        "JfIM_Cu4-4ZH"
      ],
      "toc_visible": true,
      "include_colab_link": true
    },
    "widgets": {
      "application/vnd.jupyter.widget-state+json": {
        "239761796bb04ca5a3e30446d63760ec": {
          "model_module": "jupyterlab-plotly",
          "model_name": "FigureModel",
          "model_module_version": "^5.24.1",
          "state": {
            "_config": {
              "plotlyServerURL": "https://plot.ly"
            },
            "_data": [
              {
                "cells": {
                  "align": "left",
                  "values": [
                    [
                      ""
                    ],
                    [
                      ""
                    ],
                    [
                      ""
                    ]
                  ]
                },
                "header": {
                  "values": [
                    "成交時間",
                    "成交價",
                    "成交量"
                  ]
                },
                "type": "table",
                "uid": "0ee7801f-efd2-42c0-894e-f6c39e0d078f"
              }
            ],
            "_dom_classes": [],
            "_js2py_layoutDelta": null,
            "_js2py_pointsCallback": {},
            "_js2py_relayout": null,
            "_js2py_restyle": {},
            "_js2py_traceDeltas": null,
            "_js2py_update": {},
            "_last_layout_edit_id": 107,
            "_last_trace_edit_id": 101,
            "_layout": {},
            "_model_module": "jupyterlab-plotly",
            "_model_module_version": "^5.24.1",
            "_model_name": "FigureModel",
            "_py2js_addTraces": {},
            "_py2js_animate": {},
            "_py2js_deleteTraces": {},
            "_py2js_moveTraces": {},
            "_py2js_relayout": null,
            "_py2js_removeLayoutProps": null,
            "_py2js_removeTraceProps": {},
            "_py2js_restyle": {},
            "_py2js_update": null,
            "_view_count": 6,
            "_view_module": "jupyterlab-plotly",
            "_view_module_version": "^5.24.1",
            "_view_name": "FigureView"
          }
        },
        "80dea6ac95084f56aa9f3368189d2b48": {
          "model_module": "jupyterlab-plotly",
          "model_name": "FigureModel",
          "model_module_version": "^5.24.1",
          "state": {
            "_config": {
              "plotlyServerURL": "https://plot.ly"
            },
            "_data": [
              {
                "cells": {
                  "align": "left",
                  "values": [
                    [
                      ""
                    ],
                    [
                      ""
                    ],
                    [
                      ""
                    ],
                    [
                      ""
                    ],
                    [
                      ""
                    ],
                    [
                      ""
                    ],
                    [
                      ""
                    ],
                    [
                      ""
                    ],
                    [
                      ""
                    ],
                    [
                      ""
                    ],
                    [
                      ""
                    ],
                    [
                      ""
                    ],
                    [
                      ""
                    ],
                    [
                      ""
                    ],
                    [
                      ""
                    ],
                    [
                      ""
                    ],
                    [
                      ""
                    ],
                    [
                      ""
                    ],
                    [
                      ""
                    ],
                    [
                      ""
                    ]
                  ]
                },
                "header": {
                  "values": [
                    "買價1",
                    "買量1",
                    "買價2",
                    "買量2",
                    "買價3",
                    "買量3",
                    "買價4",
                    "買量4",
                    "買價5",
                    "買量5",
                    "買價6",
                    "買量6",
                    "買價7",
                    "買量7",
                    "買價8",
                    "買量8",
                    "買價9",
                    "買量9",
                    "買價10",
                    "買量10"
                  ]
                },
                "type": "table",
                "uid": "4b6fd2d7-2277-42b9-b497-588b76c3fd0f"
              }
            ],
            "_dom_classes": [],
            "_js2py_layoutDelta": null,
            "_js2py_pointsCallback": {},
            "_js2py_relayout": null,
            "_js2py_restyle": {},
            "_js2py_traceDeltas": null,
            "_js2py_update": {},
            "_last_layout_edit_id": 91,
            "_last_trace_edit_id": 87,
            "_layout": {},
            "_model_module": "jupyterlab-plotly",
            "_model_module_version": "^5.24.1",
            "_model_name": "FigureModel",
            "_py2js_addTraces": {},
            "_py2js_animate": {},
            "_py2js_deleteTraces": {},
            "_py2js_moveTraces": {},
            "_py2js_relayout": null,
            "_py2js_removeLayoutProps": null,
            "_py2js_removeTraceProps": {},
            "_py2js_restyle": {},
            "_py2js_update": null,
            "_view_count": 5,
            "_view_module": "jupyterlab-plotly",
            "_view_module_version": "^5.24.1",
            "_view_name": "FigureView"
          }
        },
        "4023aca6d262488fa11ab08fcfa3b1c2": {
          "model_module": "jupyterlab-plotly",
          "model_name": "FigureModel",
          "model_module_version": "^5.24.1",
          "state": {
            "_config": {
              "plotlyServerURL": "https://plot.ly"
            },
            "_data": [
              {
                "cells": {
                  "align": "left",
                  "values": [
                    [
                      ""
                    ],
                    [
                      ""
                    ],
                    [
                      ""
                    ],
                    [
                      ""
                    ],
                    [
                      ""
                    ],
                    [
                      ""
                    ],
                    [
                      ""
                    ],
                    [
                      ""
                    ],
                    [
                      ""
                    ],
                    [
                      ""
                    ],
                    [
                      ""
                    ],
                    [
                      ""
                    ],
                    [
                      ""
                    ],
                    [
                      ""
                    ],
                    [
                      ""
                    ],
                    [
                      ""
                    ],
                    [
                      ""
                    ],
                    [
                      ""
                    ],
                    [
                      ""
                    ],
                    [
                      ""
                    ]
                  ]
                },
                "header": {
                  "values": [
                    "賣價1",
                    "賣量1",
                    "賣價2",
                    "賣量2",
                    "賣價3",
                    "賣量3",
                    "賣價4",
                    "賣量4",
                    "賣價5",
                    "賣量5",
                    "賣價6",
                    "賣量6",
                    "賣價7",
                    "賣量7",
                    "賣價8",
                    "賣量8",
                    "賣價9",
                    "賣量9",
                    "賣價10",
                    "賣量10"
                  ]
                },
                "type": "table",
                "uid": "031fd6d6-4869-40f5-9f52-5acb9684f993"
              }
            ],
            "_dom_classes": [],
            "_js2py_layoutDelta": null,
            "_js2py_pointsCallback": {},
            "_js2py_relayout": null,
            "_js2py_restyle": {},
            "_js2py_traceDeltas": null,
            "_js2py_update": {},
            "_last_layout_edit_id": 113,
            "_last_trace_edit_id": 109,
            "_layout": {},
            "_model_module": "jupyterlab-plotly",
            "_model_module_version": "^5.24.1",
            "_model_name": "FigureModel",
            "_py2js_addTraces": {},
            "_py2js_animate": {},
            "_py2js_deleteTraces": {},
            "_py2js_moveTraces": {},
            "_py2js_relayout": null,
            "_py2js_removeLayoutProps": null,
            "_py2js_removeTraceProps": {},
            "_py2js_restyle": {},
            "_py2js_update": null,
            "_view_count": 5,
            "_view_module": "jupyterlab-plotly",
            "_view_module_version": "^5.24.1",
            "_view_name": "FigureView"
          }
        },
        "05249d72257f47c4abd8303173c106c3": {
          "model_module": "jupyterlab-plotly",
          "model_name": "FigureModel",
          "model_module_version": "^5.24.1",
          "state": {
            "_config": {
              "plotlyServerURL": "https://plot.ly"
            },
            "_data": [
              {
                "cells": {
                  "align": "left",
                  "values": [
                    [
                      ""
                    ],
                    [
                      ""
                    ],
                    [
                      ""
                    ],
                    [
                      ""
                    ],
                    [
                      ""
                    ],
                    [
                      ""
                    ],
                    [
                      ""
                    ],
                    [
                      ""
                    ],
                    [
                      ""
                    ],
                    [
                      ""
                    ]
                  ]
                },
                "header": {
                  "values": [
                    "隱含買價",
                    "隱含買量",
                    "隱含賣價",
                    "隱含賣量",
                    "最高價",
                    "最低價",
                    "開盤價",
                    "收盤價",
                    "目前結算價",
                    "最新結算價"
                  ]
                },
                "type": "table",
                "uid": "482e3cf7-883b-46bd-9f55-c6e375e538ab"
              }
            ],
            "_dom_classes": [],
            "_js2py_layoutDelta": null,
            "_js2py_pointsCallback": {},
            "_js2py_relayout": null,
            "_js2py_restyle": {},
            "_js2py_traceDeltas": null,
            "_js2py_update": {},
            "_last_layout_edit_id": 37,
            "_last_trace_edit_id": 26,
            "_layout": {},
            "_model_module": "jupyterlab-plotly",
            "_model_module_version": "^5.24.1",
            "_model_name": "FigureModel",
            "_py2js_addTraces": {},
            "_py2js_animate": {},
            "_py2js_deleteTraces": {},
            "_py2js_moveTraces": {},
            "_py2js_relayout": null,
            "_py2js_removeLayoutProps": null,
            "_py2js_removeTraceProps": {},
            "_py2js_restyle": {},
            "_py2js_update": null,
            "_view_count": 11,
            "_view_module": "jupyterlab-plotly",
            "_view_module_version": "^5.24.1",
            "_view_name": "FigureView"
          }
        }
      }
    }
  },
  "nbformat": 4,
  "nbformat_minor": 0
}