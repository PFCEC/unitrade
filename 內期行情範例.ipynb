{
  "cells": [
    {
      "cell_type": "markdown",
      "metadata": {
        "id": "view-in-github",
        "colab_type": "text"
      },
      "source": [
        "<a href=\"https://colab.research.google.com/github/PFCEC/unitrade/blob/main/%E5%85%A7%E6%9C%9F%E8%A1%8C%E6%83%85%E7%AF%84%E4%BE%8B.ipynb\" target=\"_parent\"><img src=\"https://colab.research.google.com/assets/colab-badge.svg\" alt=\"Open In Colab\"/></a>"
      ]
    },
    {
      "cell_type": "markdown",
      "source": [
        "<div class=\"markdown-google-sans\">\n",
        "\n",
        "# <strong>事先準備</strong>\n",
        "</div>"
      ],
      "metadata": {
        "id": "HImbuf--E6qi"
      }
    },
    {
      "cell_type": "markdown",
      "metadata": {
        "id": "u3RO0BeThqIg"
      },
      "source": [
        "<div class=\"markdown-google-sans\">\n",
        "\n",
        "## <strong>安裝plotly</strong>\n",
        "</div>\n",
        "範例會使用plotly表格呈現,請先安裝plotly<br/>\n"
      ]
    },
    {
      "cell_type": "code",
      "execution_count": null,
      "metadata": {
        "scrolled": true,
        "colab": {
          "base_uri": "https://localhost:8080/"
        },
        "id": "vGjcJZ1hhqIi",
        "outputId": "5be822e4-5fc2-41f5-d4f6-8448b375ac0b"
      },
      "outputs": [
        {
          "output_type": "stream",
          "name": "stdout",
          "text": [
            "Requirement already satisfied: plotly in /usr/local/lib/python3.10/dist-packages (5.24.1)\n",
            "Requirement already satisfied: tenacity>=6.2.0 in /usr/local/lib/python3.10/dist-packages (from plotly) (9.0.0)\n",
            "Requirement already satisfied: packaging in /usr/local/lib/python3.10/dist-packages (from plotly) (24.2)\n"
          ]
        }
      ],
      "source": [
        "!pip install plotly"
      ]
    },
    {
      "cell_type": "markdown",
      "source": [
        "<div class=\"markdown-google-sans\">\n",
        "\n",
        "## <strong>載入plotly和設定渲染器</strong>\n",
        "</div>\n",
        "並且為了colab可以瀏覽,請透過以下指令設定"
      ],
      "metadata": {
        "id": "wNRM9Ak4Kqcy"
      }
    },
    {
      "cell_type": "code",
      "source": [
        "#匯入顯示表格套件\n",
        "import plotly.graph_objs as go\n",
        "from plotly.offline import init_notebook_mode\n",
        "import plotly.io as pio\n",
        "pio.renderers.default = 'colab'  # 或嘗試 'notebook' 或 'iframe' 渲染器\n",
        "from google.colab import output\n",
        "output.enable_custom_widget_manager()\n",
        "init_notebook_mode(connected=True)\n",
        "\n"
      ],
      "metadata": {
        "colab": {
          "base_uri": "https://localhost:8080/",
          "height": 17
        },
        "id": "Pa9JbL-OKvLc",
        "outputId": "7e319e0a-82c3-422b-842a-96339b2c12b2"
      },
      "execution_count": null,
      "outputs": [
        {
          "output_type": "display_data",
          "data": {
            "text/html": [
              "        <script type=\"text/javascript\">\n",
              "        window.PlotlyConfig = {MathJaxConfig: 'local'};\n",
              "        if (window.MathJax && window.MathJax.Hub && window.MathJax.Hub.Config) {window.MathJax.Hub.Config({SVG: {font: \"STIX-Web\"}});}\n",
              "        if (typeof require !== 'undefined') {\n",
              "        require.undef(\"plotly\");\n",
              "        requirejs.config({\n",
              "            paths: {\n",
              "                'plotly': ['https://cdn.plot.ly/plotly-2.35.2.min']\n",
              "            }\n",
              "        });\n",
              "        require(['plotly'], function(Plotly) {\n",
              "            window._Plotly = Plotly;\n",
              "        });\n",
              "        }\n",
              "        </script>\n",
              "        "
            ]
          },
          "metadata": {}
        }
      ]
    },
    {
      "cell_type": "markdown",
      "source": [
        "<div class=\"markdown-google-sans\">\n",
        "\n",
        "## <strong>範例欄位設定</strong>\n",
        "</div>\n",
        "定義顯示欄位<br/>"
      ],
      "metadata": {
        "id": "5gq-JxR0A_XM"
      }
    },
    {
      "cell_type": "code",
      "source": [
        "from typing import List\n",
        "# 初始數據\n",
        "head_match = dict(values=['成交時間', '成交價','成交量'])\n",
        "head_bs5 = dict(values=['買價1','買量1' ,'買價2','買量2' ,'買價3','買量3' ,'買價4','買量4' ,'買價5','買量5',\n",
        "             '賣價1','賣量1' ,'賣價2','賣量2' ,'賣價3','賣量3' ,'賣價4','賣量4' ,'賣價5','賣量5'])\n",
        "head_open = dict(values=['開盤時間','開盤價' ,'開盤量','最高低價時間' ,'最高','最低'])\n",
        "head_idx = dict(values=['現貨統計時間','現貨價格'])\n",
        "# 創建初始表格\n",
        "fig_match = go.FigureWidget(data=[go.Table( header=head_match, cells=dict(values=list(zip(*[['','','']])), align='left'),)])\n",
        "fig_match.update_layout(height=100, margin=dict(t=0, b=0, l=0, r=0),autosize=True)\n",
        "fig_bs5 = go.FigureWidget(data=[go.Table( header=head_bs5, cells=dict(values=list(zip(*[['','','','','','','','','','','','','','','','','','','','']])), align='left'),)])\n",
        "fig_bs5.update_layout(height=100, margin=dict(t=0, b=0, l=0, r=0),autosize=True)\n",
        "fig_open = go.FigureWidget(data=[go.Table( header=head_open, cells=dict(values=list(zip(*[['','','','','','']])), align='left'),)])\n",
        "fig_open.update_layout(height=100, margin=dict(t=0, b=0, l=0, r=0),autosize=True)\n",
        "fig_idx = go.FigureWidget(data=[go.Table( header=head_idx, cells=dict(values=list(zip(*[['','']] )), align='left'),)])\n",
        "fig_idx.update_layout(height=100, margin=dict(t=0, b=0, l=0, r=0),autosize=True)\n",
        "\n",
        "col_match = {header: idx for idx, header in enumerate(head_match['values'])}\n",
        "col_bs5 = {header: idx for idx, header in enumerate(head_bs5['values'])}\n",
        "col_open = {header: idx for idx, header in enumerate(head_open['values'])}\n",
        "col_idx = {header: idx for idx, header in enumerate(head_idx['values'])}"
      ],
      "metadata": {
        "id": "XeLjFJhwA0QQ"
      },
      "execution_count": null,
      "outputs": []
    },
    {
      "cell_type": "markdown",
      "source": [
        "<div class=\"markdown-google-sans\">\n",
        "\n",
        "## <strong>安裝unitrade</strong>\n",
        "</div>"
      ],
      "metadata": {
        "id": "-4s0qdl--EST"
      }
    },
    {
      "cell_type": "code",
      "source": [
        "!pip install unitrade-1.0.0.1-cp310-cp310-manylinux_2_17_x86_64.manylinux2014_x86_64.manylinux_2_28_x86_64.whl"
      ],
      "metadata": {
        "colab": {
          "base_uri": "https://localhost:8080/"
        },
        "id": "pA-GQgr7iIod",
        "outputId": "9944dc89-3bd1-4f34-c5e2-ad2e5080720c"
      },
      "execution_count": null,
      "outputs": [
        {
          "output_type": "stream",
          "name": "stdout",
          "text": [
            "Processing ./unitrade-1.0.0.1-cp310-cp310-manylinux_2_17_x86_64.manylinux2014_x86_64.manylinux_2_28_x86_64.whl\n",
            "Collecting bitarray>=2.3.4 (from unitrade==1.0.0.1)\n",
            "  Downloading bitarray-3.0.0-cp310-cp310-manylinux_2_17_x86_64.manylinux2014_x86_64.whl.metadata (32 kB)\n",
            "Requirement already satisfied: requests in /usr/local/lib/python3.10/dist-packages (from unitrade==1.0.0.1) (2.32.3)\n",
            "Requirement already satisfied: cryptography in /usr/local/lib/python3.10/dist-packages (from unitrade==1.0.0.1) (43.0.3)\n",
            "Requirement already satisfied: cython in /usr/local/lib/python3.10/dist-packages (from unitrade==1.0.0.1) (3.0.11)\n",
            "Requirement already satisfied: numpy in /usr/local/lib/python3.10/dist-packages (from unitrade==1.0.0.1) (1.26.4)\n",
            "Requirement already satisfied: cffi>=1.12 in /usr/local/lib/python3.10/dist-packages (from cryptography->unitrade==1.0.0.1) (1.17.1)\n",
            "Requirement already satisfied: charset-normalizer<4,>=2 in /usr/local/lib/python3.10/dist-packages (from requests->unitrade==1.0.0.1) (3.4.0)\n",
            "Requirement already satisfied: idna<4,>=2.5 in /usr/local/lib/python3.10/dist-packages (from requests->unitrade==1.0.0.1) (3.10)\n",
            "Requirement already satisfied: urllib3<3,>=1.21.1 in /usr/local/lib/python3.10/dist-packages (from requests->unitrade==1.0.0.1) (2.2.3)\n",
            "Requirement already satisfied: certifi>=2017.4.17 in /usr/local/lib/python3.10/dist-packages (from requests->unitrade==1.0.0.1) (2024.8.30)\n",
            "Requirement already satisfied: pycparser in /usr/local/lib/python3.10/dist-packages (from cffi>=1.12->cryptography->unitrade==1.0.0.1) (2.22)\n",
            "Downloading bitarray-3.0.0-cp310-cp310-manylinux_2_17_x86_64.manylinux2014_x86_64.whl (278 kB)\n",
            "\u001b[2K   \u001b[90m━━━━━━━━━━━━━━━━━━━━━━━━━━━━━━━━━━━━━━━━\u001b[0m \u001b[32m278.3/278.3 kB\u001b[0m \u001b[31m9.8 MB/s\u001b[0m eta \u001b[36m0:00:00\u001b[0m\n",
            "\u001b[?25hInstalling collected packages: bitarray, unitrade\n",
            "Successfully installed bitarray-3.0.0 unitrade-1.0.0.1\n"
          ]
        }
      ]
    },
    {
      "cell_type": "markdown",
      "metadata": {
        "id": "eeUwPGjahqIj"
      },
      "source": [
        "<div class=\"markdown-google-sans\">\n",
        "\n",
        "# <strong>初始化</strong>\n",
        "</div>"
      ]
    },
    {
      "cell_type": "code",
      "execution_count": null,
      "metadata": {
        "colab": {
          "base_uri": "https://localhost:8080/"
        },
        "id": "yZxDgooGhqIj",
        "outputId": "81fa299e-3796-4b43-b3f5-3cd9902ae296"
      },
      "outputs": [
        {
          "output_type": "stream",
          "name": "stdout",
          "text": [
            "The package version is 1.0.0.1\n"
          ]
        }
      ],
      "source": [
        "##API初始&登入\n",
        "import unitrade\n",
        "from unitrade.unitrade import *\n",
        "from unitrade.quote.ddata import *\n",
        "#初始API\n",
        "api = Unitrade()"
      ]
    },
    {
      "cell_type": "markdown",
      "source": [
        "<div class=\"markdown-google-sans\">\n",
        "\n",
        "# <strong>登入api</strong>\n",
        "</div>"
      ],
      "metadata": {
        "id": "r1jl1-yE-Yb9"
      }
    },
    {
      "cell_type": "code",
      "execution_count": null,
      "metadata": {
        "colab": {
          "base_uri": "https://localhost:8080/"
        },
        "id": "Yxbg275XhqIk",
        "outputId": "a646fef8-cf09-4166-84c1-5fc4a1bca4da"
      },
      "outputs": [
        {
          "output_type": "stream",
          "name": "stdout",
          "text": [
            "LoginResponse(ok=True, error='')\n",
            "登入旗標True\n",
            "交易帳號['9809769']\n"
          ]
        }
      ],
      "source": [
        "#錯誤事件處理\n",
        "api.on_error = lambda error: print(f'api錯誤 {error}')\n",
        "#系統登入\n",
        "loginresponse = api.login(\n",
        "    \"url\", \"帳號\", \"密碼\", '憑證檔名', '憑證密碼')#url,帳號,密碼,憑證檔名,憑證密碼\n",
        "#loginresponse = api.login(\"http://test167.pfctrade.com\", \"80009809769\", \"Aa123456\", 'PSC_A226097195_20250310.pfx', '12345678')\n",
        "\n",
        "#顯示登入結果\n",
        "print(loginresponse)\n",
        "print(f\"登入旗標{api.login_status_flag}\")\n",
        "print(f\"交易帳號{api.get_accounts()}\")\n"
      ]
    },
    {
      "cell_type": "markdown",
      "source": [
        "<div class=\"markdown-google-sans\">\n",
        "\n",
        "# <strong>查詢行情</strong>\n",
        "</div>"
      ],
      "metadata": {
        "id": "ro9GGoIOFz-k"
      }
    },
    {
      "cell_type": "markdown",
      "source": [
        "\n",
        "<div class=\"markdown-google-sans\">\n",
        "\n",
        "## <strong>成交價量</strong>\n",
        "</div>\n",
        "透過query_tick_data_trade方法實作,帶入商品代碼\n"
      ],
      "metadata": {
        "id": "N1NzkGKCNAWz"
      }
    },
    {
      "cell_type": "code",
      "source": [
        "tickDataTradeResponse=api.dquote.query_tick_data_trade('TXFK4')\n",
        "if tickDataTradeResponse.ok == True:\n",
        "    tickdatatrade=tickDataTradeResponse.data\n",
        "    cur = list(fig_match.data[0].cells.values)\n",
        "    cur[col_match['成交時間']] = tickdatatrade.matchtime\n",
        "    cur[col_match['成交價']] = tickdatatrade.matchprice\n",
        "    cur[col_match['成交量']] = tickdatatrade.matchquantity\n",
        "    with fig_match.batch_update():\n",
        "        fig_match.data[0].cells.values = cur\n",
        "    display(fig_match)\n",
        "else:\n",
        "    print(\"錯誤訊息 \"+tickDataTradeResponse.error)"
      ],
      "metadata": {
        "colab": {
          "base_uri": "https://localhost:8080/",
          "height": 377,
          "referenced_widgets": [
            "1d6f47372f7d41808c362650ab84117d"
          ]
        },
        "id": "2dSVmboBNHEf",
        "outputId": "a9a9e5b4-f9d7-4909-9bbc-fbe9314698b8"
      },
      "execution_count": null,
      "outputs": [
        {
          "output_type": "display_data",
          "data": {
            "application/vnd.jupyter.widget-view+json": {
              "version_major": 2,
              "version_minor": 0,
              "model_id": "1d6f47372f7d41808c362650ab84117d"
            },
            "text/plain": [
              "FigureWidget({\n",
              "    'data': [{'cells': {'align': 'left', 'values': ['113639437000', 22926.0, 1]},\n",
              "              'header': {'values': ['成交時間', '成交價', '成交量']},\n",
              "              'type': 'table',\n",
              "              'uid': '789a5e3c-feed-4b47-96d0-b6eb017b7060'}],\n",
              "    'layout': {'autosize': True, 'template': '...'}\n",
              "})"
            ]
          },
          "metadata": {
            "application/vnd.jupyter.widget-view+json": {
              "colab": {
                "custom_widget_manager": {
                  "url": "https://ssl.gstatic.com/colaboratory-static/widgets/colab-cdn-widget-manager/2b70e893a8ba7c0f/manager.min.js"
                }
              }
            }
          }
        }
      ]
    },
    {
      "cell_type": "markdown",
      "source": [
        "<div class=\"markdown-google-sans\">\n",
        "\n",
        "## <strong>最佳買賣價量</strong>\n",
        "</div>\n",
        "透過query_tick_data_bid_offer方法實作,帶入商品代碼\n"
      ],
      "metadata": {
        "id": "BBm2ojpSNLRB"
      }
    },
    {
      "cell_type": "code",
      "source": [
        "tickDataBeforeBidOfferResponse=api.dquote.query_tick_data_bid_offer('TXFK4')\n",
        "if tickDataBeforeBidOfferResponse.ok == True:\n",
        "    tickdatabidoffer=tickDataBeforeBidOfferResponse.data\n",
        "    cur = list(fig_bs5.data[0].cells.values)\n",
        "    cur[col_bs5['買價1']] = tickdatabidoffer.bp1\n",
        "    cur[col_bs5['買量1']] = tickdatabidoffer.bq1\n",
        "    cur[col_bs5['買價2']] = tickdatabidoffer.bp2\n",
        "    cur[col_bs5['買量2']] = tickdatabidoffer.bq2\n",
        "    cur[col_bs5['買價3']] = tickdatabidoffer.bp3\n",
        "    cur[col_bs5['買量3']] = tickdatabidoffer.bq3\n",
        "    cur[col_bs5['買價4']] = tickdatabidoffer.bp4\n",
        "    cur[col_bs5['買量4']] = tickdatabidoffer.bq4\n",
        "    cur[col_bs5['買價5']] = tickdatabidoffer.bp5\n",
        "    cur[col_bs5['買量5']] = tickdatabidoffer.bq5\n",
        "    cur[col_bs5['賣價1']] = tickdatabidoffer.sp1\n",
        "    cur[col_bs5['賣量1']] = tickdatabidoffer.sq1\n",
        "    cur[col_bs5['賣價2']] = tickdatabidoffer.sp2\n",
        "    cur[col_bs5['賣量2']] = tickdatabidoffer.sq2\n",
        "    cur[col_bs5['賣價3']] = tickdatabidoffer.sp3\n",
        "    cur[col_bs5['賣量3']] = tickdatabidoffer.sq3\n",
        "    cur[col_bs5['賣價4']] = tickdatabidoffer.sp4\n",
        "    cur[col_bs5['賣量4']] = tickdatabidoffer.sq4\n",
        "    cur[col_bs5['賣價5']] = tickdatabidoffer.sp5\n",
        "    cur[col_bs5['賣量5']] = tickdatabidoffer.sq5\n",
        "    with fig_bs5.batch_update():\n",
        "        fig_bs5.data[0].cells.values = cur\n",
        "    display(fig_bs5)\n",
        "else:\n",
        "    print(\"tickdatabidoffer \"+tickDataBeforeBidOfferResponse.error)"
      ],
      "metadata": {
        "id": "zreIEdmeNSQy"
      },
      "execution_count": null,
      "outputs": []
    },
    {
      "cell_type": "markdown",
      "metadata": {
        "id": "RHAIfkdBhqIk"
      },
      "source": [
        "\n",
        "<div class=\"markdown-google-sans\">\n",
        "\n",
        "## <strong>開盤價價量</strong>\n",
        "</div>\n",
        "透過query_tick_data_open方法實作,帶入商品代碼\n"
      ]
    },
    {
      "cell_type": "code",
      "source": [
        "tickdataopenResponse=api.dquote.query_tick_data_open('TXFK4')\n",
        "if tickdataopenResponse.ok == True:\n",
        "    tickdataopen=tickdataopenResponse.data\n",
        "    cur = list(fig_open.data[0].cells.values)\n",
        "    cur[col_open['開盤時間']] = tickdataopen.opentime\n",
        "    cur[col_open['開盤價']] = tickdataopen.openprice\n",
        "    cur[col_open['開盤量'] ]= tickdataopen.openquantity\n",
        "    with fig_open.batch_update():\n",
        "        fig_open.data[0].cells.values = cur\n",
        "    display(fig_open)\n",
        "else:\n",
        "    print(\"錯誤訊息 \"+tickdataopenResponse.error)"
      ],
      "metadata": {
        "id": "mf0Aecy-XLNn"
      },
      "execution_count": null,
      "outputs": []
    },
    {
      "cell_type": "markdown",
      "source": [
        "\n",
        "<div class=\"markdown-google-sans\">\n",
        "\n",
        "## <strong>最高最低價</strong>\n",
        "</div>\n",
        "透過query_tick_data_high_low方法實作,帶入商品代碼"
      ],
      "metadata": {
        "id": "2PZTNQOvNr50"
      }
    },
    {
      "cell_type": "code",
      "source": [
        "tickDataHignLowResponse=api.dquote.query_tick_data_high_low('TXFK4')\n",
        "if tickDataHignLowResponse.ok == True:\n",
        "    tickdatahighlow=tickDataHignLowResponse.data\n",
        "    cur = list(fig_open.data[0].cells.values)\n",
        "    cur[col_open['最高']] = tickdatahighlow.dayhighprice\n",
        "    cur[col_open['最低']] = tickdatahighlow.daylowprice\n",
        "    cur[col_open['最高低價時間']] = tickdatahighlow.showtime\n",
        "    with fig_open.batch_update():\n",
        "        fig_open.data[0].cells.values = cur\n",
        "    display(fig_open)\n",
        "else:\n",
        "    print(\"錯誤 \"+tickDataTradeResponse.error)\n",
        "\n"
      ],
      "metadata": {
        "colab": {
          "base_uri": "https://localhost:8080/",
          "height": 377,
          "referenced_widgets": [
            "9baa01ba34b442e4b67745286124a9d6"
          ]
        },
        "id": "wPmJ3bXoN01C",
        "outputId": "9f938b72-9b87-49a6-b50f-d3446ca60de9"
      },
      "execution_count": null,
      "outputs": [
        {
          "output_type": "display_data",
          "data": {
            "application/vnd.jupyter.widget-view+json": {
              "version_major": 2,
              "version_minor": 0,
              "model_id": "9baa01ba34b442e4b67745286124a9d6"
            },
            "text/plain": [
              "FigureWidget({\n",
              "    'data': [{'cells': {'align': 'left', 'values': ['084500075000', 22641.0, 140, '113247821000', 22995.0, 22592.0]},\n",
              "              'header': {'values': ['開盤時間', '開盤價', '開盤量', '最高低價時間', '最高', '最低']},\n",
              "              'type': 'table',\n",
              "              'uid': 'aac6b239-6297-424a-b2dd-087c56d09ea4'}],\n",
              "    'layout': {'autosize': True, 'template': '...'}\n",
              "})"
            ]
          },
          "metadata": {
            "application/vnd.jupyter.widget-view+json": {
              "colab": {
                "custom_widget_manager": {
                  "url": "https://ssl.gstatic.com/colaboratory-static/widgets/colab-cdn-widget-manager/2b70e893a8ba7c0f/manager.min.js"
                }
              }
            }
          }
        }
      ]
    },
    {
      "cell_type": "markdown",
      "source": [
        "\n",
        "<div class=\"markdown-google-sans\">\n",
        "\n",
        "## <strong>現貨價量</strong>\n",
        "</div>\n",
        "透過query_index_data方法實作,帶入標的物代碼\n"
      ],
      "metadata": {
        "id": "b33eDzXdVaAm"
      }
    },
    {
      "cell_type": "code",
      "execution_count": null,
      "metadata": {
        "colab": {
          "base_uri": "https://localhost:8080/",
          "height": 377,
          "referenced_widgets": [
            "346ab80bddd54b25aa87f2fca4de2110"
          ]
        },
        "id": "vNMz_Em7hqIm",
        "outputId": "df9655e2-e8d1-4b19-d272-121f18544cdc"
      },
      "outputs": [
        {
          "output_type": "display_data",
          "data": {
            "application/vnd.jupyter.widget-view+json": {
              "version_major": 2,
              "version_minor": 0,
              "model_id": "346ab80bddd54b25aa87f2fca4de2110"
            },
            "text/plain": [
              "FigureWidget({\n",
              "    'data': [{'cells': {'align': 'left', 'values': ['131300000000', 22847.6]},\n",
              "              'header': {'values': ['現貨統計時間', '現貨價格']},\n",
              "              'type': 'table',\n",
              "              'uid': '0cbab8a8-2708-43da-b5e6-a53cfa2f09a7'}],\n",
              "    'layout': {'autosize': True, 'template': '...'}\n",
              "})"
            ]
          },
          "metadata": {
            "application/vnd.jupyter.widget-view+json": {
              "colab": {
                "custom_widget_manager": {
                  "url": "https://ssl.gstatic.com/colaboratory-static/widgets/colab-cdn-widget-manager/2b70e893a8ba7c0f/manager.min.js"
                }
              }
            }
          }
        }
      ],
      "source": [
        "#查詢現貨價量範例\n",
        "index_id='TXF'#代碼\n",
        "indexdataResponse=api.dquote.query_index_data(index_id)\n",
        "if indexdataResponse.ok == True:\n",
        "  indexdata=indexdataResponse.data\n",
        "  cur = list(fig_idx.data[0].cells.values)\n",
        "  cur[col_idx['現貨統計時間']] = indexdata.index_time\n",
        "  cur[col_idx['現貨價格']] = indexdata.index_value\n",
        "  with fig_idx.batch_update():\n",
        "    fig_idx.data[0].cells.values = cur\n",
        "    display(fig_idx)\n",
        "else:\n",
        "  print(indexdataResponse.error)"
      ]
    },
    {
      "cell_type": "markdown",
      "source": [
        "<div class=\"markdown-google-sans\">\n",
        "\n",
        "# <strong>接收即時行情</strong>\n",
        "</div>"
      ],
      "metadata": {
        "id": "9DE-qfXM-f-W"
      }
    },
    {
      "cell_type": "markdown",
      "source": [
        "<div class=\"markdown-google-sans\">\n",
        "\n",
        "## <strong>*成交和最佳買賣價*</strong>\n",
        "</div>"
      ],
      "metadata": {
        "id": "8sD82KBj45YL"
      }
    },
    {
      "cell_type": "markdown",
      "source": [
        "<div class=\"markdown-google-sans\">\n",
        "\n",
        "### <strong>*註冊*</strong>\n",
        "</div>"
      ],
      "metadata": {
        "id": "VtrVF1XbVv9r"
      }
    },
    {
      "cell_type": "code",
      "source": [
        "#成交價量接收處理\n",
        "def on_tick_data_trade(tickdatatrade: DTickDataTrade):\n",
        "    cur = list(fig_match.data[0].cells.values)\n",
        "    cur[col_match['成交時間']] = tickdatatrade.matchtime\n",
        "    cur[col_match['成交價']] = tickdatatrade.matchprice\n",
        "    cur[col_match['成交量']] = tickdatatrade.matchquantity\n",
        "    with fig_match.batch_update():\n",
        "        fig_match.data[0].cells.values = cur\n",
        "#最佳買賣價量接收處理\n",
        "def on_tick_data_bid_offer(tickdatabidoffer: DTickDataBidOffer):\n",
        "    cur = list(fig_bs5.data[0].cells.values)\n",
        "    cur[col_bs5['買價1']] = tickdatabidoffer.bp1\n",
        "    cur[col_bs5['買量1']] = tickdatabidoffer.bq1\n",
        "    cur[col_bs5['買價2']] = tickdatabidoffer.bp2\n",
        "    cur[col_bs5['買量2']] = tickdatabidoffer.bq2\n",
        "    cur[col_bs5['買價3']] = tickdatabidoffer.bp3\n",
        "    cur[col_bs5['買量3']] = tickdatabidoffer.bq3\n",
        "    cur[col_bs5['買價4']] = tickdatabidoffer.bp4\n",
        "    cur[col_bs5['買量4']] = tickdatabidoffer.bq4\n",
        "    cur[col_bs5['買價5']] = tickdatabidoffer.bp5\n",
        "    cur[col_bs5['買量5']] = tickdatabidoffer.bq5\n",
        "    cur[col_bs5['賣價1']] = tickdatabidoffer.sp1\n",
        "    cur[col_bs5['賣量1']] = tickdatabidoffer.sq1\n",
        "    cur[col_bs5['賣價2']] = tickdatabidoffer.sp2\n",
        "    cur[col_bs5['賣量2']] = tickdatabidoffer.sq2\n",
        "    cur[col_bs5['賣價3']] = tickdatabidoffer.sp3\n",
        "    cur[col_bs5['賣量3']] = tickdatabidoffer.sq3\n",
        "    cur[col_bs5['賣價4']] = tickdatabidoffer.sp4\n",
        "    cur[col_bs5['賣量4']] = tickdatabidoffer.sq4\n",
        "    cur[col_bs5['賣價5']] = tickdatabidoffer.sp5\n",
        "    cur[col_bs5['賣量5']] = tickdatabidoffer.sq5\n",
        "    with fig_bs5.batch_update():\n",
        "        fig_bs5.data[0].cells.values = cur\n",
        "#訂閱接收事件\n",
        "api.dquote.on_tick_data_trade = on_tick_data_trade\n",
        "api.dquote.on_tick_data_bid_offer = on_tick_data_bid_offer\n",
        "subok,msg=api.dquote.subscribe_trade_bid_offer('TXFK4')\n",
        "print(f'註冊結果 {subok} {msg}')\n",
        "display(fig_match)\n",
        "display(fig_bs5)"
      ],
      "metadata": {
        "colab": {
          "base_uri": "https://localhost:8080/",
          "height": 755,
          "referenced_widgets": [
            "61028940783b4d44a6f3909964084d48",
            "522dc53ecd144d77b601a94d069b3118"
          ]
        },
        "id": "6lqYhn3vV74_",
        "outputId": "27f6c476-7cc0-42eb-af79-c4030507e25f"
      },
      "execution_count": null,
      "outputs": [
        {
          "output_type": "stream",
          "name": "stdout",
          "text": [
            "註冊成交買賣價量  True \n"
          ]
        },
        {
          "output_type": "display_data",
          "data": {
            "application/vnd.jupyter.widget-view+json": {
              "version_major": 2,
              "version_minor": 0,
              "model_id": "61028940783b4d44a6f3909964084d48"
            },
            "text/plain": [
              "FigureWidget({\n",
              "    'data': [{'cells': {'align': 'left', 'values': [[''], [''], ['']]},\n",
              "              'header': {'values': ['成交時間', '成交價', '成交量']},\n",
              "              'type': 'table',\n",
              "              'uid': '355b2a10-ee5a-495c-a002-78ac86ad5007'}],\n",
              "    'layout': {'autosize': True, 'height': 100, 'margin': {'b': 0, 'l': 0, 'r': 0, 't': 0}, 'template': '...'}\n",
              "})"
            ]
          },
          "metadata": {
            "application/vnd.jupyter.widget-view+json": {
              "colab": {
                "custom_widget_manager": {
                  "url": "https://ssl.gstatic.com/colaboratory-static/widgets/colab-cdn-widget-manager/2b70e893a8ba7c0f/manager.min.js"
                }
              }
            }
          }
        },
        {
          "output_type": "display_data",
          "data": {
            "application/vnd.jupyter.widget-view+json": {
              "version_major": 2,
              "version_minor": 0,
              "model_id": "522dc53ecd144d77b601a94d069b3118"
            },
            "text/plain": [
              "FigureWidget({\n",
              "    'data': [{'cells': {'align': 'left',\n",
              "                        'values': [[''], [''], [''], [''], [''], [''], [''], [''],\n",
              "                                   [''], [''], [''], [''], [''], [''], [''], [''],\n",
              "                                   [''], [''], [''], ['']]},\n",
              "              'header': {'values': [買價1, 買量1, 買價2, 買量2, 買價3, 買量3, 買價4, 買量4, 買價5,\n",
              "                                    買量5, 賣價1, 賣量1, 賣價2, 賣量2, 賣價3, 賣量3, 賣價4, 賣量4,\n",
              "                                    賣價5, 賣量5]},\n",
              "              'type': 'table',\n",
              "              'uid': '01e9692c-cbee-482e-bbf5-550918ee98a4'}],\n",
              "    'layout': {'autosize': True, 'height': 100, 'margin': {'b': 0, 'l': 0, 'r': 0, 't': 0}, 'template': '...'}\n",
              "})"
            ]
          },
          "metadata": {
            "application/vnd.jupyter.widget-view+json": {
              "colab": {
                "custom_widget_manager": {
                  "url": "https://ssl.gstatic.com/colaboratory-static/widgets/colab-cdn-widget-manager/2b70e893a8ba7c0f/manager.min.js"
                }
              }
            }
          }
        }
      ]
    },
    {
      "cell_type": "markdown",
      "source": [
        "<div class=\"markdown-google-sans\">\n",
        "\n",
        "### <strong>反註冊</strong>\n",
        "\n",
        "</div>"
      ],
      "metadata": {
        "id": "ocdYK6HHWihI"
      }
    },
    {
      "cell_type": "code",
      "source": [
        "unsub_ok,msg=api.dquote.unsubscribe_trade_bid_offer('TXFK4')\n",
        "print(f'反註冊結果  {unsub_ok} {msg}')"
      ],
      "metadata": {
        "colab": {
          "base_uri": "https://localhost:8080/",
          "height": 35
        },
        "id": "kL6PgGQ1WedX",
        "outputId": "6740f944-61a7-4e61-b791-b5bdc9391aa8"
      },
      "execution_count": null,
      "outputs": [
        {
          "output_type": "stream",
          "name": "stdout",
          "text": [
            "反註冊成交買賣價量  True \n"
          ]
        }
      ]
    },
    {
      "cell_type": "markdown",
      "source": [
        "<div class=\"markdown-google-sans\">\n",
        "\n",
        "## <strong>*開盤價量*</strong>\n",
        "</div>"
      ],
      "metadata": {
        "id": "S0xY9LQL5L1R"
      }
    },
    {
      "cell_type": "markdown",
      "source": [
        "<div class=\"markdown-google-sans\">\n",
        "\n",
        "### <strong>*註冊*</strong>\n",
        "</div>"
      ],
      "metadata": {
        "id": "zCn2xOa2V7hn"
      }
    },
    {
      "cell_type": "code",
      "execution_count": null,
      "metadata": {
        "colab": {
          "base_uri": "https://localhost:8080/",
          "height": 395,
          "referenced_widgets": [
            "9baa01ba34b442e4b67745286124a9d6"
          ]
        },
        "outputId": "53b25b76-456d-44b5-ee96-4b80b01655d0",
        "id": "Nt2S23lzuI68"
      },
      "outputs": [
        {
          "output_type": "stream",
          "name": "stdout",
          "text": [
            "註冊開盤價量 TXFK4 True \n"
          ]
        },
        {
          "output_type": "display_data",
          "data": {
            "application/vnd.jupyter.widget-view+json": {
              "version_major": 2,
              "version_minor": 0,
              "model_id": "9baa01ba34b442e4b67745286124a9d6"
            },
            "text/plain": [
              "FigureWidget({\n",
              "    'data': [{'cells': {'align': 'left', 'values': ['084500075000', 22641.0, 140, '113247821000', 22995.0, 22592.0]},\n",
              "              'header': {'values': ['開盤時間', '開盤價', '開盤量', '最高低價時間', '最高', '最低']},\n",
              "              'type': 'table',\n",
              "              'uid': 'aac6b239-6297-424a-b2dd-087c56d09ea4'}],\n",
              "    'layout': {'autosize': True, 'template': '...'}\n",
              "})"
            ]
          },
          "metadata": {
            "application/vnd.jupyter.widget-view+json": {
              "colab": {
                "custom_widget_manager": {
                  "url": "https://ssl.gstatic.com/colaboratory-static/widgets/colab-cdn-widget-manager/2b70e893a8ba7c0f/manager.min.js"
                }
              }
            }
          }
        }
      ],
      "source": [
        "productid='TXFK4'#商品代碼\n",
        "#開盤價量接收處理\n",
        "def on_tick_data_open(tickdataopen: DTickDataOpen):\n",
        "    cur = list(fig_open.data[0].cells.values)\n",
        "    cur[col_open['開盤時間']] = tickdataopen.opentime\n",
        "    cur[col_open['開盤價']] = tickdataopen.openprice\n",
        "    cur[col_open['開盤量'] ]= tickdataopen.openquantity\n",
        "    with fig_open.batch_update():\n",
        "        fig_open.data[0].cells.values = cur\n",
        "\n",
        "#訂閱接收事件\n",
        "api.dquote.on_tick_data_open = on_tick_data_open\n",
        "subok,msg=api.dquote.subscribe_open(productid)\n",
        "print(f'註冊結果 {productid} {subok} {msg}')\n",
        "display(fig_open)"
      ]
    },
    {
      "cell_type": "markdown",
      "source": [
        "<div class=\"markdown-google-sans\">\n",
        "\n",
        "### <strong>*反註冊*</strong>\n",
        "</div>"
      ],
      "metadata": {
        "id": "HMu2gKvf-mkG"
      }
    },
    {
      "cell_type": "code",
      "execution_count": null,
      "metadata": {
        "colab": {
          "base_uri": "https://localhost:8080/"
        },
        "id": "apXWLl74hqIm",
        "outputId": "d0851886-0b80-4045-aab5-b72141155d5c"
      },
      "outputs": [
        {
          "output_type": "stream",
          "name": "stdout",
          "text": [
            "反註冊開盤價量 TXFK4 True \n"
          ]
        }
      ],
      "source": [
        "\n",
        "unsub_ok,msg=api.dquote.unsubscribe_open(productid)\n",
        "print(f'反註冊結果 {productid} {unsub_ok} {msg}')\n"
      ]
    },
    {
      "cell_type": "markdown",
      "source": [
        "<div class=\"markdown-google-sans\">\n",
        "\n",
        "## <strong>*最高最低價量*</strong>\n",
        "</div>"
      ],
      "metadata": {
        "id": "OLbGfs6dX-nr"
      }
    },
    {
      "cell_type": "markdown",
      "source": [
        "<div class=\"markdown-google-sans\">\n",
        "\n",
        "### <strong>*註冊*</strong>\n",
        "</div>"
      ],
      "metadata": {
        "id": "lRjer7hB5kHW"
      }
    },
    {
      "cell_type": "code",
      "source": [
        "#最高最低價接收處理\n",
        "def on_tick_data_high_low(tickdatahighlow: DTickDataHighLow):\n",
        "    cur = list(fig_open.data[0].cells.values)\n",
        "    cur[col_open['最高']] = tickdatahighlow.dayhighprice\n",
        "    cur[col_open['最低']] = tickdatahighlow.daylowprice\n",
        "    cur[col_open['最高低價時間']] = tickdatahighlow.showtime\n",
        "    with fig_open.batch_update():\n",
        "        fig_open.data[0].cells.values = cur\n",
        "\n",
        "\n",
        "#訂閱接收事件\n",
        "api.dquote.on_tick_data_high_low = on_tick_data_high_low\n",
        "subok,msg=api.dquote.subscribe_high_low(productid)\n",
        "print(f'註冊結果 {productid} {subok} {msg}')\n",
        "display(fig_open)"
      ],
      "metadata": {
        "colab": {
          "base_uri": "https://localhost:8080/",
          "height": 395,
          "referenced_widgets": [
            "9baa01ba34b442e4b67745286124a9d6"
          ]
        },
        "id": "5qvsUwoLYTAH",
        "outputId": "79795b99-bebb-4e9e-a835-551535422a12"
      },
      "execution_count": null,
      "outputs": [
        {
          "output_type": "stream",
          "name": "stdout",
          "text": [
            "註冊最高最低價 TXFK4 True \n"
          ]
        },
        {
          "output_type": "display_data",
          "data": {
            "application/vnd.jupyter.widget-view+json": {
              "version_major": 2,
              "version_minor": 0,
              "model_id": "9baa01ba34b442e4b67745286124a9d6"
            },
            "text/plain": [
              "FigureWidget({\n",
              "    'data': [{'cells': {'align': 'left', 'values': ['084500075000', 22641.0, 140, '113247821000', 22995.0, 22592.0]},\n",
              "              'header': {'values': ['開盤時間', '開盤價', '開盤量', '最高低價時間', '最高', '最低']},\n",
              "              'type': 'table',\n",
              "              'uid': 'aac6b239-6297-424a-b2dd-087c56d09ea4'}],\n",
              "    'layout': {'autosize': True, 'template': '...'}\n",
              "})"
            ]
          },
          "metadata": {
            "application/vnd.jupyter.widget-view+json": {
              "colab": {
                "custom_widget_manager": {
                  "url": "https://ssl.gstatic.com/colaboratory-static/widgets/colab-cdn-widget-manager/2b70e893a8ba7c0f/manager.min.js"
                }
              }
            }
          }
        }
      ]
    },
    {
      "cell_type": "markdown",
      "source": [
        "<div class=\"markdown-google-sans\">\n",
        "\n",
        "### <strong>*反註冊*</strong>\n",
        "</div>"
      ],
      "metadata": {
        "id": "9uL3xmF4YDkq"
      }
    },
    {
      "cell_type": "code",
      "source": [
        "unsub_ok,msg=api.dquote.unsubscribe_high_low(productid)\n",
        "print(f'反註冊結果 {productid} {unsub_ok} {msg}')"
      ],
      "metadata": {
        "colab": {
          "base_uri": "https://localhost:8080/"
        },
        "id": "1pmkdG8JYCDj",
        "outputId": "6f20f656-9e57-4b20-b781-a36d5ed702c4"
      },
      "execution_count": null,
      "outputs": [
        {
          "output_type": "stream",
          "name": "stdout",
          "text": [
            "反註冊最高最低價 TXFK4 True \n"
          ]
        }
      ]
    },
    {
      "cell_type": "markdown",
      "source": [
        "<div class=\"markdown-google-sans\">\n",
        "\n",
        "## <strong>*現貨報價*</strong>\n",
        "</div>\n"
      ],
      "metadata": {
        "id": "Wzkqr103-xBB"
      }
    },
    {
      "cell_type": "markdown",
      "source": [
        "<div class=\"markdown-google-sans\">\n",
        "\n",
        "### <strong>*註冊*</strong>\n",
        "</div>"
      ],
      "metadata": {
        "id": "0n9cZH4w5wGM"
      }
    },
    {
      "cell_type": "code",
      "execution_count": null,
      "metadata": {
        "colab": {
          "base_uri": "https://localhost:8080/",
          "height": 414,
          "referenced_widgets": [
            "346ab80bddd54b25aa87f2fca4de2110"
          ]
        },
        "id": "w_hHPEm5hqIm",
        "outputId": "e2124e73-5ffc-4efb-bf1c-ba028a8111de"
      },
      "outputs": [
        {
          "output_type": "stream",
          "name": "stdout",
          "text": [
            "api錯誤 dquote_on_error 不允許操作!\n",
            "註冊結果 TXF False 不允許操作!\n"
          ]
        },
        {
          "output_type": "display_data",
          "data": {
            "application/vnd.jupyter.widget-view+json": {
              "version_major": 2,
              "version_minor": 0,
              "model_id": "346ab80bddd54b25aa87f2fca4de2110"
            },
            "text/plain": [
              "FigureWidget({\n",
              "    'data': [{'cells': {'align': 'left', 'values': ['131600000000', 22885.14]},\n",
              "              'header': {'values': ['現貨統計時間', '現貨價格']},\n",
              "              'type': 'table',\n",
              "              'uid': '0cbab8a8-2708-43da-b5e6-a53cfa2f09a7'}],\n",
              "    'layout': {'autosize': True, 'template': '...'}\n",
              "})"
            ]
          },
          "metadata": {
            "application/vnd.jupyter.widget-view+json": {
              "colab": {
                "custom_widget_manager": {
                  "url": "https://ssl.gstatic.com/colaboratory-static/widgets/colab-cdn-widget-manager/2b70e893a8ba7c0f/manager.min.js"
                }
              }
            }
          }
        }
      ],
      "source": [
        "#訂閱現貨價量接收範例\n",
        "index_id='TXF' #代碼\n",
        "#接收現貨價量處理\n",
        "def on_index_data(indexdata: DIndexData):\n",
        "    cur = list(fig_idx.data[0].cells.values)\n",
        "    cur[col_idx['現貨統計時間']] = indexdata.index_time\n",
        "    cur[col_idx['現貨價格']] = indexdata.index_value\n",
        "    with fig_idx.batch_update():\n",
        "        fig_idx.data[0].cells.values = cur\n",
        "#訂閱事件\n",
        "api.dquote.on_index_data = on_index_data\n",
        "#註冊報價\n",
        "subok,msg=api.dquote.subscribe_index_data('1',index_id)\n",
        "print(f'註冊結果 {index_id} {subok} {msg}')\n",
        "display(fig_idx)"
      ]
    },
    {
      "cell_type": "markdown",
      "source": [
        "<div class=\"markdown-google-sans\">\n",
        "\n",
        "### <strong>*反註冊*</strong>\n",
        "</div>"
      ],
      "metadata": {
        "id": "E04iPtWa-2Vq"
      }
    },
    {
      "cell_type": "code",
      "execution_count": null,
      "metadata": {
        "colab": {
          "base_uri": "https://localhost:8080/"
        },
        "id": "a3hCRWYVhqIm",
        "outputId": "b8895fab-7cff-412c-b861-ce4b183873fa"
      },
      "outputs": [
        {
          "output_type": "stream",
          "name": "stdout",
          "text": [
            "反註冊現貨價量 TXF True \n"
          ]
        }
      ],
      "source": [
        "#反註冊現貨價量接收\n",
        "unsub_ok,msg=api.dquote.unsubscribe_index_data('1',index_id)\n",
        "print(f'反註冊結果 {index_id} {unsub_ok} {msg}')"
      ]
    },
    {
      "cell_type": "markdown",
      "source": [
        "<div class=\"markdown-google-sans\">\n",
        "\n",
        "# <strong>*系統登出*</strong>\n",
        "</div>\n"
      ],
      "metadata": {
        "id": "JfIM_Cu4-4ZH"
      }
    },
    {
      "cell_type": "code",
      "execution_count": null,
      "metadata": {
        "scrolled": true,
        "colab": {
          "base_uri": "https://localhost:8080/"
        },
        "id": "tCNo21yWhqIn",
        "outputId": "fe0e0142-e377-46d7-ae9d-0557391a0646"
      },
      "outputs": [
        {
          "output_type": "stream",
          "name": "stdout",
          "text": [
            "登出完畢\n",
            "登入旗標False\n"
          ]
        }
      ],
      "source": [
        "#系統登出\n",
        "api.logout()\n",
        "print('登出完畢')\n",
        "print(f\"登入旗標{api.login_status_flag}\")\n"
      ]
    }
  ],
  "metadata": {
    "kernelspec": {
      "display_name": "venv",
      "language": "python",
      "name": "python3"
    },
    "language_info": {
      "codemirror_mode": {
        "name": "ipython",
        "version": 3
      },
      "file_extension": ".py",
      "mimetype": "text/x-python",
      "name": "python",
      "nbconvert_exporter": "python",
      "pygments_lexer": "ipython3",
      "version": "3.12.7"
    },
    "colab": {
      "provenance": [],
      "collapsed_sections": [
        "N1NzkGKCNAWz",
        "BBm2ojpSNLRB",
        "2PZTNQOvNr50",
        "b33eDzXdVaAm",
        "ocdYK6HHWihI",
        "OLbGfs6dX-nr",
        "9uL3xmF4YDkq",
        "0n9cZH4w5wGM",
        "E04iPtWa-2Vq",
        "JfIM_Cu4-4ZH"
      ],
      "toc_visible": true,
      "include_colab_link": true
    },
    "widgets": {
      "application/vnd.jupyter.widget-state+json": {
        "1d6f47372f7d41808c362650ab84117d": {
          "model_module": "jupyterlab-plotly",
          "model_name": "FigureModel",
          "model_module_version": "^5.24.1",
          "state": {
            "_config": {
              "plotlyServerURL": "https://plot.ly"
            },
            "_data": [
              {
                "cells": {
                  "align": "left",
                  "values": [
                    [
                      ""
                    ],
                    [
                      ""
                    ],
                    [
                      ""
                    ]
                  ]
                },
                "header": {
                  "values": [
                    "成交時間",
                    "成交價",
                    "成交量"
                  ]
                },
                "type": "table",
                "uid": "789a5e3c-feed-4b47-96d0-b6eb017b7060"
              }
            ],
            "_dom_classes": [],
            "_js2py_layoutDelta": {
              "layout_delta": {
                "autotypenumbers": "convert types",
                "font": {
                  "family": "\"Open Sans\", verdana, arial, sans-serif",
                  "size": 12,
                  "color": "#444",
                  "weight": "normal",
                  "style": "normal",
                  "variant": "normal",
                  "lineposition": "none",
                  "textcase": "normal",
                  "shadow": "none"
                },
                "title": {
                  "font": {
                    "family": "\"Open Sans\", verdana, arial, sans-serif",
                    "size": 17,
                    "color": "#444",
                    "weight": "normal",
                    "style": "normal",
                    "variant": "normal",
                    "lineposition": "none",
                    "textcase": "normal",
                    "shadow": "none"
                  },
                  "text": "Click to enter Plot title",
                  "xref": "container",
                  "yref": "container",
                  "pad": {
                    "t": 0,
                    "r": 0,
                    "b": 0,
                    "l": 0
                  },
                  "automargin": false,
                  "x": 0.5,
                  "xanchor": "auto",
                  "y": "auto",
                  "yanchor": "auto",
                  "subtitle": {
                    "text": "Click to enter Plot subtitle",
                    "font": {
                      "family": "\"Open Sans\", verdana, arial, sans-serif",
                      "size": 12,
                      "color": "#444",
                      "weight": "normal",
                      "style": "normal",
                      "variant": "normal",
                      "lineposition": "none",
                      "textcase": "normal",
                      "shadow": "none"
                    }
                  }
                },
                "uniformtext": {
                  "mode": false
                },
                "width": 1013.18,
                "height": 360,
                "minreducedwidth": 64,
                "minreducedheight": 64,
                "margin": {
                  "l": 80,
                  "r": 80,
                  "t": 100,
                  "b": 80,
                  "pad": 0,
                  "autoexpand": true
                },
                "paper_bgcolor": "#fff",
                "separators": ".,",
                "hidesources": false,
                "colorway": [
                  "#1f77b4",
                  "#ff7f0e",
                  "#2ca02c",
                  "#d62728",
                  "#9467bd",
                  "#8c564b",
                  "#e377c2",
                  "#7f7f7f",
                  "#bcbd22",
                  "#17becf"
                ],
                "modebar": {
                  "orientation": "h",
                  "bgcolor": "rgba(255, 255, 255, 0.5)",
                  "color": "rgba(68, 68, 68, 0.3)",
                  "activecolor": "rgba(68, 68, 68, 0.7)",
                  "add": "",
                  "remove": ""
                },
                "newshape": {
                  "visible": true,
                  "showlegend": false,
                  "legend": "legend",
                  "legendgroup": "",
                  "legendgrouptitle": {
                    "text": "",
                    "font": {
                      "weight": "normal",
                      "style": "normal",
                      "variant": "normal",
                      "lineposition": "none",
                      "textcase": "normal",
                      "shadow": "none"
                    }
                  },
                  "legendrank": 1000,
                  "drawdirection": "diagonal",
                  "layer": "above",
                  "fillcolor": "rgba(0,0,0,0)",
                  "fillrule": "evenodd",
                  "opacity": 1,
                  "line": {
                    "width": 4,
                    "color": "#444",
                    "dash": "solid"
                  },
                  "label": {
                    "text": "",
                    "texttemplate": ""
                  }
                },
                "activeshape": {
                  "fillcolor": "rgb(255,0,255)",
                  "opacity": 0.5
                },
                "newselection": {
                  "mode": "immediate",
                  "line": {
                    "width": 1,
                    "dash": "dot"
                  }
                },
                "activeselection": {
                  "fillcolor": "rgba(0,0,0,0)",
                  "opacity": 0.5
                },
                "calendar": "gregorian",
                "hoverlabel": {
                  "namelength": 15,
                  "font": {
                    "family": "Arial, sans-serif",
                    "size": 13,
                    "weight": "normal",
                    "style": "normal",
                    "variant": "normal",
                    "lineposition": "none",
                    "textcase": "normal",
                    "shadow": "none"
                  },
                  "align": "auto",
                  "grouptitlefont": {
                    "family": "Arial, sans-serif",
                    "size": 13,
                    "weight": "normal",
                    "style": "normal",
                    "variant": "normal",
                    "lineposition": "none",
                    "textcase": "normal",
                    "shadow": "none"
                  }
                },
                "scattermode": "overlay",
                "annotations": [],
                "selections": [],
                "shapes": [],
                "images": [],
                "updatemenus": [],
                "sliders": [],
                "colorscale": {
                  "sequential": [
                    [
                      0,
                      "rgb(220,220,220)"
                    ],
                    [
                      0.2,
                      "rgb(245,195,157)"
                    ],
                    [
                      0.4,
                      "rgb(245,160,105)"
                    ],
                    [
                      1,
                      "rgb(178,10,28)"
                    ]
                  ],
                  "sequentialminus": [
                    [
                      0,
                      "rgb(5,10,172)"
                    ],
                    [
                      0.35,
                      "rgb(40,60,190)"
                    ],
                    [
                      0.5,
                      "rgb(70,100,245)"
                    ],
                    [
                      0.6,
                      "rgb(90,120,245)"
                    ],
                    [
                      0.7,
                      "rgb(106,137,247)"
                    ],
                    [
                      1,
                      "rgb(220,220,220)"
                    ]
                  ],
                  "diverging": [
                    [
                      0,
                      "rgb(5,10,172)"
                    ],
                    [
                      0.35,
                      "rgb(106,137,247)"
                    ],
                    [
                      0.5,
                      "rgb(190,190,190)"
                    ],
                    [
                      0.6,
                      "rgb(220,170,132)"
                    ],
                    [
                      0.7,
                      "rgb(230,145,90)"
                    ],
                    [
                      1,
                      "rgb(178,10,28)"
                    ]
                  ]
                },
                "showlegend": false,
                "clickmode": "event",
                "hoversubplots": "overlaying",
                "hovermode": "closest",
                "hoverdistance": 20,
                "spikedistance": -1,
                "dragmode": "zoom"
              },
              "layout_edit_id": 9
            },
            "_js2py_pointsCallback": {},
            "_js2py_relayout": {
              "relayout_data": {
                "autosize": true
              },
              "source_view_id": "957cd7"
            },
            "_js2py_restyle": {},
            "_js2py_traceDeltas": null,
            "_js2py_update": {},
            "_last_layout_edit_id": 9,
            "_last_trace_edit_id": 5,
            "_layout": {},
            "_model_module": "jupyterlab-plotly",
            "_model_module_version": "^5.24.1",
            "_model_name": "FigureModel",
            "_py2js_addTraces": {},
            "_py2js_animate": {},
            "_py2js_deleteTraces": {},
            "_py2js_moveTraces": {},
            "_py2js_relayout": null,
            "_py2js_removeLayoutProps": null,
            "_py2js_removeTraceProps": {},
            "_py2js_restyle": {},
            "_py2js_update": null,
            "_view_count": 4,
            "_view_module": "jupyterlab-plotly",
            "_view_module_version": "^5.24.1",
            "_view_name": "FigureView"
          }
        },
        "9baa01ba34b442e4b67745286124a9d6": {
          "model_module": "jupyterlab-plotly",
          "model_name": "FigureModel",
          "model_module_version": "^5.24.1",
          "state": {
            "_config": {
              "plotlyServerURL": "https://plot.ly"
            },
            "_data": [
              {
                "cells": {
                  "align": "left",
                  "values": [
                    [
                      ""
                    ],
                    [
                      ""
                    ],
                    [
                      ""
                    ],
                    [
                      ""
                    ],
                    [
                      ""
                    ],
                    [
                      ""
                    ]
                  ]
                },
                "header": {
                  "values": [
                    "開盤時間",
                    "開盤價",
                    "開盤量",
                    "最高低價時間",
                    "最高",
                    "最低"
                  ]
                },
                "type": "table",
                "uid": "aac6b239-6297-424a-b2dd-087c56d09ea4"
              }
            ],
            "_dom_classes": [],
            "_js2py_layoutDelta": null,
            "_js2py_pointsCallback": {},
            "_js2py_relayout": null,
            "_js2py_restyle": {},
            "_js2py_traceDeltas": null,
            "_js2py_update": {},
            "_last_layout_edit_id": 7,
            "_last_trace_edit_id": 3,
            "_layout": {},
            "_model_module": "jupyterlab-plotly",
            "_model_module_version": "^5.24.1",
            "_model_name": "FigureModel",
            "_py2js_addTraces": {},
            "_py2js_animate": {},
            "_py2js_deleteTraces": {},
            "_py2js_moveTraces": {},
            "_py2js_relayout": null,
            "_py2js_removeLayoutProps": null,
            "_py2js_removeTraceProps": {},
            "_py2js_restyle": {},
            "_py2js_update": null,
            "_view_count": 4,
            "_view_module": "jupyterlab-plotly",
            "_view_module_version": "^5.24.1",
            "_view_name": "FigureView"
          }
        },
        "346ab80bddd54b25aa87f2fca4de2110": {
          "model_module": "jupyterlab-plotly",
          "model_name": "FigureModel",
          "model_module_version": "^5.24.1",
          "state": {
            "_config": {
              "plotlyServerURL": "https://plot.ly"
            },
            "_data": [
              {
                "cells": {
                  "align": "left",
                  "values": [
                    [
                      ""
                    ],
                    [
                      ""
                    ]
                  ]
                },
                "header": {
                  "values": [
                    "現貨統計時間",
                    "現貨價格"
                  ]
                },
                "type": "table",
                "uid": "0cbab8a8-2708-43da-b5e6-a53cfa2f09a7"
              }
            ],
            "_dom_classes": [],
            "_js2py_layoutDelta": null,
            "_js2py_pointsCallback": {},
            "_js2py_relayout": null,
            "_js2py_restyle": {},
            "_js2py_traceDeltas": null,
            "_js2py_update": {},
            "_last_layout_edit_id": 9,
            "_last_trace_edit_id": 6,
            "_layout": {},
            "_model_module": "jupyterlab-plotly",
            "_model_module_version": "^5.24.1",
            "_model_name": "FigureModel",
            "_py2js_addTraces": {},
            "_py2js_animate": {},
            "_py2js_deleteTraces": {},
            "_py2js_moveTraces": {},
            "_py2js_relayout": null,
            "_py2js_removeLayoutProps": null,
            "_py2js_removeTraceProps": {},
            "_py2js_restyle": {},
            "_py2js_update": null,
            "_view_count": 4,
            "_view_module": "jupyterlab-plotly",
            "_view_module_version": "^5.24.1",
            "_view_name": "FigureView"
          }
        },
        "61028940783b4d44a6f3909964084d48": {
          "model_module": "jupyterlab-plotly",
          "model_name": "FigureModel",
          "model_module_version": "^5.24.1",
          "state": {
            "_config": {
              "plotlyServerURL": "https://plot.ly"
            },
            "_data": [
              {
                "cells": {
                  "align": "left",
                  "values": [
                    [
                      ""
                    ],
                    [
                      ""
                    ],
                    [
                      ""
                    ]
                  ]
                },
                "header": {
                  "values": [
                    "成交時間",
                    "成交價",
                    "成交量"
                  ]
                },
                "type": "table",
                "uid": "355b2a10-ee5a-495c-a002-78ac86ad5007"
              }
            ],
            "_dom_classes": [],
            "_js2py_layoutDelta": null,
            "_js2py_pointsCallback": {},
            "_js2py_relayout": null,
            "_js2py_restyle": {},
            "_js2py_traceDeltas": null,
            "_js2py_update": {},
            "_last_layout_edit_id": 36,
            "_last_trace_edit_id": 35,
            "_layout": {},
            "_model_module": "jupyterlab-plotly",
            "_model_module_version": "^5.24.1",
            "_model_name": "FigureModel",
            "_py2js_addTraces": {},
            "_py2js_animate": {},
            "_py2js_deleteTraces": {},
            "_py2js_moveTraces": {},
            "_py2js_relayout": null,
            "_py2js_removeLayoutProps": null,
            "_py2js_removeTraceProps": {},
            "_py2js_restyle": {},
            "_py2js_update": null,
            "_view_count": 1,
            "_view_module": "jupyterlab-plotly",
            "_view_module_version": "^5.24.1",
            "_view_name": "FigureView"
          }
        },
        "522dc53ecd144d77b601a94d069b3118": {
          "model_module": "jupyterlab-plotly",
          "model_name": "FigureModel",
          "model_module_version": "^5.24.1",
          "state": {
            "_config": {
              "plotlyServerURL": "https://plot.ly"
            },
            "_data": [
              {
                "cells": {
                  "align": "left",
                  "values": [
                    [
                      ""
                    ],
                    [
                      ""
                    ],
                    [
                      ""
                    ],
                    [
                      ""
                    ],
                    [
                      ""
                    ],
                    [
                      ""
                    ],
                    [
                      ""
                    ],
                    [
                      ""
                    ],
                    [
                      ""
                    ],
                    [
                      ""
                    ],
                    [
                      ""
                    ],
                    [
                      ""
                    ],
                    [
                      ""
                    ],
                    [
                      ""
                    ],
                    [
                      ""
                    ],
                    [
                      ""
                    ],
                    [
                      ""
                    ],
                    [
                      ""
                    ],
                    [
                      ""
                    ],
                    [
                      ""
                    ]
                  ]
                },
                "header": {
                  "values": [
                    "買價1",
                    "買量1",
                    "買價2",
                    "買量2",
                    "買價3",
                    "買量3",
                    "買價4",
                    "買量4",
                    "買價5",
                    "買量5",
                    "賣價1",
                    "賣量1",
                    "賣價2",
                    "賣量2",
                    "賣價3",
                    "賣量3",
                    "賣價4",
                    "賣量4",
                    "賣價5",
                    "賣量5"
                  ]
                },
                "type": "table",
                "uid": "01e9692c-cbee-482e-bbf5-550918ee98a4"
              }
            ],
            "_dom_classes": [],
            "_js2py_layoutDelta": null,
            "_js2py_pointsCallback": {},
            "_js2py_relayout": null,
            "_js2py_restyle": {},
            "_js2py_traceDeltas": null,
            "_js2py_update": {},
            "_last_layout_edit_id": 100,
            "_last_trace_edit_id": 99,
            "_layout": {},
            "_model_module": "jupyterlab-plotly",
            "_model_module_version": "^5.24.1",
            "_model_name": "FigureModel",
            "_py2js_addTraces": {},
            "_py2js_animate": {},
            "_py2js_deleteTraces": {},
            "_py2js_moveTraces": {},
            "_py2js_relayout": null,
            "_py2js_removeLayoutProps": null,
            "_py2js_removeTraceProps": {},
            "_py2js_restyle": {},
            "_py2js_update": null,
            "_view_count": 1,
            "_view_module": "jupyterlab-plotly",
            "_view_module_version": "^5.24.1",
            "_view_name": "FigureView"
          }
        }
      }
    }
  },
  "nbformat": 4,
  "nbformat_minor": 0
}