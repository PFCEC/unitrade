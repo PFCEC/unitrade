{
  "cells": [
    {
      "cell_type": "markdown",
      "metadata": {
        "id": "view-in-github",
        "colab_type": "text"
      },
      "source": [
        "<a href=\"https://colab.research.google.com/github/PFCEC/unitrade/blob/main/%E5%85%A7%E6%9C%9F%E8%A1%8C%E6%83%85%E7%AF%84%E4%BE%8B.ipynb\" target=\"_parent\"><img src=\"https://colab.research.google.com/assets/colab-badge.svg\" alt=\"Open In Colab\"/></a>"
      ]
    },
    {
      "cell_type": "markdown",
      "metadata": {
        "id": "3Iy0ZVhuD9Ur"
      },
      "source": [
        "事先準備"
      ]
    },
    {
      "cell_type": "code",
      "execution_count": 1,
      "metadata": {
        "scrolled": true,
        "colab": {
          "base_uri": "https://localhost:8080/"
        },
        "id": "L0GXUkDnD9Uw",
        "outputId": "dce09060-bd32-4bce-8a7f-dda34affefd3"
      },
      "outputs": [
        {
          "output_type": "stream",
          "name": "stdout",
          "text": [
            "Collecting unitrade\n",
            "  Downloading unitrade-1.0.0.1-cp310-cp310-manylinux_2_17_x86_64.manylinux2014_x86_64.manylinux_2_28_x86_64.whl.metadata (715 bytes)\n",
            "Collecting bitarray>=2.3.4 (from unitrade)\n",
            "  Downloading bitarray-3.0.0-cp310-cp310-manylinux_2_17_x86_64.manylinux2014_x86_64.whl.metadata (32 kB)\n",
            "Requirement already satisfied: requests in /usr/local/lib/python3.10/dist-packages (from unitrade) (2.32.3)\n",
            "Requirement already satisfied: cryptography in /usr/local/lib/python3.10/dist-packages (from unitrade) (43.0.3)\n",
            "Requirement already satisfied: cython in /usr/local/lib/python3.10/dist-packages (from unitrade) (3.0.11)\n",
            "Requirement already satisfied: numpy in /usr/local/lib/python3.10/dist-packages (from unitrade) (1.26.4)\n",
            "Requirement already satisfied: cffi>=1.12 in /usr/local/lib/python3.10/dist-packages (from cryptography->unitrade) (1.17.1)\n",
            "Requirement already satisfied: charset-normalizer<4,>=2 in /usr/local/lib/python3.10/dist-packages (from requests->unitrade) (3.4.0)\n",
            "Requirement already satisfied: idna<4,>=2.5 in /usr/local/lib/python3.10/dist-packages (from requests->unitrade) (3.10)\n",
            "Requirement already satisfied: urllib3<3,>=1.21.1 in /usr/local/lib/python3.10/dist-packages (from requests->unitrade) (2.2.3)\n",
            "Requirement already satisfied: certifi>=2017.4.17 in /usr/local/lib/python3.10/dist-packages (from requests->unitrade) (2024.8.30)\n",
            "Requirement already satisfied: pycparser in /usr/local/lib/python3.10/dist-packages (from cffi>=1.12->cryptography->unitrade) (2.22)\n",
            "Downloading unitrade-1.0.0.1-cp310-cp310-manylinux_2_17_x86_64.manylinux2014_x86_64.manylinux_2_28_x86_64.whl (13.4 MB)\n",
            "\u001b[2K   \u001b[90m━━━━━━━━━━━━━━━━━━━━━━━━━━━━━━━━━━━━━━━━\u001b[0m \u001b[32m13.4/13.4 MB\u001b[0m \u001b[31m29.6 MB/s\u001b[0m eta \u001b[36m0:00:00\u001b[0m\n",
            "\u001b[?25hDownloading bitarray-3.0.0-cp310-cp310-manylinux_2_17_x86_64.manylinux2014_x86_64.whl (278 kB)\n",
            "\u001b[2K   \u001b[90m━━━━━━━━━━━━━━━━━━━━━━━━━━━━━━━━━━━━━━━━\u001b[0m \u001b[32m278.3/278.3 kB\u001b[0m \u001b[31m13.8 MB/s\u001b[0m eta \u001b[36m0:00:00\u001b[0m\n",
            "\u001b[?25hInstalling collected packages: bitarray, unitrade\n",
            "Successfully installed bitarray-3.0.0 unitrade-1.0.0.1\n",
            "Requirement already satisfied: plotly in /usr/local/lib/python3.10/dist-packages (5.24.1)\n",
            "Requirement already satisfied: tenacity>=6.2.0 in /usr/local/lib/python3.10/dist-packages (from plotly) (9.0.0)\n",
            "Requirement already satisfied: packaging in /usr/local/lib/python3.10/dist-packages (from plotly) (24.1)\n"
          ]
        }
      ],
      "source": [
        "!pip install unitrade\n",
        "#安裝顯示表格套件\n",
        "!pip install plotly"
      ]
    },
    {
      "cell_type": "markdown",
      "metadata": {
        "id": "xj2I_Cj3D9Uy"
      },
      "source": [
        "初始化"
      ]
    },
    {
      "cell_type": "code",
      "source": [
        "import plotly.io as pio\n",
        "pio.renderers.default = 'colab'  # 或嘗試 'notebook' 或 'iframe' 渲染器\n",
        "from google.colab import output\n",
        "output.enable_custom_widget_manager()"
      ],
      "metadata": {
        "id": "UEzX_HkMIzmF"
      },
      "execution_count": null,
      "outputs": []
    },
    {
      "cell_type": "code",
      "execution_count": 10,
      "metadata": {
        "colab": {
          "base_uri": "https://localhost:8080/",
          "height": 117,
          "referenced_widgets": [
            "ec05872c99fb479fab749f07b152c750"
          ]
        },
        "id": "4XXAtMsAD9Uz",
        "outputId": "75cb33a6-c1d9-4342-eff2-8f8721225414"
      },
      "outputs": [
        {
          "output_type": "display_data",
          "data": {
            "text/html": [
              "        <script type=\"text/javascript\">\n",
              "        window.PlotlyConfig = {MathJaxConfig: 'local'};\n",
              "        if (window.MathJax && window.MathJax.Hub && window.MathJax.Hub.Config) {window.MathJax.Hub.Config({SVG: {font: \"STIX-Web\"}});}\n",
              "        if (typeof require !== 'undefined') {\n",
              "        require.undef(\"plotly\");\n",
              "        requirejs.config({\n",
              "            paths: {\n",
              "                'plotly': ['https://cdn.plot.ly/plotly-2.35.2.min']\n",
              "            }\n",
              "        });\n",
              "        require(['plotly'], function(Plotly) {\n",
              "            window._Plotly = Plotly;\n",
              "        });\n",
              "        }\n",
              "        </script>\n",
              "        "
            ]
          },
          "metadata": {}
        },
        {
          "output_type": "display_data",
          "data": {
            "application/vnd.jupyter.widget-view+json": {
              "version_major": 2,
              "version_minor": 0,
              "model_id": "ec05872c99fb479fab749f07b152c750"
            },
            "text/plain": [
              "FigureWidget({\n",
              "    'data': [{'cells': {'align': 'left',\n",
              "                        'values': [[''], [''], [''], [''], [''], [''], [''], [''],\n",
              "                                   [''], [''], [''], [''], [''], [''], [''], [''],\n",
              "                                   [''], [''], [''], [''], [''], [''], ['']]},\n",
              "              'header': {'values': [成交時間, 成交價, 成交量, 買價1, 買量1, 買價2, 買量2, 買價3, 買量3,\n",
              "                                    買價4, 買量4, 買價5, 買量5, 賣價1, 賣量1, 賣價2, 賣量2, 賣價3,\n",
              "                                    賣量3, 賣價4, 賣量4, 賣價5, 賣量5]},\n",
              "              'type': 'table',\n",
              "              'uid': 'def9836c-326b-4f2e-97e5-3612366af825'}],\n",
              "    'layout': {'autosize': True, 'height': 100, 'margin': {'b': 0, 'l': 0, 'r': 0, 't': 0}, 'template': '...'}\n",
              "})"
            ]
          },
          "metadata": {
            "application/vnd.jupyter.widget-view+json": {
              "colab": {
                "custom_widget_manager": {
                  "url": "https://ssl.gstatic.com/colaboratory-static/widgets/colab-cdn-widget-manager/2b70e893a8ba7c0f/manager.min.js"
                }
              }
            }
          }
        }
      ],
      "source": [
        "##API初始&登入\n",
        "import pfcf\n",
        "from pfcf.pfcf import *\n",
        "from pfcf.product import *\n",
        "from pfcf.quote.ddata import *\n",
        "from typing import List\n",
        "#匯入顯示表格套件\n",
        "import plotly.graph_objs as go\n",
        "from plotly.offline import init_notebook_mode\n",
        "# 初始數據\n",
        "init_notebook_mode(connected=True)\n",
        "header1 = dict(values=['成交時間', '成交價','成交量','買價1','買量1' ,'買價2','買量2' ,'買價3','買量3' ,'買價4','買量4' ,'買價5','買量5',\n",
        "             '賣價1','賣量1' ,'賣價2','賣量2' ,'賣價3','賣量3' ,'賣價4','賣量4' ,'賣價5','賣量5'])\n",
        "data1 = [['','','','','','','','','','','','','','','','','','','','','','','']]\n",
        "header2 = dict(values=['開盤時間','開盤價' ,'開盤量','最高低價時間' ,'最高','最低'])\n",
        "data2 = [['','','','','','']]\n",
        "header3 = dict(values=['現貨統計時間','現貨價格'])\n",
        "data3 = [['','']]\n",
        "# 創建初始表格\n",
        "fig = go.FigureWidget(data=[go.Table( header=header1, cells=dict(values=list(zip(*data1)), align='left'),)])\n",
        "fig.update_layout(height=100, margin=dict(t=0, b=0, l=0, r=0),autosize=True)\n",
        "fig2 = go.FigureWidget(data=[go.Table( header=header2, cells=dict(values=list(zip(*data2)), align='left'),)])\n",
        "fig2.update_layout(height=100, margin=dict(t=0, b=0, l=0, r=0),autosize=True)\n",
        "fig3 = go.FigureWidget(data=[go.Table( header=header3, cells=dict(values=list(zip(*data3)), align='left'),)])\n",
        "fig3.update_layout(height=100, margin=dict(t=0, b=0, l=0, r=0),autosize=True)\n",
        "col_idx = {header: idx for idx, header in enumerate(header1['values'])}\n",
        "col2_idx = {header: idx for idx, header in enumerate(header2['values'])}\n",
        "col3_idx = {header: idx for idx, header in enumerate(header3['values'])}\n",
        "display(fig)  # 顯示表格\n"
      ]
    },
    {
      "cell_type": "code",
      "source": [],
      "metadata": {
        "id": "NEXLNS3kH0ij"
      },
      "execution_count": 9,
      "outputs": []
    },
    {
      "cell_type": "code",
      "source": [],
      "metadata": {
        "id": "m5M--hepIvQA"
      },
      "execution_count": null,
      "outputs": []
    },
    {
      "cell_type": "code",
      "execution_count": 21,
      "metadata": {
        "colab": {
          "base_uri": "https://localhost:8080/"
        },
        "id": "vN9Oo274D9U0",
        "outputId": "81824bc8-ba0f-4a71-ebd9-dec915f506cc"
      },
      "outputs": [
        {
          "output_type": "stream",
          "name": "stdout",
          "text": [
            "The package version is 1.0.0.1\n",
            "api錯誤 login -Timeout\n",
            "LoginResponse(ok=False, error='Timeout')\n",
            "登入旗標False\n",
            "交易帳號None\n"
          ]
        }
      ],
      "source": [
        "#初始API\n",
        "api = Pfcf()\n",
        "#錯誤事件處理\n",
        "api.on_error = lambda error: print(f'api錯誤 {error}')\n",
        "#系統登入\n",
        "loginresponse = api.login(\"http://test167.pfctrade.com\", \"80009809769\", \"Aa123456\", 'PSC_A226097195_20250310.pfx', '12345678')\n",
        "\n",
        "#顯示登入結果\n",
        "print(loginresponse)\n",
        "print(f\"登入旗標{api.login_status_flag}\")\n",
        "print(f\"交易帳號{api.get_accounts()}\")\n"
      ]
    },
    {
      "cell_type": "markdown",
      "metadata": {
        "id": "UJ1vwug5D9U2"
      },
      "source": [
        "查詢成交價"
      ]
    },
    {
      "cell_type": "code",
      "execution_count": 12,
      "metadata": {
        "colab": {
          "base_uri": "https://localhost:8080/",
          "height": 737,
          "referenced_widgets": [
            "ec05872c99fb479fab749f07b152c750",
            "1fd2948ee9584e89be987b98c8190b1f"
          ]
        },
        "id": "RCvAeANfD9U2",
        "outputId": "be6477a5-21dc-4e62-fe35-e94b1196bc3a"
      },
      "outputs": [
        {
          "output_type": "display_data",
          "data": {
            "application/vnd.jupyter.widget-view+json": {
              "version_major": 2,
              "version_minor": 0,
              "model_id": "ec05872c99fb479fab749f07b152c750"
            },
            "text/plain": [
              "FigureWidget({\n",
              "    'data': [{'cells': {'align': 'left',\n",
              "                        'values': [[''], [''], [''], [''], [''], [''], [''], [''],\n",
              "                                   [''], [''], [''], [''], [''], [''], [''], [''],\n",
              "                                   [''], [''], [''], [''], [''], [''], ['']]},\n",
              "              'header': {'values': [成交時間, 成交價, 成交量, 買價1, 買量1, 買價2, 買量2, 買價3, 買量3,\n",
              "                                    買價4, 買量4, 買價5, 買量5, 賣價1, 賣量1, 賣價2, 賣量2, 賣價3,\n",
              "                                    賣量3, 賣價4, 賣量4, 賣價5, 賣量5]},\n",
              "              'type': 'table',\n",
              "              'uid': 'def9836c-326b-4f2e-97e5-3612366af825'}],\n",
              "    'layout': {'autosize': True, 'height': 100, 'margin': {'b': 0, 'l': 0, 'r': 0, 't': 0}, 'template': '...'}\n",
              "})"
            ]
          },
          "metadata": {
            "application/vnd.jupyter.widget-view+json": {
              "colab": {
                "custom_widget_manager": {
                  "url": "https://ssl.gstatic.com/colaboratory-static/widgets/colab-cdn-widget-manager/2b70e893a8ba7c0f/manager.min.js"
                }
              }
            }
          }
        },
        {
          "output_type": "display_data",
          "data": {
            "application/vnd.jupyter.widget-view+json": {
              "version_major": 2,
              "version_minor": 0,
              "model_id": "1fd2948ee9584e89be987b98c8190b1f"
            },
            "text/plain": [
              "FigureWidget({\n",
              "    'data': [{'cells': {'align': 'left', 'values': [[''], [''], [''], [''], [''], ['']]},\n",
              "              'header': {'values': ['開盤時間', '開盤價', '開盤量', '最高低價時間', '最高', '最低']},\n",
              "              'type': 'table',\n",
              "              'uid': 'de34e743-5647-4f39-bc3e-dd044c21c061'}],\n",
              "    'layout': {'autosize': True, 'height': 100, 'margin': {'b': 0, 'l': 0, 'r': 0, 't': 0}, 'template': '...'}\n",
              "})"
            ]
          },
          "metadata": {
            "application/vnd.jupyter.widget-view+json": {
              "colab": {
                "custom_widget_manager": {
                  "url": "https://ssl.gstatic.com/colaboratory-static/widgets/colab-cdn-widget-manager/2b70e893a8ba7c0f/manager.min.js"
                }
              }
            }
          }
        }
      ],
      "source": [
        "#查詢成交和最佳買賣價接收範例\n",
        "productid='TXFK4'#商品代碼\n",
        "if loginresponse.ok == True:\n",
        "    display(fig)\n",
        "    display(fig2)\n",
        "     #查詢開盤價量\n",
        "    tickdataopenResponse=api.dquote.query_tick_data_open(productid)\n",
        "    if tickdataopenResponse.ok == True:\n",
        "        tickdataopen=tickdataopenResponse.data\n",
        "        cur = list(fig2.data[0].cells.values)\n",
        "        cur[col2_idx['開盤時間']] = tickdataopen.opentime\n",
        "        cur[col2_idx['開盤價']] = tickdataopen.openprice\n",
        "        cur[col2_idx['開盤量'] ]= tickdataopen.openquantity\n",
        "        with fig.batch_update():\n",
        "            fig2.data[0].cells.values = cur\n",
        "    else:\n",
        "        print(\"tickdataopen \"+tickdataopenResponse.error)\n",
        "    #查詢成交價量\n",
        "    tickDataTradeResponse=api.dquote.query_tick_data_trade(productid)\n",
        "    if tickDataTradeResponse.ok == True:\n",
        "        tickdatatrade=tickDataTradeResponse.data\n",
        "        cur = list(fig.data[0].cells.values)\n",
        "        cur[col_idx['成交時間']] = tickdatatrade.matchtime\n",
        "        cur[col_idx['成交價']] = tickdatatrade.matchprice\n",
        "        cur[col_idx['成交量']] = tickdatatrade.matchquantity\n",
        "        with fig.batch_update():\n",
        "            fig.data[0].cells.values = cur\n",
        "    else:\n",
        "        print(\"tickdatatrade \"+tickDataTradeResponse.error)\n",
        "    #查詢最高最低價\n",
        "    tickDataHignLowResponse=api.dquote.query_tick_data_high_low(productid)\n",
        "    if tickDataHignLowResponse.ok == True:\n",
        "        tickdatahighlow=tickDataHignLowResponse.data\n",
        "        cur = list(fig2.data[0].cells.values)\n",
        "        cur[col2_idx['最高']] = tickdatahighlow.dayhighprice\n",
        "        cur[col2_idx['最低']] = tickdatahighlow.daylowprice\n",
        "        cur[col2_idx['最高低價時間']] = tickdatahighlow.showtime\n",
        "        with fig.batch_update():\n",
        "            fig2.data[0].cells.values = cur\n",
        "    else:\n",
        "        print(\"tickdatahighlow \"+tickDataTradeResponse.error)\n",
        "    #查詢最佳買賣價量\n",
        "    tickDataBeforeBidOfferResponse=api.dquote.query_tick_data_bid_offer(productid)\n",
        "    if tickDataBeforeBidOfferResponse.ok == True:\n",
        "        tickdatabidoffer=tickDataBeforeBidOfferResponse.data\n",
        "        cur = list(fig.data[0].cells.values)\n",
        "        cur[col_idx['買價1']] = tickdatabidoffer.bp1\n",
        "        cur[col_idx['買量1']] = tickdatabidoffer.bq1\n",
        "        cur[col_idx['買價2']] = tickdatabidoffer.bp2\n",
        "        cur[col_idx['買量2']] = tickdatabidoffer.bq2\n",
        "        cur[col_idx['買價3']] = tickdatabidoffer.bp3\n",
        "        cur[col_idx['買量3']] = tickdatabidoffer.bq3\n",
        "        cur[col_idx['買價4']] = tickdatabidoffer.bp4\n",
        "        cur[col_idx['買量4']] = tickdatabidoffer.bq4\n",
        "        cur[col_idx['買價5']] = tickdatabidoffer.bp5\n",
        "        cur[col_idx['買量5']] = tickdatabidoffer.bq5\n",
        "        cur[col_idx['賣價1']] = tickdatabidoffer.sp1\n",
        "        cur[col_idx['賣量1']] = tickdatabidoffer.sq1\n",
        "        cur[col_idx['賣價2']] = tickdatabidoffer.sp2\n",
        "        cur[col_idx['賣量2']] = tickdatabidoffer.sq2\n",
        "        cur[col_idx['賣價3']] = tickdatabidoffer.sp3\n",
        "        cur[col_idx['賣量3']] = tickdatabidoffer.sq3\n",
        "        cur[col_idx['賣價4']] = tickdatabidoffer.sp4\n",
        "        cur[col_idx['賣量4']] = tickdatabidoffer.sq4\n",
        "        cur[col_idx['賣價5']] = tickdatabidoffer.sp5\n",
        "        cur[col_idx['賣量5']] = tickdatabidoffer.sq5\n",
        "        with fig.batch_update():\n",
        "            fig.data[0].cells.values = cur\n",
        "    else:\n",
        "        print(\"tickdatabidoffer \"+tickDataBeforeBidOfferResponse.error)\n",
        "\n",
        "\n",
        ""
      ]
    },
    {
      "cell_type": "code",
      "execution_count": 13,
      "metadata": {
        "colab": {
          "base_uri": "https://localhost:8080/",
          "height": 792,
          "referenced_widgets": [
            "ec05872c99fb479fab749f07b152c750",
            "1fd2948ee9584e89be987b98c8190b1f"
          ]
        },
        "id": "X7-cQ3foD9U6",
        "outputId": "76bf52e6-0212-495e-de77-c10cd394d8c7"
      },
      "outputs": [
        {
          "output_type": "stream",
          "name": "stdout",
          "text": [
            "註冊成交買賣價量 TXFK4 True \n",
            "註冊最高最低價 TXFK4 True \n",
            "註冊開收盤價 TXFK4 True \n"
          ]
        },
        {
          "output_type": "display_data",
          "data": {
            "application/vnd.jupyter.widget-view+json": {
              "version_major": 2,
              "version_minor": 0,
              "model_id": "ec05872c99fb479fab749f07b152c750"
            },
            "text/plain": [
              "FigureWidget({\n",
              "    'data': [{'cells': {'align': 'left',\n",
              "                        'values': [105042087000, 23392.0, 2, 23390.0, 5, 23389.0,\n",
              "                                   8, 23388.0, 10, 23387.0, 10, 23386.0, 6,\n",
              "                                   23392.0, 2, 23393.0, 16, 23394.0, 4, 23395.0, 7,\n",
              "                                   23396.0, 9]},\n",
              "              'header': {'values': [成交時間, 成交價, 成交量, 買價1, 買量1, 買價2, 買量2, 買價3, 買量3,\n",
              "                                    買價4, 買量4, 買價5, 買量5, 賣價1, 賣量1, 賣價2, 賣量2, 賣價3,\n",
              "                                    賣量3, 賣價4, 賣量4, 賣價5, 賣量5]},\n",
              "              'type': 'table',\n",
              "              'uid': 'def9836c-326b-4f2e-97e5-3612366af825'}],\n",
              "    'layout': {'autosize': True, 'template': '...'}\n",
              "})"
            ]
          },
          "metadata": {
            "application/vnd.jupyter.widget-view+json": {
              "colab": {
                "custom_widget_manager": {
                  "url": "https://ssl.gstatic.com/colaboratory-static/widgets/colab-cdn-widget-manager/2b70e893a8ba7c0f/manager.min.js"
                }
              }
            }
          }
        },
        {
          "output_type": "display_data",
          "data": {
            "application/vnd.jupyter.widget-view+json": {
              "version_major": 2,
              "version_minor": 0,
              "model_id": "1fd2948ee9584e89be987b98c8190b1f"
            },
            "text/plain": [
              "FigureWidget({\n",
              "    'data': [{'cells': {'align': 'left', 'values': ['084500048000', 23555.0, 212, '100258374000', 23618.0, 23309.0]},\n",
              "              'header': {'values': ['開盤時間', '開盤價', '開盤量', '最高低價時間', '最高', '最低']},\n",
              "              'type': 'table',\n",
              "              'uid': 'de34e743-5647-4f39-bc3e-dd044c21c061'}],\n",
              "    'layout': {'autosize': True, 'template': '...'}\n",
              "})"
            ]
          },
          "metadata": {
            "application/vnd.jupyter.widget-view+json": {
              "colab": {
                "custom_widget_manager": {
                  "url": "https://ssl.gstatic.com/colaboratory-static/widgets/colab-cdn-widget-manager/2b70e893a8ba7c0f/manager.min.js"
                }
              }
            }
          }
        }
      ],
      "source": [
        "#訂閱成交和最佳買賣價接收範例\n",
        "productid='TXFK4'#商品代碼\n",
        "#開盤價量接收處理\n",
        "def on_tick_data_open(tickdataopen: DTickDataOpen):\n",
        "    cur = list(fig2.data[0].cells.values)\n",
        "    cur[col_idx['開盤時間']] = tickdataopen.opentime\n",
        "    cur[col_idx['開盤價']] = tickdataopen.openprice\n",
        "    cur[col_idx['開盤量'] ]= tickdataopen.openquantity\n",
        "    with fig2.batch_update():\n",
        "        fig2.data[0].cells.values = cur\n",
        "#成交價量接收處理\n",
        "def on_tick_data_trade(tickdatatrade: DTickDataTrade):\n",
        "    cur = list(fig.data[0].cells.values)\n",
        "    cur[col_idx['成交時間']] = tickdatatrade.matchtime\n",
        "    cur[col_idx['成交價']] = tickdatatrade.matchprice\n",
        "    cur[col_idx['成交量']] = tickdatatrade.matchquantity\n",
        "    with fig.batch_update():\n",
        "        fig.data[0].cells.values = cur\n",
        "#最高最低價接收處理\n",
        "def on_tick_data_high_low(tickdatahighlow: DTickDataHighLow):\n",
        "    cur = list(fig2.data[0].cells.values)\n",
        "    cur[col_idx['最高']] = tickdatahighlow.dayhighprice\n",
        "    cur[col_idx['最低']] = tickdatahighlow.daylowprice\n",
        "    cur[col_idx['最高低價時間']] = tickdatahighlow.showtime\n",
        "    with fig2.batch_update():\n",
        "        fig2.data[0].cells.values = cur\n",
        "#最佳買賣價量接收處理\n",
        "def on_tick_data_bid_offer(tickdatabidoffer: DTickDataBidOffer):\n",
        "    cur = list(fig.data[0].cells.values)\n",
        "    cur[col_idx['買價1']] = tickdatabidoffer.bp1\n",
        "    cur[col_idx['買量1']] = tickdatabidoffer.bq1\n",
        "    cur[col_idx['買價2']] = tickdatabidoffer.bp2\n",
        "    cur[col_idx['買量2']] = tickdatabidoffer.bq2\n",
        "    cur[col_idx['買價3']] = tickdatabidoffer.bp3\n",
        "    cur[col_idx['買量3']] = tickdatabidoffer.bq3\n",
        "    cur[col_idx['買價4']] = tickdatabidoffer.bp4\n",
        "    cur[col_idx['買量4']] = tickdatabidoffer.bq4\n",
        "    cur[col_idx['買價5']] = tickdatabidoffer.bp5\n",
        "    cur[col_idx['買量5']] = tickdatabidoffer.bq5\n",
        "    cur[col_idx['賣價1']] = tickdatabidoffer.sp1\n",
        "    cur[col_idx['賣量1']] = tickdatabidoffer.sq1\n",
        "    cur[col_idx['賣價2']] = tickdatabidoffer.sp2\n",
        "    cur[col_idx['賣量2']] = tickdatabidoffer.sq2\n",
        "    cur[col_idx['賣價3']] = tickdatabidoffer.sp3\n",
        "    cur[col_idx['賣量3']] = tickdatabidoffer.sq3\n",
        "    cur[col_idx['賣價4']] = tickdatabidoffer.sp4\n",
        "    cur[col_idx['賣量4']] = tickdatabidoffer.sq4\n",
        "    cur[col_idx['賣價5']] = tickdatabidoffer.sp5\n",
        "    cur[col_idx['賣量5']] = tickdatabidoffer.sq5\n",
        "    with fig.batch_update():\n",
        "        fig.data[0].cells.values = cur\n",
        "#訂閱接收事件\n",
        "api.dquote.on_tick_data_open = on_tick_data_open\n",
        "api.dquote.on_tick_data_high_low = on_tick_data_high_low\n",
        "api.dquote.on_tick_data_trade = on_tick_data_trade\n",
        "api.dquote.on_tick_data_bid_offer = on_tick_data_bid_offer\n",
        "if loginresponse.ok == True:\n",
        "    subok,msg=api.dquote.subscribe_trade_bid_offer(productid)\n",
        "    print(f'註冊成交買賣價量 {productid} {subok} {msg}')\n",
        "    subok,msg=api.dquote.subscribe_high_low(productid)\n",
        "    print(f'註冊最高最低價 {productid} {subok} {msg}')\n",
        "    subok,msg=api.dquote.subscribe_open(productid)\n",
        "    print(f'註冊開收盤價 {productid} {subok} {msg}')\n",
        "    display(fig)\n",
        "    display(fig2)\n",
        "else:\n",
        "    print(loginresponse.error)"
      ]
    },
    {
      "cell_type": "code",
      "execution_count": 14,
      "metadata": {
        "colab": {
          "base_uri": "https://localhost:8080/"
        },
        "id": "ukFeXkhHD9U7",
        "outputId": "bd93f95a-365b-46fa-93b1-1ec1718404fd"
      },
      "outputs": [
        {
          "output_type": "stream",
          "name": "stdout",
          "text": [
            "反註冊成交買賣價量 TXFK4 True \n",
            "反註冊最高最低價 TXFK4 True \n",
            "反註冊開收盤價 TXFK4 True \n"
          ]
        }
      ],
      "source": [
        "#反註冊報價\n",
        "unsub_ok,msg=api.dquote.unsubscribe_trade_bid_offer(productid)\n",
        "print(f'反註冊成交買賣價量 {productid} {unsub_ok} {msg}')\n",
        "unsub_ok,msg=api.dquote.unsubscribe_high_low(productid)\n",
        "print(f'反註冊最高最低價 {productid} {unsub_ok} {msg}')\n",
        "unsub_ok,msg=api.dquote.unsubscribe_open(productid)\n",
        "print(f'反註冊開收盤價 {productid} {unsub_ok} {msg}')"
      ]
    },
    {
      "cell_type": "code",
      "execution_count": 15,
      "metadata": {
        "colab": {
          "base_uri": "https://localhost:8080/",
          "height": 377,
          "referenced_widgets": [
            "4f5f0e3561d74f58bbe19d47c33bfc75"
          ]
        },
        "id": "WfThDUUBD9U8",
        "outputId": "9b589df9-d97d-40f1-8d46-c9d49e00acb4"
      },
      "outputs": [
        {
          "output_type": "display_data",
          "data": {
            "application/vnd.jupyter.widget-view+json": {
              "version_major": 2,
              "version_minor": 0,
              "model_id": "4f5f0e3561d74f58bbe19d47c33bfc75"
            },
            "text/plain": [
              "FigureWidget({\n",
              "    'data': [{'cells': {'align': 'left', 'values': [[''], ['']]},\n",
              "              'header': {'values': ['現貨統計時間', '現貨價格']},\n",
              "              'type': 'table',\n",
              "              'uid': '7e74a290-b25d-4f92-a72b-161ecc6dec3f'}],\n",
              "    'layout': {'autosize': True, 'height': 100, 'margin': {'b': 0, 'l': 0, 'r': 0, 't': 0}, 'template': '...'}\n",
              "})"
            ]
          },
          "metadata": {
            "application/vnd.jupyter.widget-view+json": {
              "colab": {
                "custom_widget_manager": {
                  "url": "https://ssl.gstatic.com/colaboratory-static/widgets/colab-cdn-widget-manager/2b70e893a8ba7c0f/manager.min.js"
                }
              }
            }
          }
        }
      ],
      "source": [
        "#查詢現貨價量範例\n",
        "index_id='TXF'#代碼\n",
        "display(fig3)\n",
        "if loginresponse.ok == True:\n",
        "     #查詢\n",
        "    indexdataResponse=api.dquote.query_index_data(index_id)\n",
        "    if indexdataResponse.ok == True:\n",
        "        indexdata=indexdataResponse.data\n",
        "        cur = list(fig3.data[0].cells.values)\n",
        "        cur[col3_idx['現貨統計時間']] = indexdata.index_time\n",
        "        cur[col3_idx['現貨價格']] = indexdata.index_value\n",
        "        with fig3.batch_update():\n",
        "            fig3.data[0].cells.values = cur\n",
        "    else:\n",
        "        print(indexdataResponse.error)"
      ]
    },
    {
      "cell_type": "code",
      "execution_count": 16,
      "metadata": {
        "colab": {
          "base_uri": "https://localhost:8080/",
          "height": 395,
          "referenced_widgets": [
            "4f5f0e3561d74f58bbe19d47c33bfc75"
          ]
        },
        "id": "6GjADmP3D9U8",
        "outputId": "baeef8db-c172-4286-8192-256a72aa9e0e"
      },
      "outputs": [
        {
          "output_type": "stream",
          "name": "stdout",
          "text": [
            "註冊現貨價量 TXF True \n"
          ]
        },
        {
          "output_type": "display_data",
          "data": {
            "application/vnd.jupyter.widget-view+json": {
              "version_major": 2,
              "version_minor": 0,
              "model_id": "4f5f0e3561d74f58bbe19d47c33bfc75"
            },
            "text/plain": [
              "FigureWidget({\n",
              "    'data': [{'cells': {'align': 'left', 'values': ['105120000000', 23383.69]},\n",
              "              'header': {'values': ['現貨統計時間', '現貨價格']},\n",
              "              'type': 'table',\n",
              "              'uid': '7e74a290-b25d-4f92-a72b-161ecc6dec3f'}],\n",
              "    'layout': {'autosize': True, 'template': '...'}\n",
              "})"
            ]
          },
          "metadata": {
            "application/vnd.jupyter.widget-view+json": {
              "colab": {
                "custom_widget_manager": {
                  "url": "https://ssl.gstatic.com/colaboratory-static/widgets/colab-cdn-widget-manager/2b70e893a8ba7c0f/manager.min.js"
                }
              }
            }
          }
        }
      ],
      "source": [
        "#訂閱現貨價量接收範例\n",
        "index_id='TXF' #代碼\n",
        "#接收現貨價量處理\n",
        "def on_index_data(indexdata: DIndexData):\n",
        "    cur = list(fig3.data[0].cells.values)\n",
        "    cur[col3_idx['現貨統計時間']] = indexdata.index_time\n",
        "    cur[col3_idx['現貨價格']] = indexdata.index_value\n",
        "    with fig3.batch_update():\n",
        "        fig3.data[0].cells.values = cur\n",
        "#訂閱事件\n",
        "api.dquote.on_index_data = on_index_data\n",
        "if loginresponse.ok == True:\n",
        "    #註冊報價\n",
        "    subok,msg=api.dquote.subscribe_index_data('1',index_id)\n",
        "    print(f'註冊現貨價量 {index_id} {subok} {msg}')\n",
        "    display(fig3)\n",
        "else:\n",
        "    print(loginresponse.error)"
      ]
    },
    {
      "cell_type": "code",
      "execution_count": 17,
      "metadata": {
        "colab": {
          "base_uri": "https://localhost:8080/"
        },
        "id": "UliI5PakD9U9",
        "outputId": "6485862d-1aaa-4034-e6eb-11a73e1d9e00"
      },
      "outputs": [
        {
          "output_type": "stream",
          "name": "stdout",
          "text": [
            "反註冊現貨價量 TXF True \n"
          ]
        }
      ],
      "source": [
        "#反註冊現貨價量接收\n",
        "unsub_ok,msg=api.dquote.unsubscribe_index_data('1',index_id)\n",
        "print(f'反註冊現貨價量 {index_id} {unsub_ok} {msg}')"
      ]
    },
    {
      "cell_type": "code",
      "execution_count": 20,
      "metadata": {
        "scrolled": true,
        "colab": {
          "base_uri": "https://localhost:8080/"
        },
        "id": "mH6XalmnD9U9",
        "outputId": "8e2c7c08-b2de-4a36-d8f9-be0698d12226"
      },
      "outputs": [
        {
          "output_type": "stream",
          "name": "stdout",
          "text": [
            "登出完畢\n",
            "登入旗標False\n"
          ]
        }
      ],
      "source": [
        "#系統登出\n",
        "api.logout()\n",
        "print('登出完畢')\n",
        "print(f\"登入旗標{api.login_status_flag}\")\n"
      ]
    }
  ],
  "metadata": {
    "kernelspec": {
      "display_name": "Python 3 (ipykernel)",
      "language": "python",
      "name": "python3"
    },
    "language_info": {
      "codemirror_mode": {
        "name": "ipython",
        "version": 3
      },
      "file_extension": ".py",
      "mimetype": "text/x-python",
      "name": "python",
      "nbconvert_exporter": "python",
      "pygments_lexer": "ipython3",
      "version": "3.12.5"
    },
    "colab": {
      "provenance": [],
      "toc_visible": true,
      "include_colab_link": true
    },
    "widgets": {
      "application/vnd.jupyter.widget-state+json": {
        "ec05872c99fb479fab749f07b152c750": {
          "model_module": "jupyterlab-plotly",
          "model_name": "FigureModel",
          "model_module_version": "^5.24.1",
          "state": {
            "_config": {
              "plotlyServerURL": "https://plot.ly"
            },
            "_data": [
              {
                "cells": {
                  "align": "left",
                  "values": [
                    [
                      ""
                    ],
                    [
                      ""
                    ],
                    [
                      ""
                    ],
                    [
                      ""
                    ],
                    [
                      ""
                    ],
                    [
                      ""
                    ],
                    [
                      ""
                    ],
                    [
                      ""
                    ],
                    [
                      ""
                    ],
                    [
                      ""
                    ],
                    [
                      ""
                    ],
                    [
                      ""
                    ],
                    [
                      ""
                    ],
                    [
                      ""
                    ],
                    [
                      ""
                    ],
                    [
                      ""
                    ],
                    [
                      ""
                    ],
                    [
                      ""
                    ],
                    [
                      ""
                    ],
                    [
                      ""
                    ],
                    [
                      ""
                    ],
                    [
                      ""
                    ],
                    [
                      ""
                    ]
                  ]
                },
                "header": {
                  "values": [
                    "成交時間",
                    "成交價",
                    "成交量",
                    "買價1",
                    "買量1",
                    "買價2",
                    "買量2",
                    "買價3",
                    "買量3",
                    "買價4",
                    "買量4",
                    "買價5",
                    "買量5",
                    "賣價1",
                    "賣量1",
                    "賣價2",
                    "賣量2",
                    "賣價3",
                    "賣量3",
                    "賣價4",
                    "賣量4",
                    "賣價5",
                    "賣量5"
                  ]
                },
                "type": "table",
                "uid": "def9836c-326b-4f2e-97e5-3612366af825"
              }
            ],
            "_dom_classes": [],
            "_js2py_layoutDelta": null,
            "_js2py_pointsCallback": {},
            "_js2py_relayout": null,
            "_js2py_restyle": {},
            "_js2py_traceDeltas": null,
            "_js2py_update": {},
            "_last_layout_edit_id": 45,
            "_last_trace_edit_id": 44,
            "_layout": {},
            "_model_module": "jupyterlab-plotly",
            "_model_module_version": "^5.24.1",
            "_model_name": "FigureModel",
            "_py2js_addTraces": {},
            "_py2js_animate": {},
            "_py2js_deleteTraces": {},
            "_py2js_moveTraces": {},
            "_py2js_relayout": null,
            "_py2js_removeLayoutProps": null,
            "_py2js_removeTraceProps": {},
            "_py2js_restyle": {},
            "_py2js_update": null,
            "_view_count": 3,
            "_view_module": "jupyterlab-plotly",
            "_view_module_version": "^5.24.1",
            "_view_name": "FigureView"
          }
        },
        "1fd2948ee9584e89be987b98c8190b1f": {
          "model_module": "jupyterlab-plotly",
          "model_name": "FigureModel",
          "model_module_version": "^5.24.1",
          "state": {
            "_config": {
              "plotlyServerURL": "https://plot.ly"
            },
            "_data": [
              {
                "cells": {
                  "align": "left",
                  "values": [
                    [
                      ""
                    ],
                    [
                      ""
                    ],
                    [
                      ""
                    ],
                    [
                      ""
                    ],
                    [
                      ""
                    ],
                    [
                      ""
                    ]
                  ]
                },
                "header": {
                  "values": [
                    "開盤時間",
                    "開盤價",
                    "開盤量",
                    "最高低價時間",
                    "最高",
                    "最低"
                  ]
                },
                "type": "table",
                "uid": "de34e743-5647-4f39-bc3e-dd044c21c061"
              }
            ],
            "_dom_classes": [],
            "_js2py_layoutDelta": null,
            "_js2py_pointsCallback": {},
            "_js2py_relayout": null,
            "_js2py_restyle": {},
            "_js2py_traceDeltas": null,
            "_js2py_update": {},
            "_last_layout_edit_id": 5,
            "_last_trace_edit_id": 3,
            "_layout": {},
            "_model_module": "jupyterlab-plotly",
            "_model_module_version": "^5.24.1",
            "_model_name": "FigureModel",
            "_py2js_addTraces": {},
            "_py2js_animate": {},
            "_py2js_deleteTraces": {},
            "_py2js_moveTraces": {},
            "_py2js_relayout": null,
            "_py2js_removeLayoutProps": null,
            "_py2js_removeTraceProps": {},
            "_py2js_restyle": null,
            "_py2js_update": null,
            "_view_count": 2,
            "_view_module": "jupyterlab-plotly",
            "_view_module_version": "^5.24.1",
            "_view_name": "FigureView"
          }
        },
        "4f5f0e3561d74f58bbe19d47c33bfc75": {
          "model_module": "jupyterlab-plotly",
          "model_name": "FigureModel",
          "model_module_version": "^5.24.1",
          "state": {
            "_config": {
              "plotlyServerURL": "https://plot.ly"
            },
            "_data": [
              {
                "cells": {
                  "align": "left",
                  "values": [
                    [
                      ""
                    ],
                    [
                      ""
                    ]
                  ]
                },
                "header": {
                  "values": [
                    "現貨統計時間",
                    "現貨價格"
                  ]
                },
                "type": "table",
                "uid": "7e74a290-b25d-4f92-a72b-161ecc6dec3f"
              }
            ],
            "_dom_classes": [],
            "_js2py_layoutDelta": null,
            "_js2py_pointsCallback": {},
            "_js2py_relayout": null,
            "_js2py_restyle": {},
            "_js2py_traceDeltas": null,
            "_js2py_update": {},
            "_last_layout_edit_id": 4,
            "_last_trace_edit_id": 3,
            "_layout": {},
            "_model_module": "jupyterlab-plotly",
            "_model_module_version": "^5.24.1",
            "_model_name": "FigureModel",
            "_py2js_addTraces": {},
            "_py2js_animate": {},
            "_py2js_deleteTraces": {},
            "_py2js_moveTraces": {},
            "_py2js_relayout": null,
            "_py2js_removeLayoutProps": null,
            "_py2js_removeTraceProps": {},
            "_py2js_restyle": {},
            "_py2js_update": null,
            "_view_count": 2,
            "_view_module": "jupyterlab-plotly",
            "_view_module_version": "^5.24.1",
            "_view_name": "FigureView"
          }
        }
      }
    }
  },
  "nbformat": 4,
  "nbformat_minor": 0
}