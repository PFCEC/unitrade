{
  "cells": [
    {
      "cell_type": "markdown",
      "metadata": {
        "colab_type": "text",
        "id": "view-in-github"
      },
      "source": [
        "<a href=\"https://colab.research.google.com/github/PFCEC/unitrade/blob/main/%E6%95%99%E5%AD%B8/sample/%E5%A4%96%E6%9C%9F%E8%A1%8C%E6%83%85%E7%AF%84%E4%BE%8B.ipynb\" target=\"_parent\"><img src=\"https://colab.research.google.com/assets/colab-badge.svg\" alt=\"Open In Colab\"/></a>"
      ]
    },
    {
      "cell_type": "markdown",
      "metadata": {
        "id": "ItyqMwpF9YJA"
      },
      "source": []
    },
    {
      "cell_type": "markdown",
      "metadata": {
        "id": "HImbuf--E6qi"
      },
      "source": [
        "<div class=\"markdown-google-sans\">\n",
        "\n",
        "# <strong>事先準備</strong>\n",
        "</div>"
      ]
    },
    {
      "cell_type": "markdown",
      "metadata": {
        "id": "u3RO0BeThqIg"
      },
      "source": [
        "<div class=\"markdown-google-sans\">\n",
        "\n",
        "## <strong>安裝plotly</strong>\n",
        "</div>\n",
        "範例會使用plotly表格呈現,請先安裝plotly<br/>\n"
      ]
    },
    {
      "cell_type": "code",
      "execution_count": null,
      "metadata": {
        "id": "vGjcJZ1hhqIi",
        "scrolled": true
      },
      "outputs": [],
      "source": [
        "!pip install plotly"
      ]
    },
    {
      "cell_type": "markdown",
      "metadata": {
        "id": "wNRM9Ak4Kqcy"
      },
      "source": [
        "<div class=\"markdown-google-sans\">\n",
        "\n",
        "## <strong>載入plotly和設定渲染器</strong>\n",
        "</div>\n",
        "並且為了colab可以瀏覽,請透過以下指令設定"
      ]
    },
    {
      "cell_type": "code",
      "execution_count": null,
      "metadata": {
        "id": "Pa9JbL-OKvLc"
      },
      "outputs": [],
      "source": [
        "#匯入顯示表格套件\n",
        "import plotly.graph_objs as go\n",
        "from plotly.offline import init_notebook_mode\n",
        "import plotly.io as pio\n",
        "pio.renderers.default = 'colab'  # 或嘗試 'notebook' 或 'iframe' 渲染器\n",
        "from google.colab import output\n",
        "output.enable_custom_widget_manager()\n",
        "init_notebook_mode(connected=True)\n",
        "\n"
      ]
    },
    {
      "cell_type": "markdown",
      "metadata": {
        "id": "5gq-JxR0A_XM"
      },
      "source": [
        "<div class=\"markdown-google-sans\">\n",
        "\n",
        "## <strong>範例欄位設定</strong>\n",
        "</div>\n",
        "定義顯示欄位<br/>"
      ]
    },
    {
      "cell_type": "code",
      "execution_count": null,
      "metadata": {
        "id": "XeLjFJhwA0QQ"
      },
      "outputs": [],
      "source": [
        "from typing import List\n",
        "\n",
        "head_match = dict(values=['成交時間', '成交價','成交量'])\n",
        "head_bid = dict(values=['買價1','買量1' ,'買價2','買量2','買價3','買量3','買價4','買量4','買價5','買量5'\n",
        "                       ,'買價6','買量6','買價7','買量7','買價8','買量8','買價9','買量9','買價10','買量10' ])\n",
        "head_off = dict(values=['賣價1','賣量1' ,'賣價2','賣量2','賣價3','賣量3','賣價4','賣量4','賣價5','賣量5'\n",
        "                       ,'賣價6','賣量6','賣價7','賣量7','賣價8','賣量8','賣價9','賣量9','賣價10','賣量10' ])\n",
        "head_implied = dict(values=['隱含買價','隱含買量','隱含賣價','隱含賣量','最高價','最低價','開盤價','收盤價','目前結算價','最新結算價'])\n",
        "\n",
        "# 創建初始表格\n",
        "fig_match = go.FigureWidget(data=[go.Table( header=head_match, cells=dict(values=list(zip(*[['','','']])), align='left'),)])\n",
        "fig_match.update_layout(height=100, margin=dict(t=0, b=0, l=0, r=0),autosize=True)\n",
        "fig_bid = go.FigureWidget(data=[go.Table( header=head_bid, cells=dict(values=list(zip(*[['','','','','','','','','','','','','','','','','','','','']])), align='left'),)])\n",
        "fig_bid.update_layout(height=100, margin=dict(t=0, b=0, l=0, r=0),autosize=True)\n",
        "fig_off = go.FigureWidget(data=[go.Table( header=head_off, cells=dict(values=list(zip(*[['','','','','','','','','','','','','','','','','','','','']])), align='left'),)])\n",
        "fig_off.update_layout(height=100, margin=dict(t=0, b=0, l=0, r=0),autosize=True)\n",
        "fig_implied = go.FigureWidget(data=[go.Table( header=head_implied, cells=dict(values=list(zip(*[['','','','','','','','','','']])), align='left'),)])\n",
        "fig_implied.update_layout(height=100, margin=dict(t=0, b=0, l=0, r=0),autosize=True)\n",
        "col_match = {header: idx for idx, header in enumerate(head_match['values'])}\n",
        "col_bid = {header: idx for idx, header in enumerate(head_bid['values'])}\n",
        "col_off = {header: idx for idx, header in enumerate(head_off['values'])}\n",
        "col_implied = {header: idx for idx, header in enumerate(head_implied['values'])}"
      ]
    },
    {
      "cell_type": "markdown",
      "metadata": {
        "id": "-4s0qdl--EST"
      },
      "source": [
        "<div class=\"markdown-google-sans\">\n",
        "\n",
        "## <strong>安裝unitrade</strong>\n",
        "</div>"
      ]
    },
    {
      "cell_type": "code",
      "execution_count": null,
      "metadata": {
        "id": "pA-GQgr7iIod"
      },
      "outputs": [],
      "source": [
        "!pip install unitrade"
      ]
    },
    {
      "cell_type": "markdown",
      "metadata": {
        "id": "eeUwPGjahqIj"
      },
      "source": [
        "<div class=\"markdown-google-sans\">\n",
        "\n",
        "# <strong>初始化</strong>\n",
        "</div>"
      ]
    },
    {
      "cell_type": "code",
      "execution_count": null,
      "metadata": {
        "id": "yZxDgooGhqIj"
      },
      "outputs": [],
      "source": [
        "##API初始&登入\n",
        "import unitrade\n",
        "from unitrade.unitrade import *\n",
        "from unitrade.quote.fdata import *\n",
        "#初始API\n",
        "api = Unitrade()"
      ]
    },
    {
      "cell_type": "markdown",
      "metadata": {
        "id": "r1jl1-yE-Yb9"
      },
      "source": [
        "<div class=\"markdown-google-sans\">\n",
        "\n",
        "# <strong>登入api</strong>\n",
        "</div>"
      ]
    },
    {
      "cell_type": "code",
      "execution_count": null,
      "metadata": {
        "id": "Yxbg275XhqIk"
      },
      "outputs": [],
      "source": [
        "#錯誤事件處理\n",
        "api.on_error = lambda error: print(f'api錯誤 {error}')\n",
        "#系統登入\n",
        "loginresponse = api.login(\n",
        "    \"url\", \"帳號\", \"密碼\", '憑證檔名', '憑證密碼')#url,帳號,密碼,憑證檔名,憑證密碼 \n",
        "\n",
        "#顯示登入結果\n",
        "print(loginresponse)\n",
        "print(f\"登入旗標{api.login_status_flag}\")\n",
        "print(f\"交易帳號{api.get_accounts()}\")\n"
      ]
    },
    {
      "cell_type": "markdown",
      "metadata": {
        "id": "ro9GGoIOFz-k"
      },
      "source": [
        "<div class=\"markdown-google-sans\">\n",
        "\n",
        "# <strong>查詢行情</strong>\n",
        "</div>"
      ]
    },
    {
      "cell_type": "markdown",
      "metadata": {
        "id": "N1NzkGKCNAWz"
      },
      "source": [
        "\n",
        "<div class=\"markdown-google-sans\">\n",
        "\n",
        "## <strong>成交價量</strong>\n",
        "</div>\n",
        "透過query_tick_data_trade方法實作,帶入商品代碼\n"
      ]
    },
    {
      "cell_type": "code",
      "execution_count": null,
      "metadata": {
        "id": "2dSVmboBNHEf"
      },
      "outputs": [],
      "source": [
        "productid='CME|NQ|202412|F|' #商品代碼\n",
        "tickDataTradeResponse=api.fquote.query_tick_data_trade(exchange= productid.split('|')[0], symbol= productid.split('|')[1], ym=productid.split('|')[2], cp= productid.split('|')[3], strike=productid.split('|')[4] )\n",
        "if tickDataTradeResponse.ok == True:\n",
        "  tickdatatrade=tickDataTradeResponse.data\n",
        "  cur = list(fig_match.data[0].cells.values)\n",
        "  cur[col_match['成交時間']] =tickdatatrade.time\n",
        "  cur[col_match['成交價']] = tickdatatrade.lastprice\n",
        "  cur[col_match['成交量'] ]= tickdatatrade.lastvolume\n",
        "  with fig_match.batch_update():\n",
        "    fig_match.data[0].cells.values = cur\n",
        "  display(fig_match)\n",
        "else:\n",
        "  print('結果 '+tickDataTradeResponse.error)"
      ]
    },
    {
      "cell_type": "markdown",
      "metadata": {
        "id": "BBm2ojpSNLRB"
      },
      "source": [
        "<div class=\"markdown-google-sans\">\n",
        "\n",
        "## <strong>最佳買價量</strong>\n",
        "</div>\n",
        "透過query_tick_data_bid方法實作,帶入商品代碼\n"
      ]
    },
    {
      "cell_type": "code",
      "execution_count": null,
      "metadata": {
        "id": "zreIEdmeNSQy"
      },
      "outputs": [],
      "source": [
        "tickDataBidResponse=api.fquote.query_tick_data_bid(exchange= productid.split('|')[0], symbol= productid.split('|')[1], ym=productid.split('|')[2], cp= productid.split('|')[3], strike=productid.split('|')[4] )\n",
        "if tickDataBidResponse.ok == True:\n",
        "    tickdatabid=tickDataBidResponse.data\n",
        "    cur = list(fig_bid.data[0].cells.values)\n",
        "    cur[col_bid['買價1']] =tickdatabid.BidDOM1Price\n",
        "    cur[col_bid['買量1']] =tickdatabid.BidDOM1Volume\n",
        "    cur[col_bid['買價2']] =tickdatabid.BidDOM2Price\n",
        "    cur[col_bid['買量2']] =tickdatabid.BidDOM2Volume\n",
        "    cur[col_bid['買價3']] =tickdatabid.BidDOM3Price\n",
        "    cur[col_bid['買量3']] =tickdatabid.BidDOM3Volume\n",
        "    cur[col_bid['買價4']] =tickdatabid.BidDOM4Price\n",
        "    cur[col_bid['買量4']] =tickdatabid.BidDOM4Volume\n",
        "    cur[col_bid['買價5']] =tickdatabid.BidDOM5Price\n",
        "    cur[col_bid['買量5']] =tickdatabid.BidDOM5Volume\n",
        "    cur[col_bid['買價6']] =tickdatabid.BidDOM6Price\n",
        "    cur[col_bid['買量6']] =tickdatabid.BidDOM6Volume\n",
        "    cur[col_bid['買價7']] =tickdatabid.BidDOM7Price\n",
        "    cur[col_bid['買量7']] =tickdatabid.BidDOM7Volume\n",
        "    cur[col_bid['買價8']] =tickdatabid.BidDOM8Price\n",
        "    cur[col_bid['買量8']] =tickdatabid.BidDOM8Volume\n",
        "    cur[col_bid['買價9']] =tickdatabid.BidDOM9Price\n",
        "    cur[col_bid['買量9']] =tickdatabid.BidDOM9Volume\n",
        "    cur[col_bid['買價10']] =tickdatabid.BidDOM10Price\n",
        "    cur[col_bid['買量10']] =tickdatabid.BidDOM10Volume\n",
        "    with fig_bid.batch_update():\n",
        "        fig_bid.data[0].cells.values = cur\n",
        "    display(fig_bid)\n",
        "else:\n",
        "    print('tickDataBidResponse '+tickDataBidResponse.error)"
      ]
    },
    {
      "cell_type": "markdown",
      "metadata": {
        "id": "t0RseKw6TUyf"
      },
      "source": [
        "<div class=\"markdown-google-sans\">\n",
        "\n",
        "## <strong>最佳賣價量</strong>\n",
        "</div>\n",
        "透過query_tick_data_offer方法實作,帶入商品代碼\n"
      ]
    },
    {
      "cell_type": "code",
      "execution_count": null,
      "metadata": {
        "id": "u-MwHyVuTaaF"
      },
      "outputs": [],
      "source": [
        "tickDataoffResponse=api.fquote.query_tick_data_offer(exchange= productid.split('|')[0], symbol= productid.split('|')[1], ym=productid.split('|')[2], cp= productid.split('|')[3], strike=productid.split('|')[4] )\n",
        "if tickDataoffResponse.ok == True:\n",
        "    tickdataOffer=tickDataoffResponse.data\n",
        "    cur = list(fig_off.data[0].cells.values)\n",
        "    cur[col_off['賣價1']] =tickdataOffer.OfferDOM1Price\n",
        "    cur[col_off['賣量1']] =tickdataOffer.OfferDOM1Volume\n",
        "    cur[col_off['賣價2']] =tickdataOffer.OfferDOM2Price\n",
        "    cur[col_off['賣量2']] =tickdataOffer.OfferDOM2Volume\n",
        "    cur[col_off['賣價3']] =tickdataOffer.OfferDOM3Price\n",
        "    cur[col_off['賣量3']] =tickdataOffer.OfferDOM3Volume\n",
        "    cur[col_off['賣價4']] =tickdataOffer.OfferDOM4Price\n",
        "    cur[col_off['賣量4']] =tickdataOffer.OfferDOM4Volume\n",
        "    cur[col_off['賣價5']] =tickdataOffer.OfferDOM5Price\n",
        "    cur[col_off['賣量5']] =tickdataOffer.OfferDOM5Volume\n",
        "    cur[col_off['賣價6']] =tickdataOffer.OfferDOM6Price\n",
        "    cur[col_off['賣量6']] =tickdataOffer.OfferDOM6Volume\n",
        "    cur[col_off['賣價7']] =tickdataOffer.OfferDOM7Price\n",
        "    cur[col_off['賣量7']] =tickdataOffer.OfferDOM7Volume\n",
        "    cur[col_off['賣價8']] =tickdataOffer.OfferDOM8Price\n",
        "    cur[col_off['賣量8']] =tickdataOffer.OfferDOM8Volume\n",
        "    cur[col_off['賣價9']] =tickdataOffer.OfferDOM9Price\n",
        "    cur[col_off['賣量9']] =tickdataOffer.OfferDOM9Volume\n",
        "    cur[col_off['賣價10']] =tickdataOffer.OfferDOM10Price\n",
        "    cur[col_off['賣量10']] =tickdataOffer.OfferDOM10Volume\n",
        "    with fig_off.batch_update():\n",
        "        fig_off.data[0].cells.values = cur\n",
        "    display(fig_off)\n",
        "else:\n",
        "    print('結果 '+tickDataoffResponse.error)"
      ]
    },
    {
      "cell_type": "markdown",
      "metadata": {
        "id": "fyfDcbl7UKNH"
      },
      "source": [
        "<div class=\"markdown-google-sans\">\n",
        "\n",
        "## <strong>隱含買賣價</strong>\n",
        "</div>\n",
        "透過query_tick_data_implied方法實作,帶入商品代碼\n"
      ]
    },
    {
      "cell_type": "code",
      "execution_count": null,
      "metadata": {
        "id": "VEV3YAhyUbZg"
      },
      "outputs": [],
      "source": [
        "tickDataImpliedResponse=api.fquote.query_tick_data_implied(exchange= productid.split('|')[0], symbol= productid.split('|')[1], ym=productid.split('|')[2], cp= productid.split('|')[3], strike=productid.split('|')[4] )\n",
        "if tickDataImpliedResponse.ok == True:\n",
        "  tickdataimplied=tickDataImpliedResponse.data\n",
        "  cur = list(fig_implied.data[0].cells.values)\n",
        "  cur[col_implied['隱含買價']] = tickdataimplied.ImpliedBidPrice\n",
        "  cur[col_implied['隱含買量']] = tickdataimplied.ImpliedBidVolume\n",
        "  cur[col_implied['隱含賣價']] = tickdataimplied.ImpliedOfferPrice\n",
        "  cur[col_implied['隱含賣量']] = tickdataimplied.ImpliedOfferVolume\n",
        "  with fig_implied.batch_update():\n",
        "    fig_implied.data[0].cells.values = cur\n",
        "  display(fig_implied)\n",
        "else:\n",
        "  print('結果 '+tickDataImpliedResponse.error)"
      ]
    },
    {
      "cell_type": "markdown",
      "metadata": {
        "id": "MUcgsYiRVJQ4"
      },
      "source": [
        "<div class=\"markdown-google-sans\">\n",
        "\n",
        "## <strong>開收盤價</strong>\n",
        "</div>\n",
        "透過query_tick_data_open_close方法實作,帶入商品代碼\n"
      ]
    },
    {
      "cell_type": "code",
      "execution_count": null,
      "metadata": {
        "id": "a_pag9UfVWe2"
      },
      "outputs": [],
      "source": [
        "tickDataOpencloseResponse=api.fquote.query_tick_data_open_close(exchange= productid.split('|')[0], symbol= productid.split('|')[1], ym=productid.split('|')[2], cp= productid.split('|')[3], strike=productid.split('|')[4] )\n",
        "if tickDataOpencloseResponse.ok == True:\n",
        "  tickdataopenclose=tickDataOpencloseResponse.data\n",
        "  cur = list(fig_implied.data[0].cells.values)\n",
        "  cur[col_implied['開盤價']] = tickdataopenclose.Opening\n",
        "  cur[col_implied['收盤價']] = tickdataopenclose.Closing\n",
        "  with fig_implied.batch_update():\n",
        "    fig_implied.data[0].cells.values = cur\n",
        "  display(fig_implied)\n",
        "else:\n",
        "  print('結果 '+tickDataOpencloseResponse.error)"
      ]
    },
    {
      "cell_type": "markdown",
      "metadata": {
        "id": "F8XM4RI_WLi8"
      },
      "source": [
        "<div class=\"markdown-google-sans\">\n",
        "\n",
        "## <strong>最高最低價</strong>\n",
        "</div>\n",
        "透過query_tick_data_high_low方法實作,帶入商品代碼\n"
      ]
    },
    {
      "cell_type": "code",
      "execution_count": null,
      "metadata": {
        "id": "Q1C_4dVYWLi8"
      },
      "outputs": [],
      "source": [
        "tickDataHighLowResponse=api.fquote.query_tick_data_high_low(exchange= productid.split('|')[0], symbol= productid.split('|')[1], ym=productid.split('|')[2], cp= productid.split('|')[3], strike=productid.split('|')[4] )\n",
        "if tickDataHighLowResponse.ok==True:\n",
        "  tickdatahighlow=tickDataHighLowResponse.data\n",
        "  cur = list(fig_implied.data[0].cells.values)\n",
        "  cur[col_implied['最高價']] = tickdatahighlow.High\n",
        "  cur[col_implied['最低價']] = tickdatahighlow.Low\n",
        "  with fig_implied.batch_update():\n",
        "    fig_implied.data[0].cells.values = cur\n",
        "  display(fig_implied)\n",
        "else:\n",
        "  print('結果 '+tickDataOpencloseResponse.error)"
      ]
    },
    {
      "cell_type": "markdown",
      "metadata": {
        "id": "YCHuhicBVp91"
      },
      "source": [
        "<div class=\"markdown-google-sans\">\n",
        "\n",
        "## <strong>結算價</strong>\n",
        "</div>\n",
        "透過query_tick_data_settle方法實作,帶入商品代碼\n"
      ]
    },
    {
      "cell_type": "code",
      "execution_count": null,
      "metadata": {
        "id": "kfONh14VVyoa"
      },
      "outputs": [],
      "source": [
        "tickDataSettleResponse=api.fquote.query_tick_data_settle(exchange= productid.split('|')[0], symbol= productid.split('|')[1], ym=productid.split('|')[2], cp= productid.split('|')[3], strike=productid.split('|')[4] )\n",
        "if tickDataSettleResponse.ok==True:\n",
        "  tickdatasettle=tickDataSettleResponse.data\n",
        "  cur = list(fig_implied.data[0].cells.values)\n",
        "  cur[col_implied['目前結算價']] = tickdatasettle.CurrStl\n",
        "  cur[col_implied['最新結算價']] = tickdatasettle.NewStl\n",
        "  with fig_implied.batch_update():\n",
        "    fig_implied.data[0].cells.values = cur\n",
        "  display(fig_implied)\n",
        "else:\n",
        "  print('結果 '+tickDataSettleResponse.error)"
      ]
    },
    {
      "cell_type": "markdown",
      "metadata": {
        "id": "9DE-qfXM-f-W"
      },
      "source": [
        "<div class=\"markdown-google-sans\">\n",
        "\n",
        "# <strong>接收即時行情</strong>\n",
        "</div>"
      ]
    },
    {
      "cell_type": "markdown",
      "metadata": {
        "id": "8sD82KBj45YL"
      },
      "source": [
        "\n",
        "<div class=\"markdown-google-sans\">\n",
        "\n",
        "## <strong>*定義接收處理fucttion*</strong>\n",
        "</div>"
      ]
    },
    {
      "cell_type": "markdown",
      "metadata": {
        "id": "VtrVF1XbVv9r"
      },
      "source": [
        "<div class=\"markdown-google-sans\">\n",
        "\n",
        "### <strong>*成交價量*</strong>\n",
        "</div>"
      ]
    },
    {
      "cell_type": "code",
      "execution_count": null,
      "metadata": {
        "id": "Dj1BkO-abJZF"
      },
      "outputs": [],
      "source": [
        "def on_tick_data_trade(tickdatatrade: FTickDataTrade):\n",
        "  cur = list(fig_match.data[0].cells.values)\n",
        "  cur[col_match['成交時間']] =tickdatatrade.time\n",
        "  cur[col_match['成交價']] = tickdatatrade.lastprice\n",
        "  cur[col_match['成交量'] ]= tickdatatrade.lastvolume\n",
        "  with fig_match.batch_update():\n",
        "    fig_match.data[0].cells.values = cur"
      ]
    },
    {
      "cell_type": "markdown",
      "metadata": {
        "id": "SiBQ4y1KbAo5"
      },
      "source": [
        "<div class=\"markdown-google-sans\">\n",
        "\n",
        "### <strong>*最佳買價*</strong>\n",
        "</div>"
      ]
    },
    {
      "cell_type": "code",
      "execution_count": null,
      "metadata": {
        "id": "87h2d41zbL3s"
      },
      "outputs": [],
      "source": [
        "def on_tick_data_bid(tickdatabid: FTickDataBid):\n",
        "    cur = list(fig_bid.data[0].cells.values)\n",
        "    cur[col_bid['買價1']] =tickdatabid.BidDOM1Price\n",
        "    cur[col_bid['買量1']] =tickdatabid.BidDOM1Volume\n",
        "    cur[col_bid['買價2']] =tickdatabid.BidDOM2Price\n",
        "    cur[col_bid['買量2']] =tickdatabid.BidDOM2Volume\n",
        "    cur[col_bid['買價3']] =tickdatabid.BidDOM3Price\n",
        "    cur[col_bid['買量3']] =tickdatabid.BidDOM3Volume\n",
        "    cur[col_bid['買價4']] =tickdatabid.BidDOM4Price\n",
        "    cur[col_bid['買量4']] =tickdatabid.BidDOM4Volume\n",
        "    cur[col_bid['買價5']] =tickdatabid.BidDOM5Price\n",
        "    cur[col_bid['買量5']] =tickdatabid.BidDOM5Volume\n",
        "    cur[col_bid['買價6']] =tickdatabid.BidDOM6Price\n",
        "    cur[col_bid['買量6']] =tickdatabid.BidDOM6Volume\n",
        "    cur[col_bid['買價7']] =tickdatabid.BidDOM7Price\n",
        "    cur[col_bid['買量7']] =tickdatabid.BidDOM7Volume\n",
        "    cur[col_bid['買價8']] =tickdatabid.BidDOM8Price\n",
        "    cur[col_bid['買量8']] =tickdatabid.BidDOM8Volume\n",
        "    cur[col_bid['買價9']] =tickdatabid.BidDOM9Price\n",
        "    cur[col_bid['買量9']] =tickdatabid.BidDOM9Volume\n",
        "    cur[col_bid['買價10']] =tickdatabid.BidDOM10Price\n",
        "    cur[col_bid['買量10']] =tickdatabid.BidDOM10Volume\n",
        "    with fig_bid.batch_update():\n",
        "        fig_bid.data[0].cells.values = cur"
      ]
    },
    {
      "cell_type": "markdown",
      "metadata": {
        "id": "q9BTkF8BbER5"
      },
      "source": [
        "<div class=\"markdown-google-sans\">\n",
        "\n",
        "### <strong>*最佳賣價*</strong>\n",
        "</div>"
      ]
    },
    {
      "cell_type": "code",
      "execution_count": null,
      "metadata": {
        "id": "Ujtusud_bOF7"
      },
      "outputs": [],
      "source": [
        "def on_tick_data_offer(tickdataOffer: FTickDataOffer):\n",
        "    cur = list(fig_off.data[0].cells.values)\n",
        "    cur[col_off['賣價1']] =tickdataOffer.OfferDOM1Price\n",
        "    cur[col_off['賣量1']] =tickdataOffer.OfferDOM1Volume\n",
        "    cur[col_off['賣價2']] =tickdataOffer.OfferDOM2Price\n",
        "    cur[col_off['賣量2']] =tickdataOffer.OfferDOM2Volume\n",
        "    cur[col_off['賣價3']] =tickdataOffer.OfferDOM3Price\n",
        "    cur[col_off['賣量3']] =tickdataOffer.OfferDOM3Volume\n",
        "    cur[col_off['賣價4']] =tickdataOffer.OfferDOM4Price\n",
        "    cur[col_off['賣量4']] =tickdataOffer.OfferDOM4Volume\n",
        "    cur[col_off['賣價5']] =tickdataOffer.OfferDOM5Price\n",
        "    cur[col_off['賣量5']] =tickdataOffer.OfferDOM5Volume\n",
        "    cur[col_off['賣價6']] =tickdataOffer.OfferDOM6Price\n",
        "    cur[col_off['賣量6']] =tickdataOffer.OfferDOM6Volume\n",
        "    cur[col_off['賣價7']] =tickdataOffer.OfferDOM7Price\n",
        "    cur[col_off['賣量7']] =tickdataOffer.OfferDOM7Volume\n",
        "    cur[col_off['賣價8']] =tickdataOffer.OfferDOM8Price\n",
        "    cur[col_off['賣量8']] =tickdataOffer.OfferDOM8Volume\n",
        "    cur[col_off['賣價9']] =tickdataOffer.OfferDOM9Price\n",
        "    cur[col_off['賣量9']] =tickdataOffer.OfferDOM9Volume\n",
        "    cur[col_off['賣價10']] =tickdataOffer.OfferDOM10Price\n",
        "    cur[col_off['賣量10']] =tickdataOffer.OfferDOM10Volume\n",
        "    with fig_off.batch_update():\n",
        "        fig_off.data[0].cells.values = cur"
      ]
    },
    {
      "cell_type": "markdown",
      "metadata": {
        "id": "7jKXYvZ7beCk"
      },
      "source": [
        "<div class=\"markdown-google-sans\">\n",
        "\n",
        "### <strong>*隱含買賣價*</strong>\n",
        "</div>"
      ]
    },
    {
      "cell_type": "code",
      "execution_count": null,
      "metadata": {
        "id": "-B9wzV4xcx-k"
      },
      "outputs": [],
      "source": [
        "def on_tick_data_implied(ticksataimplied: FTickDataImplied):\n",
        "  cur = list(fig_implied.data[0].cells.values)\n",
        "  cur[col_implied['隱含買價']] = tickdataimplied.ImpliedBidPrice\n",
        "  cur[col_implied['隱含買量']] = tickdataimplied.ImpliedBidVolume\n",
        "  cur[col_implied['隱含賣價']] = tickdataimplied.ImpliedOfferPrice\n",
        "  cur[col_implied['隱含賣量']] = tickdataimplied.ImpliedOfferVolume\n",
        "  with fig_implied.batch_update():\n",
        "    fig_implied.data[0].cells.values = cur"
      ]
    },
    {
      "cell_type": "markdown",
      "metadata": {
        "id": "Jfq1zDbMbebN"
      },
      "source": [
        "<div class=\"markdown-google-sans\">\n",
        "\n",
        "### <strong>*開收盤價*</strong>\n",
        "</div>"
      ]
    },
    {
      "cell_type": "code",
      "execution_count": null,
      "metadata": {
        "id": "7WKaxRUZdCiu"
      },
      "outputs": [],
      "source": [
        "def on_tick_data_open_close(tickdataopenclose: FTickDataOpenclose):\n",
        "  cur = list(fig_implied.data[0].cells.values)\n",
        "  cur[col_implied['開盤價']] = tickdataopenclose.Opening\n",
        "  cur[col_implied['收盤價']] = tickdataopenclose.Closing\n",
        "  with fig_implied.batch_update():\n",
        "    fig_implied.data[0].cells.values = cur\n"
      ]
    },
    {
      "cell_type": "markdown",
      "metadata": {
        "id": "AK52R3rwd7Xe"
      },
      "source": [
        "<div class=\"markdown-google-sans\">\n",
        "\n",
        "### <strong>*最高最低價*</strong>\n",
        "</div>"
      ]
    },
    {
      "cell_type": "code",
      "execution_count": null,
      "metadata": {
        "id": "FcuB-5BreCK4"
      },
      "outputs": [],
      "source": [
        "def on_tick_data_high_low(tickdatahighlow: FTickDataHighLow):\n",
        "    cur = list(fig_implied.data[0].cells.values)\n",
        "    cur[col_implied['最高價']] = tickdatahighlow.High\n",
        "    cur[col_implied['最低價']] = tickdatahighlow.Low\n",
        "    with fig_implied.batch_update():\n",
        "        fig_implied.data[0].cells.values = cur\n"
      ]
    },
    {
      "cell_type": "markdown",
      "metadata": {
        "id": "mXYanJ_WbeoM"
      },
      "source": [
        "<div class=\"markdown-google-sans\">\n",
        "\n",
        "### <strong>*結算價*</strong>\n",
        "</div>"
      ]
    },
    {
      "cell_type": "code",
      "execution_count": null,
      "metadata": {
        "id": "vqKf62FPdokL"
      },
      "outputs": [],
      "source": [
        "def on_tick_data_settle(tickdatasettle: FTickDataSettle):\n",
        "  cur = list(fig_implied.data[0].cells.values)\n",
        "  cur[col_implied['目前結算價']] = tickdatasettle.CurrStl\n",
        "  cur[col_implied['最新結算價']] = tickdatasettle.NewStl\n",
        "  with fig_implied.batch_update():\n",
        "    fig_implied.data[0].cells.values = cur"
      ]
    },
    {
      "cell_type": "markdown",
      "metadata": {
        "id": "nL-Flwnea70D"
      },
      "source": [
        "<div class=\"markdown-google-sans\">\n",
        "\n",
        "## <strong>*註冊*</strong>\n",
        "</div>"
      ]
    },
    {
      "cell_type": "code",
      "execution_count": null,
      "metadata": {
        "id": "Lw7YWtFyXeff"
      },
      "outputs": [],
      "source": [
        "productid='CME|NQ|202412|F|' #商品代碼\n",
        "api.fquote.on_tick_data_trade = on_tick_data_trade\n",
        "api.fquote.on_tick_data_bid = on_tick_data_bid\n",
        "api.fquote.on_tick_data_offer = on_tick_data_offer\n",
        "api.fquote.on_tick_data_implied = on_tick_data_implied\n",
        "api.fquote.on_tick_data_high_low = on_tick_data_high_low\n",
        "api.fquote.on_tick_data_open_close = on_tick_data_open_close\n",
        "api.fquote.on_tick_data_settle = on_tick_data_settle\n",
        "subok, msg = api.fquote.subscribe(exchange=productid.split('|')[0], symbol=productid.split(\n",
        "        '|')[1], ym=productid.split('|')[2], cp=productid.split('|')[3], strike=productid.split('|')[4])\n",
        "print(f'註冊報價 {productid} {subok} {msg}')\n",
        "display(fig_match)\n",
        "display(fig_bid)\n",
        "display(fig_off)"
      ]
    },
    {
      "cell_type": "markdown",
      "metadata": {
        "id": "E04iPtWa-2Vq"
      },
      "source": [
        "<div class=\"markdown-google-sans\">\n",
        "\n",
        "##<strong>*反註冊*</strong>\n",
        "</div>"
      ]
    },
    {
      "cell_type": "code",
      "execution_count": null,
      "metadata": {
        "id": "a3hCRWYVhqIm"
      },
      "outputs": [],
      "source": [
        "#反註冊現貨價量接收\n",
        "unsub_ok,msg=api.fquote.unsubscribe(exchange=productid.split('|')[0], symbol=productid.split(\n",
        "        '|')[1], ym=productid.split('|')[2], cp=productid.split('|')[3], strike=productid.split('|')[4])\n",
        "print(f'反註冊報價 {productid} {subok} {msg}')"
      ]
    },
    {
      "cell_type": "markdown",
      "metadata": {
        "id": "JfIM_Cu4-4ZH"
      },
      "source": [
        "<div class=\"markdown-google-sans\">\n",
        "\n",
        "# <strong>*系統登出*</strong>\n",
        "</div>\n"
      ]
    },
    {
      "cell_type": "code",
      "execution_count": null,
      "metadata": {
        "id": "tCNo21yWhqIn",
        "scrolled": true
      },
      "outputs": [],
      "source": [
        "#系統登出\n",
        "api.logout()\n",
        "print('登出完畢')\n",
        "print(f\"登入旗標{api.login_status_flag}\")\n"
      ]
    }
  ],
  "metadata": {
    "colab": {
      "collapsed_sections": [
        "8sD82KBj45YL",
        "VtrVF1XbVv9r",
        "SiBQ4y1KbAo5",
        "nL-Flwnea70D",
        "JfIM_Cu4-4ZH"
      ],
      "include_colab_link": true,
      "provenance": [],
      "toc_visible": true
    },
    "kernelspec": {
      "display_name": "venv",
      "language": "python",
      "name": "python3"
    },
    "language_info": {
      "codemirror_mode": {
        "name": "ipython",
        "version": 3
      },
      "file_extension": ".py",
      "mimetype": "text/x-python",
      "name": "python",
      "nbconvert_exporter": "python",
      "pygments_lexer": "ipython3",
      "version": "3.12.7"
    }
  },
  "nbformat": 4,
  "nbformat_minor": 0
}
