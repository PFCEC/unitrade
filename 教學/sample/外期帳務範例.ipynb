{
  "cells": [
    {
      "cell_type": "markdown",
      "metadata": {
        "colab_type": "text",
        "id": "view-in-github"
      },
      "source": [
        "<a href=\"https://colab.research.google.com/github/PFCEC/unitrade/blob/main/%E6%95%99%E5%AD%B8/sample/%E5%A4%96%E6%9C%9F%E5%B8%B3%E5%8B%99%E7%AF%84%E4%BE%8B.ipynb\" target=\"_parent\"><img src=\"https://colab.research.google.com/assets/colab-badge.svg\" alt=\"Open In Colab\"/></a>"
      ]
    },
    {
      "cell_type": "markdown",
      "metadata": {
        "id": "HImbuf--E6qi"
      },
      "source": [
        "<div class=\"markdown-google-sans\">\n",
        "\n",
        "# <strong>事先準備</strong>\n",
        "</div>"
      ]
    },
    {
      "cell_type": "markdown",
      "metadata": {
        "id": "u3RO0BeThqIg"
      },
      "source": [
        "<div class=\"markdown-google-sans\">\n",
        "\n",
        "## <strong>安裝pandas</strong>\n",
        "</div>\n",
        "範例會使用pandas表格呈現,請先安裝pandas<br/>\n"
      ]
    },
    {
      "cell_type": "code",
      "execution_count": null,
      "metadata": {
        "id": "vGjcJZ1hhqIi",
        "scrolled": true
      },
      "outputs": [],
      "source": [
        "!pip install pandas"
      ]
    },
    {
      "cell_type": "markdown",
      "metadata": {
        "id": "2Mpw34aDKlmr"
      },
      "source": [
        "<div class=\"markdown-google-sans\">\n",
        "\n",
        "## <strong>匯入顯示資料套件</strong>\n",
        "</div>"
      ]
    },
    {
      "cell_type": "code",
      "execution_count": null,
      "metadata": {
        "id": "fIht8njLKimp"
      },
      "outputs": [],
      "source": [
        "from typing import List\n",
        "import pandas as pd\n",
        "from IPython.display import display,clear_output\n",
        "pd.set_option('display.max_columns', None)\n",
        "pd.set_option('display.max_rows', None)\n",
        "pd.set_option('display.width', None)\n",
        "from IPython.display import display, clear_output"
      ]
    },
    {
      "cell_type": "markdown",
      "metadata": {
        "id": "-4s0qdl--EST"
      },
      "source": [
        "<div class=\"markdown-google-sans\">\n",
        "\n",
        "## <strong>安裝unitrade</strong>\n",
        "</div>"
      ]
    },
    {
      "cell_type": "code",
      "execution_count": null,
      "metadata": {
        "id": "pA-GQgr7iIod"
      },
      "outputs": [],
      "source": [
        "!pip install unitrade"
      ]
    },
    {
      "cell_type": "markdown",
      "metadata": {
        "id": "eeUwPGjahqIj"
      },
      "source": [
        "<div class=\"markdown-google-sans\">\n",
        "\n",
        "# <strong>初始化</strong>\n",
        "</div>"
      ]
    },
    {
      "cell_type": "code",
      "execution_count": null,
      "metadata": {
        "id": "yZxDgooGhqIj"
      },
      "outputs": [],
      "source": [
        "##API初始&登入\n",
        "import unitrade\n",
        "from unitrade.unitrade import *\n",
        "#初始API\n",
        "api = Unitrade()"
      ]
    },
    {
      "cell_type": "markdown",
      "metadata": {
        "id": "r1jl1-yE-Yb9"
      },
      "source": [
        "<div class=\"markdown-google-sans\">\n",
        "\n",
        "# <strong>登入api</strong>\n",
        "</div>"
      ]
    },
    {
      "cell_type": "code",
      "execution_count": null,
      "metadata": {
        "id": "Yxbg275XhqIk"
      },
      "outputs": [],
      "source": [
        "#錯誤事件處理\n",
        "api.on_error = lambda error: print(f'api錯誤 {error}')\n",
        "#系統登入\n",
        "loginresponse = api.login(\n",
        "    \"url\", \"帳號\", \"密碼\", '憑證檔名', '憑證密碼')#url,帳號,密碼,憑證檔名,憑證密碼\n",
        "\n",
        "actno = api.get_accounts()[0]#取得第一個交易帳號\n",
        "#顯示登入結果\n",
        "print(loginresponse)\n",
        "print(f\"登入旗標{api.login_status_flag}\")\n",
        "print(f\"交易帳號{actno}\")\n"
      ]
    },
    {
      "cell_type": "markdown",
      "metadata": {
        "id": "wdLqZ8F-KFHq"
      },
      "source": [
        "<div class=\"markdown-google-sans\">\n",
        "\n",
        "# <strong>保證金查詢範例</strong>\n",
        "</div>"
      ]
    },
    {
      "cell_type": "code",
      "execution_count": null,
      "metadata": {
        "id": "xEgbkXowJXKA"
      },
      "outputs": [],
      "source": [
        "# 初始數據\n",
        "data = [['','','','','','','','','','','','','','','','','','','','','','','','','','','','','','','','','','','','']]\n",
        "dd = pd.DataFrame(data)\n",
        "dd.columns = ['幣別','前日帳款餘額','手續費','匯率','期交稅','存提金額','平倉損益','未平倉損益','買方選擇權市值','賣方選擇權市值','下單預扣權利金','當日權利金收支','淨值','原始保證金','維持保證金','可用餘額','下單可用保證金','當日委託保證金','履約損益','變動權利金','洗價時間','追繳金額','昨日未平倉損益','今日盤中浮動損益','賣方垂直價差市值','履約價款','今日餘額','帳戶總市值','足額原始保證金','總市值風險','風險係數','維持率','公司別','帳號','組別','交易員']\n",
        "#查詢保證金\n",
        "query_reply_response = api.faccount.get_margin(actno)\n",
        "if query_reply_response.ok == True:\n",
        "    i=0\n",
        "    for data in query_reply_response.data:\n",
        "        dd.loc[i,'幣別']=data.currency\n",
        "        dd.loc[i,'前日帳款餘額']=data.previous_day_balance\n",
        "        dd.loc[i,'手續費']=data.commission\n",
        "        dd.loc[i,'匯率']=data.exchange_rate\n",
        "        dd.loc[i,'期交稅']=data.futures_tax\n",
        "        dd.loc[i,'存提金額']=data.deposit_withdrawal_amount\n",
        "        dd.loc[i,'平倉損益']=data.close_pnl\n",
        "        dd.loc[i,'未平倉損益']=data.unrealized_pnl\n",
        "        dd.loc[i,'買方選擇權市值']=data.buy_option_market_value\n",
        "        dd.loc[i,'賣方選擇權市值']=data.sell_option_market_value\n",
        "        dd.loc[i,'下單預扣權利金']=data.order_withholding_premium\n",
        "        dd.loc[i,'當日權利金收支']=data.today_premium_income_expense\n",
        "        dd.loc[i,'淨值']=data.net_value\n",
        "        dd.loc[i,'原始保證金']=data.original_margin\n",
        "        dd.loc[i,'維持保證金']=data.maintenance_margin\n",
        "        dd.loc[i,'可用餘額']=data.available_balance\n",
        "        dd.loc[i,'下單可用保證金']=data.order_available_margin\n",
        "        dd.loc[i,'當日委託保證金']=data.today_order_margin\n",
        "        dd.loc[i,'履約損益']=data.performance_pnl\n",
        "        dd.loc[i,'變動權利金']=data.variable_premium\n",
        "        dd.loc[i,'洗價時間']=data.marking_time\n",
        "        dd.loc[i,'追繳金額']=data.additional_payment\n",
        "        dd.loc[i,'昨日未平倉損益']=data.yesterday_unrealized_pnl\n",
        "        dd.loc[i,'今日盤中浮動損益']=data.today_intraday_unrealized_pnl\n",
        "        dd.loc[i,'賣方垂直價差市值']=data.sell_vertical_spread_market_value\n",
        "        dd.loc[i,'履約價款']=data.strike_payment\n",
        "        dd.loc[i,'今日餘額']=data.today_balance\n",
        "        dd.loc[i,'帳戶總市值']=data.account_total_market_value\n",
        "        dd.loc[i,'足額原始保證金']=data.full_original_margin\n",
        "        dd.loc[i,'總市值風險']=data.total_market_value_risk\n",
        "        dd.loc[i,'風險係數']=data.risk_coefficient\n",
        "        dd.loc[i,'維持率']=data.maintenance_rate\n",
        "        dd.loc[i,'公司別']=data.company_type\n",
        "        dd.loc[i,'帳號']=data.account\n",
        "        dd.loc[i,'組別']=data.group\n",
        "        dd.loc[i,'交易員 ']=data.trader\n",
        "        i=i+1\n",
        "else:\n",
        "    print(query_reply_response.error)\n",
        "display(dd)"
      ]
    },
    {
      "cell_type": "markdown",
      "metadata": {
        "id": "2UfIKwDgK12r"
      },
      "source": [
        "<div class=\"markdown-google-sans\">\n",
        "\n",
        "# <strong>未平倉查詢範例</strong>\n",
        "</div>"
      ]
    },
    {
      "cell_type": "code",
      "execution_count": null,
      "metadata": {
        "id": "XLAeSEGKJXKB"
      },
      "outputs": [],
      "source": [
        "# 初始數據\n",
        "reply_data=[[ '','','','','','','','','','','','','','','','','','','','','','','','','']]\n",
        "dd = pd.DataFrame(reply_data)\n",
        "dd.columns = [ '客戶帳號', '交易所', '買賣別1', '交易種類1', '商品代號1', '商品年月1', '履約價1', '買賣權1', '未平倉量1', '結算價1', '及時價1', '未平倉損益1', '原始保證金1', '維持保證金1', '幣別1', '成交價1', '上手代號', '未平倉損益-約當台幣1', '手續費1', '營業稅1', '淨未平倉損益1', '淨未平倉損益-約當台幣1', '簡稱', '後台Pricebase', '顯示pricebase']\n",
        "#查詢未平倉\n",
        "query_reply_response = api.faccount.get_unliquidation(actno)\n",
        "if query_reply_response.ok == True:\n",
        "    i=0\n",
        "    for data in query_reply_response.data:\n",
        "        dd.loc[i,'客戶帳號']= data.client_account\n",
        "        dd.loc[i,'交易所']= data.exchange\n",
        "        dd.loc[i,'買賣別1']= data.buy_sell_type_1\n",
        "        dd.loc[i,'交易種類1']= data.trade_type_1\n",
        "        dd.loc[i,'商品代號1']= data.product_code_1\n",
        "        dd.loc[i,'商品年月1']= data.product_year_month_1\n",
        "        dd.loc[i,'履約價1']= data.strike_price_1\n",
        "        dd.loc[i,'買賣權1']= data.buy_sell_option_1\n",
        "        dd.loc[i,'未平倉量1']= data.open_interest_1\n",
        "        dd.loc[i,'結算價1']= data.settlement_price_1\n",
        "        dd.loc[i,'及時價1']= data.spot_price_1\n",
        "        dd.loc[i,'未平倉損益1']= data.unrealized_pnl_1\n",
        "        dd.loc[i,'原始保證金1']= data.initial_margin_1\n",
        "        dd.loc[i,'維持保證金1']= data.maintenance_margin_1\n",
        "        dd.loc[i,'幣別1']= data.currency_1\n",
        "        dd.loc[i,'成交價1']= data.deal_price_1\n",
        "        dd.loc[i,'上手代號']= data.broker_code\n",
        "        dd.loc[i,'未平倉損益-約當台幣1']= data.unrealized_pnl_ntd_1\n",
        "        dd.loc[i,'手續費1']= data.commission_1\n",
        "        dd.loc[i,'營業稅1']= data.business_tax_1\n",
        "        dd.loc[i,'淨未平倉損益1']= data.net_open_interest_pnl_1\n",
        "        dd.loc[i,'淨未平倉損益-約當台幣1']= data.net_open_interest_pnl_ntd_1\n",
        "        dd.loc[i,'簡稱']= data.abbreviation\n",
        "        dd.loc[i,'後台Pricebase']= data.backend_pricebase\n",
        "        dd.loc[i,'顯示pricebase']= data.display_pricebase\n",
        "        i=i+1\n",
        "else:\n",
        "    print(query_reply_response.error)\n",
        "display(dd)\n",
        "\n"
      ]
    },
    {
      "cell_type": "markdown",
      "metadata": {
        "id": "z8JUlgsUK-T3"
      },
      "source": [
        "<div class=\"markdown-google-sans\">\n",
        "\n",
        "# <strong>即時部位查詢範例</strong>\n",
        "</div>"
      ]
    },
    {
      "cell_type": "code",
      "execution_count": null,
      "metadata": {
        "id": "to1axTHkJXKC"
      },
      "outputs": [],
      "source": [
        "# 初始數據\n",
        "reply_data=[[  '','','','','','','','','','','','','','','','','','','','','','','','']]\n",
        "dd = pd.DataFrame(reply_data)\n",
        "dd.columns = [  '客戶帳號','交易所','交易種類','商品代號','商品年月','履約價','買賣權','淨買','淨賣','買方留倉','賣方留倉','買方成交','賣方成交','買方委託','賣方委託','交割日期','幣別','成交均價','即時價','未平倉損益','平倉口數','平倉損益','簡稱','Pricebase']\n",
        "#查詢即時部位\n",
        "query_reply_response = api.faccount.get_position(actno, 'NTT')\n",
        "if query_reply_response.ok == True:\n",
        "    i=0\n",
        "    for data in query_reply_response.data:\n",
        "        dd.loc[i,'客戶帳號']= data.client_account\n",
        "        dd.loc[i,'交易所']= data.exchange\n",
        "        dd.loc[i,'交易種類']= data.trade_type\n",
        "        dd.loc[i,'商品代號']= data.product_code\n",
        "        dd.loc[i,'商品年月']= data.product_year_month\n",
        "        dd.loc[i,'履約價']= data.strike_price\n",
        "        dd.loc[i,'買賣權']= data.buy_sell_option\n",
        "        dd.loc[i,'淨買']= data.net_buy\n",
        "        dd.loc[i,'淨賣']= data.net_sell\n",
        "        dd.loc[i,'買方留倉']= data.buyer_position\n",
        "        dd.loc[i,'賣方留倉']= data.seller_position\n",
        "        dd.loc[i,'買方成交']= data.buyer_transaction\n",
        "        dd.loc[i,'賣方成交']= data.seller_transaction\n",
        "        dd.loc[i,'買方委託']= data.buyer_order\n",
        "        dd.loc[i,'賣方委託']= data.seller_order\n",
        "        dd.loc[i,'交割日期']= data.delivery_date\n",
        "        dd.loc[i,'幣別']= data.currency\n",
        "        dd.loc[i,'成交均價']= data.average_deal_price\n",
        "        dd.loc[i,'即時價']= data.instant_price\n",
        "        dd.loc[i,'未平倉損益']= data.unrealized_pnl\n",
        "        dd.loc[i,'平倉口數']= data.close_volume\n",
        "        dd.loc[i,'平倉損益']= data.close_pnl\n",
        "        dd.loc[i,'簡稱']= data.abbreviation\n",
        "        dd.loc[i,'Pricebase']= data.price_base\n",
        "        i=i+1\n",
        "    clear_output(wait=True)\n",
        "    display(dd)\n",
        "else:\n",
        "    print(query_reply_response.error)\n",
        "\n"
      ]
    },
    {
      "cell_type": "markdown",
      "metadata": {
        "id": "DAKN-hh8LEzR"
      },
      "source": [
        "<div class=\"markdown-google-sans\">\n",
        "\n",
        "# <strong>*系統登出*</strong>\n",
        "</div>\n"
      ]
    },
    {
      "cell_type": "code",
      "execution_count": null,
      "metadata": {
        "id": "4bQ_uByMJXKC",
        "scrolled": true
      },
      "outputs": [],
      "source": [
        "#系統登出\n",
        "api.logout()\n",
        "print('登出完畢')\n",
        "print(f\"登入旗標{api.login_status_flag}\")\n",
        "\n"
      ]
    }
  ],
  "metadata": {
    "colab": {
      "include_colab_link": true,
      "provenance": [],
      "toc_visible": true
    },
    "kernelspec": {
      "display_name": "venv",
      "language": "python",
      "name": "python3"
    },
    "language_info": {
      "codemirror_mode": {
        "name": "ipython",
        "version": 3
      },
      "file_extension": ".py",
      "mimetype": "text/x-python",
      "name": "python",
      "nbconvert_exporter": "python",
      "pygments_lexer": "ipython3",
      "version": "3.12.7"
    }
  },
  "nbformat": 4,
  "nbformat_minor": 0
}
