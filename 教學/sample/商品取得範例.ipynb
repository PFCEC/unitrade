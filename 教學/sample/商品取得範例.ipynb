{
  "cells": [
    {
      "cell_type": "markdown",
      "metadata": {
        "colab_type": "text",
        "id": "view-in-github"
      },
      "source": [
        "<a href=\"https://colab.research.google.com/github/PFCEC/unitrade/blob/main/%E6%95%99%E5%AD%B8/sample/%E5%95%86%E5%93%81%E5%8F%96%E5%BE%97%E7%AF%84%E4%BE%8B.ipynb\" target=\"_parent\"><img src=\"https://colab.research.google.com/assets/colab-badge.svg\" alt=\"Open In Colab\"/></a>"
      ]
    },
    {
      "cell_type": "markdown",
      "metadata": {
        "id": "HImbuf--E6qi"
      },
      "source": [
        "<div class=\"markdown-google-sans\">\n",
        "\n",
        "# <strong>事先準備</strong>\n",
        "</div>"
      ]
    },
    {
      "cell_type": "markdown",
      "metadata": {
        "id": "u3RO0BeThqIg"
      },
      "source": [
        "<div class=\"markdown-google-sans\">\n",
        "\n",
        "## <strong>安裝pandas</strong>\n",
        "</div>\n",
        "範例會使用pandas表格呈現,請先安裝pandas<br/>\n"
      ]
    },
    {
      "cell_type": "code",
      "execution_count": null,
      "metadata": {
        "id": "vGjcJZ1hhqIi",
        "scrolled": true
      },
      "outputs": [],
      "source": [
        "!pip install pandas"
      ]
    },
    {
      "cell_type": "markdown",
      "metadata": {
        "id": "2Mpw34aDKlmr"
      },
      "source": [
        "<div class=\"markdown-google-sans\">\n",
        "\n",
        "## <strong>匯入顯示資料套件</strong>\n",
        "</div>"
      ]
    },
    {
      "cell_type": "code",
      "execution_count": null,
      "metadata": {
        "id": "fIht8njLKimp"
      },
      "outputs": [],
      "source": [
        "from typing import List\n",
        "import pandas as pd\n",
        "from IPython.display import display,clear_output\n",
        "pd.set_option('display.max_columns', None)\n",
        "pd.set_option('display.max_rows', None)\n",
        "pd.set_option('display.width', None)\n",
        "from IPython.display import display, clear_output"
      ]
    },
    {
      "cell_type": "markdown",
      "metadata": {
        "id": "-4s0qdl--EST"
      },
      "source": [
        "<div class=\"markdown-google-sans\">\n",
        "\n",
        "## <strong>安裝unitrade</strong>\n",
        "</div>"
      ]
    },
    {
      "cell_type": "code",
      "execution_count": null,
      "metadata": {
        "id": "pA-GQgr7iIod"
      },
      "outputs": [],
      "source": [
        "!pip install unitrade"
      ]
    },
    {
      "cell_type": "markdown",
      "metadata": {
        "id": "eeUwPGjahqIj"
      },
      "source": [
        "<div class=\"markdown-google-sans\">\n",
        "\n",
        "# <strong>初始化</strong>\n",
        "</div>"
      ]
    },
    {
      "cell_type": "code",
      "execution_count": null,
      "metadata": {
        "id": "yZxDgooGhqIj"
      },
      "outputs": [],
      "source": [
        "##API初始&登入\n",
        "import unitrade\n",
        "from unitrade.unitrade import *\n",
        "#初始API\n",
        "api = Unitrade()"
      ]
    },
    {
      "cell_type": "markdown",
      "metadata": {
        "id": "r1jl1-yE-Yb9"
      },
      "source": [
        "<div class=\"markdown-google-sans\">\n",
        "\n",
        "# <strong>登入api</strong>\n",
        "</div>"
      ]
    },
    {
      "cell_type": "code",
      "execution_count": null,
      "metadata": {
        "id": "Yxbg275XhqIk"
      },
      "outputs": [],
      "source": [
        "#錯誤事件處理\n",
        "api.on_error = lambda error: print(f'api錯誤 {error}')\n",
        "#系統登入\n",
        "loginresponse = api.login(\n",
        "    \"url\", \"帳號\", \"密碼\", '憑證檔名', '憑證密碼')#url,帳號,密碼,憑證檔名,憑證密碼\n",
        "\n",
        "actno = api.get_accounts()[0]#取得第一個交易帳號\n",
        "#顯示登入結果\n",
        "print(loginresponse)\n",
        "print(f\"登入旗標{api.login_status_flag}\")\n",
        "print(f\"交易帳號{actno}\")\n"
      ]
    },
    {
      "cell_type": "markdown",
      "metadata": {
        "id": "BFlLz4A7PVX-"
      },
      "source": [
        "<div class=\"markdown-google-sans\">\n",
        "\n",
        "# <strong>內期商品取得範例</strong>\n",
        "</div>"
      ]
    },
    {
      "cell_type": "code",
      "execution_count": null,
      "metadata": {
        "id": "RElm6WqlMdDN"
      },
      "outputs": [],
      "source": [
        "# 初始數據\n",
        "data = [['', '', '', '', '']]\n",
        "dd = pd.DataFrame(data)\n",
        "dd.columns = ['商品代號', '商品名稱', '股票代碼', '類別', '合約基數']\n",
        "domestic_products = api.get_domestic_products()\n",
        "i = 0\n",
        "for key, value in domestic_products.items():\n",
        "    print(data)\n",
        "    dd.loc[i, '商品代號'] = value.kind_id\n",
        "    dd.loc[i, '商品名稱'] = value.name\n",
        "    dd.loc[i, '股票代碼'] = value.stock_id\n",
        "    dd.loc[i, '類別'] = value.subtype\n",
        "    dd.loc[i, '合約基數'] = value.contract_size\n",
        "    i = i+1\n",
        "clear_output(wait=True)\n",
        "display(dd)\n"
      ]
    },
    {
      "cell_type": "markdown",
      "metadata": {
        "id": "i99vz4TGPTn9"
      },
      "source": [
        "<div class=\"markdown-google-sans\">\n",
        "\n",
        "# <strong>內期期貨合約取得範例</strong>\n",
        "</div>"
      ]
    },
    {
      "cell_type": "code",
      "execution_count": null,
      "metadata": {
        "id": "YOpx5kByMdDN"
      },
      "outputs": [],
      "source": [
        "# 初始數據\n",
        "data = [['','','','','','','']]\n",
        "dd = pd.DataFrame(data)\n",
        "dd.columns = ['商品代號','年月','CP','履約價','漲停價','跌停價','參考價']\n",
        "query_response = api.get_domestic_contracts(\"TXF\",\"F\")#商品類別碼\n",
        "if query_response.ok == True:\n",
        "    i=0\n",
        "    for data in query_response.data:\n",
        "        dd.loc[i,'商品代號']=data.prod_id\n",
        "        dd.loc[i,'年月']=data.month\n",
        "        dd.loc[i,'CP']=data.cp\n",
        "        dd.loc[i,'履約價']=data.stikeprice\n",
        "        dd.loc[i,'漲停價']=data.maxprice\n",
        "        dd.loc[i,'跌停價']=data.minprice\n",
        "        dd.loc[i,'參考價']=data.premium\n",
        "        i=i+1\n",
        "    clear_output(wait=True)\n",
        "    display(dd)\n",
        "else:\n",
        "    print(query_response.error)\n"
      ]
    },
    {
      "cell_type": "markdown",
      "metadata": {
        "id": "LwEQZrnjPbOq"
      },
      "source": [
        "<div class=\"markdown-google-sans\">\n",
        "\n",
        "# <strong>內期選擇權合約取得範例</strong>\n",
        "</div>"
      ]
    },
    {
      "cell_type": "code",
      "execution_count": null,
      "metadata": {
        "id": "J56Y1UyZMdDO"
      },
      "outputs": [],
      "source": [
        "# 初始數據\n",
        "data = [['','','','','','','']]\n",
        "dd = pd.DataFrame(data)\n",
        "dd.columns = ['商品代號','年月','CP','履約價','漲停價','跌停價','參考價']\n",
        "query_response = api.get_domestic_contracts(\"TXO\",\"O\")#商品類別碼\n",
        "if query_response.ok == True:\n",
        "    i=0\n",
        "    for data in query_response.data:\n",
        "        dd.loc[i,'商品代號']=data.prod_id\n",
        "        dd.loc[i,'年月']=data.month\n",
        "        dd.loc[i,'CP']=data.cp\n",
        "        dd.loc[i,'履約價']=data.stikeprice\n",
        "        dd.loc[i,'漲停價']=data.maxprice\n",
        "        dd.loc[i,'跌停價']=data.minprice\n",
        "        dd.loc[i,'參考價']=data.premium\n",
        "        i=i+1\n",
        "    clear_output(wait=True)\n",
        "    display(dd)\n",
        "else:\n",
        "    print(query_response.error)\n"
      ]
    },
    {
      "cell_type": "markdown",
      "metadata": {
        "id": "dZkg1yKKPfpJ"
      },
      "source": [
        "<div class=\"markdown-google-sans\">\n",
        "\n",
        "# <strong>外期交易所取得範例</strong>\n",
        "</div>"
      ]
    },
    {
      "cell_type": "code",
      "execution_count": null,
      "metadata": {
        "id": "NqoQRrlxMdDO"
      },
      "outputs": [],
      "source": [
        "# 初始數據\n",
        "data = [['', '', '', '']]\n",
        "dd = pd.DataFrame(data)\n",
        "dd.columns = ['交易所', '中文名稱', '區域', '幣別']\n",
        "exchanges = api.get_exchanges()\n",
        "i = 0\n",
        "for key, value in exchanges.items():\n",
        "    print(data)\n",
        "    dd.loc[i, '交易所'] = value.exchange\n",
        "    dd.loc[i, '中文名稱'] = value.name\n",
        "    dd.loc[i, '區域'] = value.country\n",
        "    dd.loc[i, '幣別'] = value.currency\n",
        "    i = i+1\n",
        "clear_output(wait=True)\n",
        "display(dd)"
      ]
    },
    {
      "cell_type": "markdown",
      "metadata": {
        "id": "hIYfNmgPPlCc"
      },
      "source": [
        "<div class=\"markdown-google-sans\">\n",
        "\n",
        "# <strong>外期商品取得範例</strong>\n",
        "</div>"
      ]
    },
    {
      "cell_type": "code",
      "execution_count": null,
      "metadata": {
        "id": "jYFvNAKCMdDP"
      },
      "outputs": [],
      "source": [
        "# 初始數據\n",
        "data = [['', '', '', '', '', '', '']]\n",
        "dd = pd.DataFrame(data)\n",
        "dd.columns = ['交易所', '商品代碼', '類型(期貨:F 選擇權:O)','中文名稱','中文簡稱','區域', '幣別']\n",
        "foreign_products = api.get_foreign_products()\n",
        "i = 0\n",
        "for key, value in foreign_products.items():\n",
        "    print(data)\n",
        "    dd.loc[i, '交易所'] = value.exchange\n",
        "    dd.loc[i, '商品代碼'] = value.symbol\n",
        "    dd.loc[i, '類型(期貨:F 選擇權:O)'] = value.type\n",
        "    dd.loc[i, '中文名稱'] = value.name\n",
        "    dd.loc[i, '中文簡稱'] = value.shortname\n",
        "    dd.loc[i, '區域'] = value.country\n",
        "    dd.loc[i, '幣別'] = value.currency\n",
        "    i = i+1\n",
        "clear_output(wait=True)\n",
        "display(dd)"
      ]
    },
    {
      "cell_type": "markdown",
      "metadata": {
        "id": "fgS0Xyz0PpIM"
      },
      "source": [
        "<div class=\"markdown-google-sans\">\n",
        "\n",
        "# <strong>外期商品合約取得範例</strong>\n",
        "</div>"
      ]
    },
    {
      "cell_type": "code",
      "execution_count": null,
      "metadata": {
        "id": "PkL_JvLRMdDQ"
      },
      "outputs": [],
      "source": [
        "# 初始數據\n",
        "data = [['', '', '', '', '', '', '']]\n",
        "dd = pd.DataFrame(data)\n",
        "dd.columns = ['交易所', '商品代碼', '類型(期貨:F 選擇權:O)','年月','履約價','call put', '最後交易日']\n",
        "query_response =api.get_foreign_contracts(\"CME\",\"NQ\",\"F\")#交易所代碼,商品代碼,F:期貨O:選擇權\n",
        "if query_response.ok == True:\n",
        "    i=0\n",
        "    for data in query_response.data:\n",
        "        dd.loc[i, '交易所'] = data.exchange\n",
        "        dd.loc[i, '商品代碼'] = data.symbol\n",
        "        dd.loc[i, '類型(期貨:F 選擇權:O)'] = data.type\n",
        "        dd.loc[i, '年月'] = data.monthyear\n",
        "        dd.loc[i, '履約價'] = data.strikeprice\n",
        "        dd.loc[i, 'call put'] = data.cp\n",
        "        dd.loc[i, '最後交易日'] = data.lasttradedate\n",
        "        i=i+1\n",
        "    clear_output(wait=True)\n",
        "    display(dd)\n",
        "else:\n",
        "    print(query_response.error)"
      ]
    },
    {
      "cell_type": "markdown",
      "metadata": {
        "id": "6PUqH1IxP0KO"
      },
      "source": [
        "<div class=\"markdown-google-sans\">\n",
        "\n",
        "# <strong>*系統登出*</strong>\n",
        "</div>\n"
      ]
    },
    {
      "cell_type": "code",
      "execution_count": null,
      "metadata": {
        "id": "3O3XysMOMdDR",
        "scrolled": true
      },
      "outputs": [],
      "source": [
        "#系統登出\n",
        "api.logout()\n",
        "print('登出完畢')\n",
        "print(f\"登入旗標{api.login_status_flag}\")\n"
      ]
    }
  ],
  "metadata": {
    "colab": {
      "include_colab_link": true,
      "provenance": []
    },
    "kernelspec": {
      "display_name": "venv",
      "language": "python",
      "name": "python3"
    },
    "language_info": {
      "codemirror_mode": {
        "name": "ipython",
        "version": 3
      },
      "file_extension": ".py",
      "mimetype": "text/x-python",
      "name": "python",
      "nbconvert_exporter": "python",
      "pygments_lexer": "ipython3",
      "version": "3.12.7"
    }
  },
  "nbformat": 4,
  "nbformat_minor": 0
}
