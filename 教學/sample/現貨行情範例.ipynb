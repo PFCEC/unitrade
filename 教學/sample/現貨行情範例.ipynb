{
  "cells": [
    {
      "cell_type": "markdown",
      "metadata": {
        "id": "HImbuf--E6qi"
      },
      "source": [
        "<div class=\"markdown-google-sans\">\n",
        "\n",
        "# <strong>事先準備</strong>\n",
        "</div>"
      ]
    },
    {
      "cell_type": "markdown",
      "metadata": {
        "id": "u3RO0BeThqIg"
      },
      "source": [
        "<div class=\"markdown-google-sans\">\n",
        "\n",
        "## <strong>安裝plotly</strong>\n",
        "</div>\n",
        "範例會使用plotly表格呈現,請先安裝plotly<br/>\n"
      ]
    },
    {
      "cell_type": "code",
      "execution_count": null,
      "metadata": {
        "colab": {
          "base_uri": "https://localhost:8080/"
        },
        "id": "vGjcJZ1hhqIi",
        "outputId": "5be822e4-5fc2-41f5-d4f6-8448b375ac0b",
        "scrolled": true
      },
      "outputs": [],
      "source": [
        "!pip install plotly"
      ]
    },
    {
      "cell_type": "markdown",
      "metadata": {
        "id": "wNRM9Ak4Kqcy"
      },
      "source": [
        "<div class=\"markdown-google-sans\">\n",
        "\n",
        "## <strong>載入plotly和設定渲染器</strong>\n",
        "</div>\n",
        "並且為了colab可以瀏覽,請透過以下指令設定"
      ]
    },
    {
      "cell_type": "code",
      "execution_count": null,
      "metadata": {
        "colab": {
          "base_uri": "https://localhost:8080/",
          "height": 17
        },
        "id": "Pa9JbL-OKvLc",
        "outputId": "7e319e0a-82c3-422b-842a-96339b2c12b2"
      },
      "outputs": [],
      "source": [
        "#匯入顯示表格套件\n",
        "import plotly.graph_objs as go\n",
        "from plotly.offline import init_notebook_mode\n",
        "import plotly.io as pio\n",
        "#pio.renderers.default = 'colab'  # 或嘗試 'notebook' 或 'iframe' 渲染器\n",
        "#from google.colab import output\n",
        "#output.enable_custom_widget_manager()\n",
        "init_notebook_mode(connected=True)\n",
        "\n"
      ]
    },
    {
      "cell_type": "markdown",
      "metadata": {
        "id": "5gq-JxR0A_XM"
      },
      "source": [
        "<div class=\"markdown-google-sans\">\n",
        "\n",
        "## <strong>範例欄位設定</strong>\n",
        "</div>\n",
        "定義顯示欄位<br/>"
      ]
    },
    {
      "cell_type": "code",
      "execution_count": 13,
      "metadata": {
        "id": "XeLjFJhwA0QQ"
      },
      "outputs": [],
      "source": [
        "from typing import List\n",
        "# 初始數據\n",
        "head_match = dict(values=['漲跌停註記','狀態註記','成交時間', '成交價','成交量'])\n",
        "head_bs5 = dict(values=['買價1','買量1' ,'買價2','買量2' ,'買價3','買量3' ,'買價4','買量4' ,'買價5','買量5',\n",
        "             '賣價1','賣量1' ,'賣價2','賣量2' ,'賣價3','賣量3' ,'賣價4','賣量4' ,'賣價5','賣量5'])\n",
        "head_open = dict(values=['開盤價格' ,'最高成交價格','最低成交價格' ,'最近成交價','累計成交量','時間'])\n",
        "head_base = dict(values=[\n",
        "    '股票代號', '商品名稱', '產業別', '證券別', '股票異常代碼', '參考價', '漲停價', '跌停價', '非10元面額', \n",
        "    '異常推介個股註記', '特殊異常證券註記', '可現股當沖註記', '豁免平盤下融券賣出註記', '豁免平盤下借券賣出註記', \n",
        "    '搓合循環秒數', '外國股票識別碼', '交易單位', '交易幣別代號'\n",
        "])  \n",
        "\n",
        "head_idx = dict(values=['指數代號','指數時間','最新指數'])\n",
        "  \n",
        "\n",
        "# 創建初始表格\n",
        "fig_match = go.FigureWidget(data=[go.Table( header=head_match, cells=dict(values=list(zip(*[['','','','','']])), align='left'),)])\n",
        "fig_match.update_layout(height=100, margin=dict(t=0, b=0, l=0, r=0),autosize=True)\n",
        "fig_bs5 = go.FigureWidget(data=[go.Table( header=head_bs5, cells=dict(values=list(zip(*[['','','','','','','','','','','','','','','','','','','','']])), align='left'),)])\n",
        "fig_bs5.update_layout(height=100, margin=dict(t=0, b=0, l=0, r=0),autosize=True)\n",
        "fig_open = go.FigureWidget(data=[go.Table( header=head_open, cells=dict(values=list(zip(*[['' ,'','' ,'','','']])), align='left'),)])\n",
        "fig_open.update_layout(height=100, margin=dict(t=0, b=0, l=0, r=0),autosize=True)\n",
        "fig_base = go.FigureWidget(data=[go.Table( header=head_base, cells=dict(values=list(zip(*[['','','','','','','','','','','','','','','','','','']])), align='left'),)])\n",
        "fig_base.update_layout(height=100, margin=dict(t=0, b=0, l=0, r=0),autosize=True)\n",
        "fig_idx = go.FigureWidget(data=[go.Table( header=head_idx, cells=dict(values=list(zip(*[['','','']] )), align='left'),)])\n",
        "fig_idx.update_layout(height=100, margin=dict(t=0, b=0, l=0, r=0),autosize=True)\n",
        "\n",
        "col_match = {header: idx for idx, header in enumerate(head_match['values'])}\n",
        "col_bs5 = {header: idx for idx, header in enumerate(head_bs5['values'])}\n",
        "col_open = {header: idx for idx, header in enumerate(head_open['values'])}\n",
        "col_base = {header: idx for idx, header in enumerate(head_base['values'])}\n",
        "col_idx = {header: idx for idx, header in enumerate(head_idx['values'])}"
      ]
    },
    {
      "cell_type": "markdown",
      "metadata": {
        "id": "-4s0qdl--EST"
      },
      "source": [
        "<div class=\"markdown-google-sans\">\n",
        "\n",
        "## <strong>安裝unitrade</strong>\n",
        "</div>"
      ]
    },
    {
      "cell_type": "code",
      "execution_count": null,
      "metadata": {
        "colab": {
          "base_uri": "https://localhost:8080/"
        },
        "id": "pA-GQgr7iIod",
        "outputId": "9944dc89-3bd1-4f34-c5e2-ad2e5080720c"
      },
      "outputs": [],
      "source": [
        "!pip install unitrade"
      ]
    },
    {
      "cell_type": "markdown",
      "metadata": {
        "id": "eeUwPGjahqIj"
      },
      "source": [
        "<div class=\"markdown-google-sans\">\n",
        "\n",
        "# <strong>初始化</strong>\n",
        "</div>"
      ]
    },
    {
      "cell_type": "code",
      "execution_count": null,
      "metadata": {
        "colab": {
          "base_uri": "https://localhost:8080/"
        },
        "id": "yZxDgooGhqIj",
        "outputId": "81fa299e-3796-4b43-b3f5-3cd9902ae296"
      },
      "outputs": [],
      "source": [
        "##API初始&登入\n",
        "import unitrade\n",
        "from unitrade.unitrade import *\n",
        "from unitrade.quote.sdata import *\n",
        "#初始API\n",
        "api = Unitrade()"
      ]
    },
    {
      "cell_type": "markdown",
      "metadata": {
        "id": "r1jl1-yE-Yb9"
      },
      "source": [
        "<div class=\"markdown-google-sans\">\n",
        "\n",
        "# <strong>登入api</strong>\n",
        "</div>"
      ]
    },
    {
      "cell_type": "code",
      "execution_count": null,
      "metadata": {
        "colab": {
          "base_uri": "https://localhost:8080/"
        },
        "id": "Yxbg275XhqIk",
        "outputId": "a646fef8-cf09-4166-84c1-5fc4a1bca4da"
      },
      "outputs": [],
      "source": [
        "#錯誤事件處理\n",
        "api.on_error = lambda error: print(f'api錯誤 {error}')\n",
        "#系統登入\n",
        "#loginresponse = api.login(\n",
        "#    \"url\", \"帳號\", \"密碼\", '憑證檔名', '憑證密碼')#url,帳號,密碼,憑證檔名,憑證密碼\n",
        "loginresponse = api.login( \"url\", \"帳號\", \"密碼\", '', '')\n",
        "\n",
        "#顯示登入結果\n",
        "print(loginresponse)\n",
        "print(f\"登入旗標{api.login_status_flag}\")\n",
        "print(f\"交易帳號{api.get_accounts()}\")\n"
      ]
    },
    {
      "cell_type": "markdown",
      "metadata": {
        "id": "ro9GGoIOFz-k"
      },
      "source": [
        "<div class=\"markdown-google-sans\">\n",
        "\n",
        "# <strong>查詢行情</strong>\n",
        "</div>"
      ]
    },
    {
      "cell_type": "markdown",
      "metadata": {},
      "source": [
        "<div class=\"markdown-google-sans\">\n",
        "\n",
        "## <strong>查詢最後普通股競價交易即時行情資訊</strong>\n",
        "</div>\n",
        "透過query_tick_data方法實作,帶入股票代碼"
      ]
    },
    {
      "cell_type": "code",
      "execution_count": null,
      "metadata": {
        "colab": {
          "base_uri": "https://localhost:8080/",
          "height": 377,
          "referenced_widgets": [
            "1d6f47372f7d41808c362650ab84117d"
          ]
        },
        "id": "2dSVmboBNHEf",
        "outputId": "a9a9e5b4-f9d7-4909-9bbc-fbe9314698b8"
      },
      "outputs": [],
      "source": [
        "tickDataTradeResponse=api.squote.query_tick_data('2330')\n",
        "if tickDataTradeResponse.ok == True: \n",
        "    \n",
        "    tickdatatrade=tickDataTradeResponse.data\n",
        "    cur = list(fig_match.data[0].cells.values)\n",
        "    print(tickdatatrade)\n",
        "    cur[col_match['漲跌停註記']] = tickdatatrade.limit_up_down_note\n",
        "    cur[col_match['狀態註記']] = tickdatatrade.status_note\n",
        "    cur[col_match['成交時間']] = tickdatatrade.match_time\n",
        "    cur[col_match['成交時間']] = tickdatatrade.match_time\n",
        "    cur[col_match['成交價']] = tickdatatrade.trade_price\n",
        "    cur[col_match['成交量']] = tickdatatrade.trade_volume\n",
        "    \n",
        "    with fig_match.batch_update():\n",
        "        fig_match.data[0].cells.values = cur\n",
        "    display(fig_match)\n",
        "\n",
        "    cur = list(fig_bs5.data[0].cells.values)\n",
        "    cur[col_bs5['買價1']] = tickdatatrade.best_bid_price_1\n",
        "    cur[col_bs5['買量1']] = tickdatatrade.best_bid_volume_1\n",
        "    cur[col_bs5['買價2']] = tickdatatrade.best_bid_price_2\n",
        "    cur[col_bs5['買量2']] = tickdatatrade.best_bid_volume_2\n",
        "    cur[col_bs5['買價3']] = tickdatatrade.best_bid_price_3\n",
        "    cur[col_bs5['買量3']] = tickdatatrade.best_bid_volume_3\n",
        "    cur[col_bs5['買價4']] = tickdatatrade.best_bid_price_4\n",
        "    cur[col_bs5['買量4']] = tickdatatrade.best_bid_volume_4\n",
        "    cur[col_bs5['買價5']] = tickdatatrade.best_bid_price_5\n",
        "    cur[col_bs5['買量5']] = tickdatatrade.best_bid_volume_5        \n",
        "\n",
        "    cur[col_bs5['賣價1']] = tickdatatrade.best_ask_price_1\n",
        "    cur[col_bs5['賣量1']] = tickdatatrade.best_ask_volume_1\n",
        "    cur[col_bs5['賣價2']] = tickdatatrade.best_ask_price_2\n",
        "    cur[col_bs5['賣量2']] = tickdatatrade.best_ask_volume_2\n",
        "    cur[col_bs5['賣價3']] = tickdatatrade.best_ask_price_3\n",
        "    cur[col_bs5['賣量3']] = tickdatatrade.best_ask_volume_3\n",
        "    cur[col_bs5['賣價4']] = tickdatatrade.best_ask_price_4\n",
        "    cur[col_bs5['賣量4']] = tickdatatrade.best_ask_volume_4\n",
        "    cur[col_bs5['賣價5']] = tickdatatrade.best_ask_price_5\n",
        "    cur[col_bs5['賣量5']] = tickdatatrade.best_ask_volume_5       \n",
        "    with fig_bs5.batch_update():\n",
        "        fig_bs5.data[0].cells.values = cur     \n",
        "    display(fig_bs5)\n",
        "\n",
        "else:\n",
        "    print(\"錯誤訊息 \"+tickDataTradeResponse.error)"
      ]
    },
    {
      "cell_type": "markdown",
      "metadata": {
        "id": "RHAIfkdBhqIk"
      },
      "source": [
        "\n",
        "<div class=\"markdown-google-sans\">\n",
        "\n",
        "## <strong>查詢最後普通股競價交易開(收)盤價資料資訊</strong>\n",
        "</div>\n",
        "透過query_tick_data_open方法實作,帶入股票代碼\n"
      ]
    },
    {
      "cell_type": "code",
      "execution_count": null,
      "metadata": {
        "id": "mf0Aecy-XLNn"
      },
      "outputs": [],
      "source": [
        "tickdataopenResponse=api.squote.query_tick_open_close('2330')\n",
        "if tickdataopenResponse.ok == True:\n",
        "    tickdataopen=tickdataopenResponse.data\n",
        "    cur = list(fig_open.data[0].cells.values) \n",
        "    cur[col_open['開盤價格']] = tickdataopen.open_price \n",
        "    cur[col_open['最高成交價格']] = tickdataopen.high_price\n",
        "    cur[col_open['最低成交價格']] = tickdataopen.low_price\n",
        "    cur[col_open['最近成交價']] = tickdataopen.last_trade_price\n",
        "    cur[col_open['累計成交量']] = tickdataopen.cumulative_volume\n",
        "    cur[col_open['時間']] = tickdataopen.time \n",
        "\n",
        "    with fig_open.batch_update():\n",
        "        fig_open.data[0].cells.values = cur\n",
        "    display(fig_open)\n",
        "else:\n",
        "    print(\"錯誤訊息 \"+tickdataopenResponse.error)"
      ]
    },
    {
      "cell_type": "markdown",
      "metadata": {
        "id": "2PZTNQOvNr50"
      },
      "source": [
        "\n",
        "<div class=\"markdown-google-sans\">\n",
        "\n",
        "## <strong>查詢普通個股基本資料</strong>\n",
        "</div>\n",
        "透過query_base_data方法實作,帶入股票代碼"
      ]
    },
    {
      "cell_type": "code",
      "execution_count": null,
      "metadata": {
        "colab": {
          "base_uri": "https://localhost:8080/",
          "height": 377,
          "referenced_widgets": [
            "9baa01ba34b442e4b67745286124a9d6"
          ]
        },
        "id": "wPmJ3bXoN01C",
        "outputId": "9f938b72-9b87-49a6-b50f-d3446ca60de9"
      },
      "outputs": [],
      "source": [
        "baseDataResponse=api.squote.query_base_data('2330')\n",
        "if baseDataResponse.ok == True:\n",
        "    tickdatahighlow=baseDataResponse.data\n",
        "    cur = list(fig_base.data[0].cells.values)  \n",
        "    \n",
        "    cur[col_base['股票代號']] = tickdatahighlow.stock_code\n",
        "    cur[col_base['商品名稱']] = tickdatahighlow.product_name\n",
        "    cur[col_base['產業別']] = tickdatahighlow.industry\n",
        "    cur[col_base['證券別']] = tickdatahighlow.security_type\n",
        "    cur[col_base['股票異常代碼']] = tickdatahighlow.stock_abnormal_code\n",
        "    cur[col_base['參考價']] = tickdatahighlow.reference_price\n",
        "    cur[col_base['漲停價']] = tickdatahighlow.upper_limit_price\n",
        "    cur[col_base['跌停價']] = tickdatahighlow.lower_limit_price\n",
        "    cur[col_base['非10元面額']] = tickdatahighlow.non_10_denomination\n",
        "    cur[col_base['異常推介個股註記']] = tickdatahighlow.abnormal_recommendation_note\n",
        "    cur[col_base['特殊異常證券註記']] = tickdatahighlow.special_abnormal_security_note\n",
        "    cur[col_base['可現股當沖註記']] = tickdatahighlow.day_trading_note\n",
        "    cur[col_base['豁免平盤下融券賣出註記']] = tickdatahighlow.exempt_short_selling_note\n",
        "    cur[col_base['豁免平盤下借券賣出註記']] = tickdatahighlow.exempt_borrowing_short_selling_note\n",
        "    cur[col_base['搓合循環秒數']] = tickdatahighlow.matching_cycle_seconds\n",
        "    cur[col_base['外國股票識別碼']] = tickdatahighlow.foreign_stock_identifier\n",
        "    cur[col_base['交易單位']] = tickdatahighlow.trading_unit\n",
        "    cur[col_base['交易幣別代號']] = tickdatahighlow.trading_currency_code \n",
        "    with fig_base.batch_update():\n",
        "        fig_base.data[0].cells.values = cur\n",
        "    display(fig_base)\n",
        "else:\n",
        "    print(\"錯誤 \"+baseDataResponse.error)\n",
        "\n"
      ]
    },
    {
      "cell_type": "markdown",
      "metadata": {},
      "source": [
        "<div class=\"markdown-google-sans\">\n",
        "\n",
        "## <strong>查詢最後OTC競價交易即時行情資訊</strong>\n",
        "</div>\n",
        "透過query_otc_tick_data方法實作,帶入股票代碼"
      ]
    },
    {
      "cell_type": "code",
      "execution_count": null,
      "metadata": {},
      "outputs": [],
      "source": [
        "tickDataTradeResponse=api.squote.query_otc_tick_data('5483')\n",
        "if tickDataTradeResponse.ok == True: \n",
        "    tickdatatrade=tickDataTradeResponse.data\n",
        "    cur = list(fig_match.data[0].cells.values)\n",
        "    cur[col_match['漲跌停註記']] = tickdatatrade.limit_up_down_note\n",
        "    cur[col_match['狀態註記']] = tickdatatrade.status_note\n",
        "    cur[col_match['成交時間']] = tickdatatrade.match_time\n",
        "    cur[col_match['成交價']] = tickdatatrade.trade_price\n",
        "    cur[col_match['成交量']] = tickdatatrade.trade_volume\n",
        "    \n",
        "    with fig_match.batch_update():\n",
        "        fig_match.data[0].cells.values = cur\n",
        "    display(fig_match)\n",
        "\n",
        "    cur = list(fig_bs5.data[0].cells.values)\n",
        "    cur[col_bs5['買價1']] = tickdatatrade.best_bid_price_1\n",
        "    cur[col_bs5['買量1']] = tickdatatrade.best_bid_volume_1\n",
        "    cur[col_bs5['買價2']] = tickdatatrade.best_bid_price_2\n",
        "    cur[col_bs5['買量2']] = tickdatatrade.best_bid_volume_2\n",
        "    cur[col_bs5['買價3']] = tickdatatrade.best_bid_price_3\n",
        "    cur[col_bs5['買量3']] = tickdatatrade.best_bid_volume_3\n",
        "    cur[col_bs5['買價4']] = tickdatatrade.best_bid_price_4\n",
        "    cur[col_bs5['買量4']] = tickdatatrade.best_bid_volume_4\n",
        "    cur[col_bs5['買價5']] = tickdatatrade.best_bid_price_5\n",
        "    cur[col_bs5['買量5']] = tickdatatrade.best_bid_volume_5        \n",
        "\n",
        "    cur[col_bs5['賣價1']] = tickdatatrade.best_ask_price_1\n",
        "    cur[col_bs5['賣量1']] = tickdatatrade.best_ask_volume_1\n",
        "    cur[col_bs5['賣價2']] = tickdatatrade.best_ask_price_2\n",
        "    cur[col_bs5['賣量2']] = tickdatatrade.best_ask_volume_2\n",
        "    cur[col_bs5['賣價3']] = tickdatatrade.best_ask_price_3\n",
        "    cur[col_bs5['賣量3']] = tickdatatrade.best_ask_volume_3\n",
        "    cur[col_bs5['賣價4']] = tickdatatrade.best_ask_price_4\n",
        "    cur[col_bs5['賣量4']] = tickdatatrade.best_ask_volume_4\n",
        "    cur[col_bs5['賣價5']] = tickdatatrade.best_ask_price_5\n",
        "    cur[col_bs5['賣量5']] = tickdatatrade.best_ask_volume_5       \n",
        "    with fig_bs5.batch_update():\n",
        "        fig_bs5.data[0].cells.values = cur     \n",
        "    display(fig_bs5)\n",
        "\n",
        "else:\n",
        "    print(\"錯誤訊息 \"+tickDataTradeResponse.error)"
      ]
    },
    {
      "cell_type": "markdown",
      "metadata": {},
      "source": [
        "\n",
        "<div class=\"markdown-google-sans\">\n",
        "\n",
        "## <strong>查詢最後otc競價交易開(收)盤價資料資訊</strong>\n",
        "</div>\n",
        "透過query_otc_tick_data_open方法實作,帶入股票代碼\n"
      ]
    },
    {
      "cell_type": "code",
      "execution_count": null,
      "metadata": {},
      "outputs": [],
      "source": [
        "tickdataopenResponse=api.squote.query_otc_tick_open_close('5483')\n",
        "if tickdataopenResponse.ok == True:\n",
        "    tickdataopen=tickdataopenResponse.data\n",
        "    cur = list(fig_open.data[0].cells.values) \n",
        "    cur[col_open['開盤價格']] = tickdataopen.open_price \n",
        "    cur[col_open['最高成交價格']] = tickdataopen.high_price\n",
        "    cur[col_open['最低成交價格']] = tickdataopen.low_price\n",
        "    cur[col_open['最近成交價']] = tickdataopen.last_trade_price\n",
        "    cur[col_open['累計成交量']] = tickdataopen.cumulative_volume\n",
        "    cur[col_open['時間']] = tickdataopen.time \n",
        "\n",
        "    with fig_open.batch_update():\n",
        "        fig_open.data[0].cells.values = cur\n",
        "    display(fig_open)\n",
        "else:\n",
        "    print(\"錯誤訊息 \"+tickdataopenResponse.error)"
      ]
    },
    {
      "cell_type": "markdown",
      "metadata": {},
      "source": [
        "\n",
        "<div class=\"markdown-google-sans\">\n",
        "\n",
        "## <strong>查詢otc基本資料</strong>\n",
        "</div>\n",
        "透過query_otc_base_data方法實作,帶入股票代碼"
      ]
    },
    {
      "cell_type": "code",
      "execution_count": null,
      "metadata": {},
      "outputs": [],
      "source": [
        "baseDataResponse=api.squote.query_otc_base_data('5483')\n",
        "if baseDataResponse.ok == True:\n",
        "    tickdatahighlow=baseDataResponse.data\n",
        "    cur = list(fig_base.data[0].cells.values) \n",
        "   \n",
        "    cur[col_base['股票代號']] = tickdatahighlow.stock_code\n",
        "    cur[col_base['商品名稱']] = tickdatahighlow.product_name\n",
        "    cur[col_base['產業別']] = tickdatahighlow.industry\n",
        "    cur[col_base['證券別']] = tickdatahighlow.security_type\n",
        "    cur[col_base['股票異常代碼']] = tickdatahighlow.stock_abnormal_code\n",
        "    cur[col_base['參考價']] = tickdatahighlow.reference_price\n",
        "    cur[col_base['漲停價']] = tickdatahighlow.upper_limit_price\n",
        "    cur[col_base['跌停價']] = tickdatahighlow.lower_limit_price\n",
        "    cur[col_base['非10元面額']] = tickdatahighlow.non_10_denomination\n",
        "    cur[col_base['異常推介個股註記']] = tickdatahighlow.abnormal_recommendation_note\n",
        "    cur[col_base['特殊異常證券註記']] = tickdatahighlow.special_abnormal_security_note\n",
        "    cur[col_base['可現股當沖註記']] = tickdatahighlow.day_trading_note\n",
        "    cur[col_base['豁免平盤下融券賣出註記']] = tickdatahighlow.exempt_short_selling_note\n",
        "    cur[col_base['豁免平盤下借券賣出註記']] = tickdatahighlow.exempt_borrowing_short_selling_note\n",
        "    cur[col_base['搓合循環秒數']] = tickdatahighlow.matching_cycle_seconds \n",
        "    cur[col_base['交易單位']] = tickdatahighlow.trading_unit\n",
        "    cur[col_base['交易幣別代號']] = tickdatahighlow.trading_currency_code \n",
        "\n",
        "    with fig_base.batch_update():\n",
        "        fig_base.data[0].cells.values = cur\n",
        "    display(fig_base)\n",
        "else:\n",
        "    print(\"錯誤 \"+baseDataResponse.error)\n",
        "\n"
      ]
    },
    {
      "cell_type": "markdown",
      "metadata": {},
      "source": [
        "\n",
        "<div class=\"markdown-google-sans\">\n",
        "\n",
        "## <strong>查詢最後指數資料資訊</strong>\n",
        "</div>\n",
        "透過query_index_data方法實作,帶入指數代號 臺股指數 IX0001  臺灣50指數 TW50  臺灣中型100指數 TWMC  臺灣資訊科技指數 TWIT  臺灣發達指數 TWEI  臺灣高股息指數 TWDP  臺灣就業99指數 EMP99  臺灣公司治理100指數 CG100  寶島股價指數 FRMSA  臺灣高薪100指數 HC100  電子類兩倍槓桿指數 EDRL2  電子類反向指數 EDRIN  臺指日報酬兩倍指數 TTDRL2  臺指反向一倍指數 TTDRIN  小型股300指數 SC300  金融類日報酬兩倍指數 FDRL2  金融類日報酬反向一倍指數 FDRIN  漲升股利150指數 DVA150  漲升股利100指數 DVA100  藍籌30指數 BC30  工業菁英30指數 INE30  電子菁英30指數 ITE30  低波動精選30指數 LV30  低貝塔100指數 LB100  藍籌30反向一倍指數 BC30-1  中小型精選50指數 SMC50  中小型A級動能50指數 SAM50  臺灣永續指數 F4GTTE  股利150報酬指數 IR0091  電子菁英30報酬指數 IR0095  存股雙十等權重報酬指數 IR0112  特選大蘋果報酬指數 IR0113  中小型300報酬指數 IR0114  特股高息20報酬指數 IR0115  臺灣500報酬指數 IR0116  特選外資豐擁50報酬指數 IR0117  臺灣生技指數 IX0103  特選高息低波指數 IX0104  工業菁英30反向一倍指數 IX0106  特選內需高收益指數 IX0107  臺灣中小型公司治理指數 IX0108  臺灣IPO指數 IX0109  價值投資指數 IX0110  中小型300指數 IX0114 |\n"
      ]
    },
    {
      "cell_type": "code",
      "execution_count": null,
      "metadata": {},
      "outputs": [],
      "source": [
        "indexDataResponse=api.squote.query_index_data('IX0001')\n",
        "if indexDataResponse.ok == True:\n",
        "    indexdata=indexDataResponse.data\n",
        "    cur = list(fig_idx.data[0].cells.values) \n",
        "   \n",
        "    cur[col_idx['指數代號']] = indexdata.index_code \n",
        "    cur[col_idx['指數時間']] = indexdata.index_time \n",
        "    cur[col_idx['最新指數']] = indexdata.latest_index \n",
        "    with fig_idx.batch_update():\n",
        "        fig_idx.data[0].cells.values = cur \n",
        "\n",
        "    display(fig_idx)\n",
        "else:\n",
        "    print(\"錯誤 \"+indexDataResponse.error)\n",
        "\n"
      ]
    },
    {
      "cell_type": "markdown",
      "metadata": {},
      "source": [
        "\n",
        "<div class=\"markdown-google-sans\">\n",
        "\n",
        "## <strong>查詢最後櫃買指數資料資訊</strong>\n",
        "</div>\n",
        "透過query_otc_index_data方法實作,帶入指數代號\n",
        "櫃買指數:IX0043  富櫃五十指數:GTSM50  指標公債指數:TWTBI  線上遊戲業指數:GAME  高殖利率指數:GTHD  勞工就業88指數:EMP88  櫃買薪酬指數:GTCI  櫃買公司治理指數:TPCGI  富櫃200報酬指數:IR0118  臺灣生技指數:IX0103  臺灣中小型公司治理指數:IX0108  臺灣IPO指數:IX0109  富櫃200指數:IX0118  "
      ]
    },
    {
      "cell_type": "code",
      "execution_count": null,
      "metadata": {},
      "outputs": [],
      "source": [
        "indexDataResponse=api.squote.query_otc_index_data('IX0043')\n",
        "if indexDataResponse.ok == True:\n",
        "    indexdata=indexDataResponse.data\n",
        "    cur = list(fig_idx.data[0].cells.values) \n",
        "   \n",
        "    cur[col_idx['指數代號']] = indexdata.index_code \n",
        "    cur[col_idx['指數時間']] = indexdata.index_time \n",
        "    cur[col_idx['最新指數']] = indexdata.latest_index \n",
        "    with fig_idx.batch_update():\n",
        "        fig_idx.data[0].cells.values = cur \n",
        "\n",
        "    display(fig_idx)\n",
        "else:\n",
        "    print(\"錯誤 \"+indexDataResponse.error)\n",
        "\n"
      ]
    },
    {
      "cell_type": "markdown",
      "metadata": {
        "id": "9DE-qfXM-f-W"
      },
      "source": [
        "<div class=\"markdown-google-sans\">\n",
        "\n",
        "# <strong>接收即時行情</strong>\n",
        "</div>"
      ]
    },
    {
      "cell_type": "markdown",
      "metadata": {
        "id": "8sD82KBj45YL"
      },
      "source": [
        "<div class=\"markdown-google-sans\">\n",
        "\n",
        "## <strong>*股票行情*</strong>\n",
        "</div>"
      ]
    },
    {
      "cell_type": "markdown",
      "metadata": {
        "id": "VtrVF1XbVv9r"
      },
      "source": [
        "<div class=\"markdown-google-sans\">\n",
        "\n",
        "### <strong>*註冊*</strong>\n",
        "</div>"
      ]
    },
    {
      "cell_type": "code",
      "execution_count": null,
      "metadata": {
        "colab": {
          "base_uri": "https://localhost:8080/",
          "height": 755,
          "referenced_widgets": [
            "61028940783b4d44a6f3909964084d48",
            "522dc53ecd144d77b601a94d069b3118"
          ]
        },
        "id": "6lqYhn3vV74_",
        "outputId": "27f6c476-7cc0-42eb-af79-c4030507e25f"
      },
      "outputs": [],
      "source": [
        "def on_tick_data(tickdatatrade: TickData):  \n",
        "    if tickdatatrade.trade_volume>0 :\n",
        "        cur = list(fig_match.data[0].cells.values)\n",
        "        cur[col_match['漲跌停註記']] = tickdatatrade.limit_up_down_note\n",
        "        cur[col_match['狀態註記']] = tickdatatrade.status_note\n",
        "        cur[col_match['成交時間']] = tickdatatrade.match_time\n",
        "        cur[col_match['成交價']] = tickdatatrade.trade_price\n",
        "        cur[col_match['成交量']] = tickdatatrade.trade_volume\n",
        "        \n",
        "        with fig_match.batch_update():\n",
        "            fig_match.data[0].cells.values = cur  \n",
        "    if tickdatatrade.best_bid_volume_1>0 :\n",
        "        cur = list(fig_bs5.data[0].cells.values)\n",
        "        cur[col_bs5['買價1']] = tickdatatrade.best_bid_price_1\n",
        "        cur[col_bs5['買量1']] = tickdatatrade.best_bid_volume_1\n",
        "        cur[col_bs5['買價2']] = tickdatatrade.best_bid_price_2\n",
        "        cur[col_bs5['買量2']] = tickdatatrade.best_bid_volume_2\n",
        "        cur[col_bs5['買價3']] = tickdatatrade.best_bid_price_3\n",
        "        cur[col_bs5['買量3']] = tickdatatrade.best_bid_volume_3\n",
        "        cur[col_bs5['買價4']] = tickdatatrade.best_bid_price_4\n",
        "        cur[col_bs5['買量4']] = tickdatatrade.best_bid_volume_4\n",
        "        cur[col_bs5['買價5']] = tickdatatrade.best_bid_price_5\n",
        "        cur[col_bs5['買量5']] = tickdatatrade.best_bid_volume_5        \n",
        "\n",
        "        cur[col_bs5['賣價1']] = tickdatatrade.best_ask_price_1\n",
        "        cur[col_bs5['賣量1']] = tickdatatrade.best_ask_volume_1\n",
        "        cur[col_bs5['賣價2']] = tickdatatrade.best_ask_price_2\n",
        "        cur[col_bs5['賣量2']] = tickdatatrade.best_ask_volume_2\n",
        "        cur[col_bs5['賣價3']] = tickdatatrade.best_ask_price_3\n",
        "        cur[col_bs5['賣量3']] = tickdatatrade.best_ask_volume_3\n",
        "        cur[col_bs5['賣價4']] = tickdatatrade.best_ask_price_4\n",
        "        cur[col_bs5['賣量4']] = tickdatatrade.best_ask_volume_4\n",
        "        cur[col_bs5['賣價5']] = tickdatatrade.best_ask_price_5\n",
        "        cur[col_bs5['賣量5']] = tickdatatrade.best_ask_volume_5       \n",
        "        with fig_bs5.batch_update():\n",
        "            fig_bs5.data[0].cells.values = cur    \n",
        "\n",
        "def on_base_data(basedata: BaseData):         \n",
        "    cur = list(fig_base.data[0].cells.values) \n",
        "   \n",
        "    cur[col_base['股票代號']] = tickdatahighlow.stock_code\n",
        "    cur[col_base['商品名稱']] = tickdatahighlow.product_name\n",
        "    cur[col_base['產業別']] = tickdatahighlow.industry\n",
        "    cur[col_base['證券別']] = tickdatahighlow.security_type\n",
        "    cur[col_base['股票異常代碼']] = tickdatahighlow.stock_abnormal_code\n",
        "    cur[col_base['參考價']] = tickdatahighlow.reference_price\n",
        "    cur[col_base['漲停價']] = tickdatahighlow.upper_limit_price\n",
        "    cur[col_base['跌停價']] = tickdatahighlow.lower_limit_price\n",
        "    cur[col_base['非10元面額']] = tickdatahighlow.non_10_denomination\n",
        "    cur[col_base['異常推介個股註記']] = tickdatahighlow.abnormal_recommendation_note\n",
        "    cur[col_base['特殊異常證券註記']] = tickdatahighlow.special_abnormal_security_note\n",
        "    cur[col_base['可現股當沖註記']] = tickdatahighlow.day_trading_note\n",
        "    cur[col_base['豁免平盤下融券賣出註記']] = tickdatahighlow.exempt_short_selling_note\n",
        "    cur[col_base['豁免平盤下借券賣出註記']] = tickdatahighlow.exempt_borrowing_short_selling_note\n",
        "    cur[col_base['搓合循環秒數']] = tickdatahighlow.matching_cycle_seconds \n",
        "    cur[col_base['交易單位']] = tickdatahighlow.trading_unit\n",
        "    cur[col_base['交易幣別代號']] = tickdatahighlow.trading_currency_code \n",
        "\n",
        "    with fig_base.batch_update():\n",
        "        fig_base.data[0].cells.values = cur\n",
        "    \n",
        "def on_tick_data_open_close(tickdataopen: TickDataOpenClose):\n",
        "    cur = list(fig_open.data[0].cells.values) \n",
        "    cur[col_open['開盤價格']] = tickdataopen.open_price \n",
        "    cur[col_open['最高成交價格']] = tickdataopen.high_price\n",
        "    cur[col_open['最低成交價格']] = tickdataopen.low_price\n",
        "    cur[col_open['最近成交價']] = tickdataopen.last_trade_price\n",
        "    cur[col_open['累計成交量']] = tickdataopen.cumulative_volume\n",
        "    cur[col_open['時間']] = tickdataopen.time  \n",
        "    with fig_open.batch_update():\n",
        "        fig_open.data[0].cells.values = cur\n",
        "\n",
        "#訂閱接收事件\n",
        "api.squote.on_tick_data = on_tick_data \n",
        "api.squote.on_base_data = on_base_data \n",
        "api.squote.on_tick_data_open_close = on_tick_data_open_close \n",
        "subok,msg=api.squote.sub_stock('2330')\n",
        "print(f'註冊結果 {subok} {msg}')\n",
        "display(fig_match)\n",
        "display(fig_bs5)\n",
        "display(fig_base)\n",
        "display(fig_open)  "
      ]
    },
    {
      "cell_type": "markdown",
      "metadata": {
        "id": "ocdYK6HHWihI"
      },
      "source": [
        "<div class=\"markdown-google-sans\">\n",
        "\n",
        "### <strong>反註冊</strong>\n",
        "\n",
        "</div>"
      ]
    },
    {
      "cell_type": "code",
      "execution_count": null,
      "metadata": {
        "colab": {
          "base_uri": "https://localhost:8080/",
          "height": 35
        },
        "id": "kL6PgGQ1WedX",
        "outputId": "6740f944-61a7-4e61-b791-b5bdc9391aa8"
      },
      "outputs": [],
      "source": [
        "unsub_ok,msg=api.squote.unsub_stock('2330')\n",
        "print(f'反註冊結果  {unsub_ok} {msg}')"
      ]
    },
    {
      "cell_type": "markdown",
      "metadata": {},
      "source": [
        "<div class=\"markdown-google-sans\">\n",
        "\n",
        "## <strong>*otc行情*</strong>\n",
        "</div>"
      ]
    },
    {
      "cell_type": "markdown",
      "metadata": {},
      "source": [
        "<div class=\"markdown-google-sans\">\n",
        "\n",
        "### <strong>*註冊*</strong>\n",
        "</div>"
      ]
    },
    {
      "cell_type": "code",
      "execution_count": null,
      "metadata": {},
      "outputs": [],
      "source": [
        "def on_otc_tick_data(tickdatatrade: TickData):  \n",
        "    if tickdatatrade.trade_volume>0 :\n",
        "        cur = list(fig_match.data[0].cells.values)\n",
        "        cur[col_match['漲跌停註記']] = tickdatatrade.limit_up_down_note\n",
        "        cur[col_match['狀態註記']] = tickdatatrade.status_note        \n",
        "        cur[col_match['成交時間']] = tickdatatrade.match_time\n",
        "        cur[col_match['成交價']] = tickdatatrade.trade_price\n",
        "        cur[col_match['成交量']] = tickdatatrade.trade_volume\n",
        "        \n",
        "        with fig_match.batch_update():\n",
        "            fig_match.data[0].cells.values = cur  \n",
        "    if tickdatatrade.best_bid_volume_1>0 :\n",
        "        cur = list(fig_bs5.data[0].cells.values)\n",
        "        cur[col_bs5['買價1']] = tickdatatrade.best_bid_price_1\n",
        "        cur[col_bs5['買量1']] = tickdatatrade.best_bid_volume_1\n",
        "        cur[col_bs5['買價2']] = tickdatatrade.best_bid_price_2\n",
        "        cur[col_bs5['買量2']] = tickdatatrade.best_bid_volume_2\n",
        "        cur[col_bs5['買價3']] = tickdatatrade.best_bid_price_3\n",
        "        cur[col_bs5['買量3']] = tickdatatrade.best_bid_volume_3\n",
        "        cur[col_bs5['買價4']] = tickdatatrade.best_bid_price_4\n",
        "        cur[col_bs5['買量4']] = tickdatatrade.best_bid_volume_4\n",
        "        cur[col_bs5['買價5']] = tickdatatrade.best_bid_price_5\n",
        "        cur[col_bs5['買量5']] = tickdatatrade.best_bid_volume_5        \n",
        "\n",
        "        cur[col_bs5['賣價1']] = tickdatatrade.best_ask_price_1\n",
        "        cur[col_bs5['賣量1']] = tickdatatrade.best_ask_volume_1\n",
        "        cur[col_bs5['賣價2']] = tickdatatrade.best_ask_price_2\n",
        "        cur[col_bs5['賣量2']] = tickdatatrade.best_ask_volume_2\n",
        "        cur[col_bs5['賣價3']] = tickdatatrade.best_ask_price_3\n",
        "        cur[col_bs5['賣量3']] = tickdatatrade.best_ask_volume_3\n",
        "        cur[col_bs5['賣價4']] = tickdatatrade.best_ask_price_4\n",
        "        cur[col_bs5['賣量4']] = tickdatatrade.best_ask_volume_4\n",
        "        cur[col_bs5['賣價5']] = tickdatatrade.best_ask_price_5\n",
        "        cur[col_bs5['賣量5']] = tickdatatrade.best_ask_volume_5       \n",
        "        with fig_bs5.batch_update():\n",
        "            fig_bs5.data[0].cells.values = cur    \n",
        "\n",
        "def on_otc_base_data(basedata: OTCBaseData):         \n",
        "    cur = list(fig_base.data[0].cells.values) \n",
        "   \n",
        "    cur[col_base['股票代號']] = tickdatahighlow.stock_code\n",
        "    cur[col_base['商品名稱']] = tickdatahighlow.product_name\n",
        "    cur[col_base['產業別']] = tickdatahighlow.industry\n",
        "    cur[col_base['證券別']] = tickdatahighlow.security_type\n",
        "    cur[col_base['股票異常代碼']] = tickdatahighlow.stock_abnormal_code\n",
        "    cur[col_base['參考價']] = tickdatahighlow.reference_price\n",
        "    cur[col_base['漲停價']] = tickdatahighlow.upper_limit_price\n",
        "    cur[col_base['跌停價']] = tickdatahighlow.lower_limit_price\n",
        "    cur[col_base['非10元面額']] = tickdatahighlow.non_10_denomination\n",
        "    cur[col_base['異常推介個股註記']] = tickdatahighlow.abnormal_recommendation_note\n",
        "    cur[col_base['特殊異常證券註記']] = tickdatahighlow.special_abnormal_security_note\n",
        "    cur[col_base['可現股當沖註記']] = tickdatahighlow.day_trading_note\n",
        "    cur[col_base['豁免平盤下融券賣出註記']] = tickdatahighlow.exempt_short_selling_note\n",
        "    cur[col_base['豁免平盤下借券賣出註記']] = tickdatahighlow.exempt_borrowing_short_selling_note\n",
        "    cur[col_base['搓合循環秒數']] = tickdatahighlow.matching_cycle_seconds\n",
        "    cur[col_base['外國股票識別碼']] = tickdatahighlow.foreign_stock_identifier\n",
        "    cur[col_base['交易單位']] = tickdatahighlow.trading_unit\n",
        "    cur[col_base['交易幣別代號']] = tickdatahighlow.trading_currency_code \n",
        "\n",
        "    with fig_base.batch_update():\n",
        "        fig_base.data[0].cells.values = cur\n",
        "    \n",
        "def on_otc_tick_data_open_close(tickdataopen: TickDataOpenClose):\n",
        "    cur = list(fig_open.data[0].cells.values) \n",
        "    cur[col_open['開盤價格']] = tickdataopen.open_price \n",
        "    cur[col_open['最高成交價格']] = tickdataopen.high_price\n",
        "    cur[col_open['最低成交價格']] = tickdataopen.low_price\n",
        "    cur[col_open['最近成交價']] = tickdataopen.last_trade_price\n",
        "    cur[col_open['累計成交量']] = tickdataopen.cumulative_volume\n",
        "    cur[col_open['時間']] = tickdataopen.time  \n",
        "    with fig_open.batch_update():\n",
        "        fig_open.data[0].cells.values = cur\n",
        "      \n",
        "#訂閱接收事件\n",
        "api.squote.on_otc_tick_data = on_otc_tick_data\n",
        "api.squote.on_otc_base_data = on_otc_base_data \n",
        "api.squote.on_otc_tick_data_open_close = on_otc_tick_data_open_close \n",
        "subok,msg=api.squote.sub_otc('5483')\n",
        "print(f'註冊結果 {subok} {msg}')\n",
        "display(fig_match)\n",
        "display(fig_bs5)\n",
        "display(fig_base)\n",
        "display(fig_open)  "
      ]
    },
    {
      "cell_type": "markdown",
      "metadata": {},
      "source": [
        "<div class=\"markdown-google-sans\">\n",
        "\n",
        "### <strong>反註冊</strong>\n",
        "\n",
        "</div>"
      ]
    },
    {
      "cell_type": "code",
      "execution_count": null,
      "metadata": {},
      "outputs": [],
      "source": [
        "unsub_ok,msg=api.squote.unsub_otc('5483')\n",
        "print(f'反註冊結果  {unsub_ok} {msg}')"
      ]
    },
    {
      "cell_type": "markdown",
      "metadata": {},
      "source": [
        "<div class=\"markdown-google-sans\">\n",
        "\n",
        "## <strong>*指數行情*</strong>\n",
        "</div>"
      ]
    },
    {
      "cell_type": "markdown",
      "metadata": {},
      "source": [
        "<div class=\"markdown-google-sans\">\n",
        "\n",
        "## <strong>*指數行情*</strong>\n",
        "</div>"
      ]
    },
    {
      "cell_type": "markdown",
      "metadata": {},
      "source": [
        "<div class=\"markdown-google-sans\">\n",
        "\n",
        "### <strong>*註冊*</strong>\n",
        "</div>臺股指數 IX0001  臺灣50指數 TW50  臺灣中型100指數 TWMC  臺灣資訊科技指數 TWIT  臺灣發達指數 TWEI  臺灣高股息指數 TWDP  臺灣就業99指數 EMP99  臺灣公司治理100指數 CG100  寶島股價指數 FRMSA  臺灣高薪100指數 HC100  電子類兩倍槓桿指數 EDRL2  電子類反向指數 EDRIN  臺指日報酬兩倍指數 TTDRL2  臺指反向一倍指數 TTDRIN  小型股300指數 SC300  金融類日報酬兩倍指數 FDRL2  金融類日報酬反向一倍指數 FDRIN  漲升股利150指數 DVA150  漲升股利100指數 DVA100  藍籌30指數 BC30  工業菁英30指數 INE30  電子菁英30指數 ITE30  低波動精選30指數 LV30  低貝塔100指數 LB100  藍籌30反向一倍指數 BC30-1  中小型精選50指數 SMC50  中小型A級動能50指數 SAM50  臺灣永續指數 F4GTTE  股利150報酬指數 IR0091  電子菁英30報酬指數 IR0095  存股雙十等權重報酬指數 IR0112  特選大蘋果報酬指數 IR0113  中小型300報酬指數 IR0114  特股高息20報酬指數 IR0115  臺灣500報酬指數 IR0116  特選外資豐擁50報酬指數 IR0117  臺灣生技指數 IX0103  特選高息低波指數 IX0104  工業菁英30反向一倍指數 IX0106  特選內需高收益指數 IX0107  臺灣中小型公司治理指數 IX0108  臺灣IPO指數 IX0109  價值投資指數 IX0110  中小型300指數 IX0114 |"
      ]
    },
    {
      "cell_type": "code",
      "execution_count": null,
      "metadata": {},
      "outputs": [],
      "source": [
        "def on_index_data(indexdata: IndexData):  \n",
        "    cur = list(fig_idx.data[0].cells.values)  \n",
        "    cur[col_idx['指數代號']] = indexdata.index_code \n",
        "    cur[col_idx['指數時間']] = indexdata.index_time \n",
        "    cur[col_idx['最新指數']] = indexdata.latest_index \n",
        "    with fig_idx.batch_update():\n",
        "        fig_idx.data[0].cells.values = cur \n",
        " \n",
        "\n",
        "#訂閱接收事件\n",
        "api.squote.on_index_data = on_index_data \n",
        "subok,msg=api.squote.sub_index('IX0001')\n",
        "print(f'註冊結果 {subok} {msg}')\n",
        "display(fig_idx) "
      ]
    },
    {
      "cell_type": "markdown",
      "metadata": {},
      "source": [
        "<div class=\"markdown-google-sans\">\n",
        "\n",
        "### <strong>反註冊</strong>\n",
        "\n",
        "</div>"
      ]
    },
    {
      "cell_type": "code",
      "execution_count": null,
      "metadata": {},
      "outputs": [],
      "source": [
        "unsub_ok,msg=api.squote.unsub_index('IX0001')\n",
        "print(f'反註冊結果  {unsub_ok} {msg}')"
      ]
    },
    {
      "cell_type": "markdown",
      "metadata": {},
      "source": [
        "<div class=\"markdown-google-sans\">\n",
        "\n",
        "## <strong>*OTC指數行情*</strong>\n",
        "</div>"
      ]
    },
    {
      "cell_type": "markdown",
      "metadata": {},
      "source": [
        "<div class=\"markdown-google-sans\">\n",
        "\n",
        "### <strong>*註冊*</strong>\n",
        "</div>\n",
        "櫃買指數:IX0043  富櫃五十指數:GTSM50  指標公債指數:TWTBI  線上遊戲業指數:GAME  高殖利率指數:GTHD  勞工就業88指數:EMP88  櫃買薪酬指數:GTCI  櫃買公司治理指數:TPCGI  富櫃200報酬指數:IR0118  臺灣生技指數:IX0103  臺灣中小型公司治理指數:IX0108  臺灣IPO指數:IX0109  富櫃200指數:IX0118  "
      ]
    },
    {
      "cell_type": "code",
      "execution_count": null,
      "metadata": {},
      "outputs": [],
      "source": [
        "def on_otc_index_data(indexdata: IndexData):  \n",
        "    cur = list(fig_idx.data[0].cells.values)  \n",
        "    cur[col_idx['指數代號']] = indexdata.index_code \n",
        "    cur[col_idx['指數時間']] = indexdata.index_time \n",
        "    cur[col_idx['最新指數']] = indexdata.latest_index \n",
        "    with fig_idx.batch_update():\n",
        "        fig_idx.data[0].cells.values = cur \n",
        " \n",
        "\n",
        "#訂閱接收事件\n",
        "api.squote.on_otc_index_data = on_otc_index_data \n",
        "subok,msg=api.squote.sub_otc_index('IX0043')\n",
        "print(f'註冊結果 {subok} {msg}')\n",
        "display(fig_idx) "
      ]
    },
    {
      "cell_type": "markdown",
      "metadata": {},
      "source": [
        "<div class=\"markdown-google-sans\">\n",
        "\n",
        "### <strong>反註冊</strong>\n",
        "\n",
        "</div>"
      ]
    },
    {
      "cell_type": "code",
      "execution_count": null,
      "metadata": {},
      "outputs": [],
      "source": [
        "unsub_ok,msg=api.squote.unsub_index('IX0043')\n",
        "print(f'反註冊結果  {unsub_ok} {msg}')"
      ]
    },
    {
      "cell_type": "markdown",
      "metadata": {
        "id": "JfIM_Cu4-4ZH"
      },
      "source": [
        "<div class=\"markdown-google-sans\">\n",
        "\n",
        "# <strong>*系統登出*</strong>\n",
        "</div>\n"
      ]
    },
    {
      "cell_type": "code",
      "execution_count": null,
      "metadata": {
        "colab": {
          "base_uri": "https://localhost:8080/"
        },
        "id": "tCNo21yWhqIn",
        "outputId": "fe0e0142-e377-46d7-ae9d-0557391a0646",
        "scrolled": true
      },
      "outputs": [],
      "source": [
        "#系統登出\n",
        "api.logout()\n",
        "print('登出完畢')\n",
        "print(f\"登入旗標{api.login_status_flag}\")\n"
      ]
    }
  ],
  "metadata": {
    "colab": {
      "collapsed_sections": [
        "N1NzkGKCNAWz",
        "BBm2ojpSNLRB",
        "2PZTNQOvNr50",
        "b33eDzXdVaAm",
        "ocdYK6HHWihI",
        "OLbGfs6dX-nr",
        "9uL3xmF4YDkq",
        "0n9cZH4w5wGM",
        "E04iPtWa-2Vq",
        "JfIM_Cu4-4ZH"
      ],
      "provenance": [],
      "toc_visible": true
    },
    "kernelspec": {
      "display_name": "venv",
      "language": "python",
      "name": "python3"
    },
    "language_info": {
      "codemirror_mode": {
        "name": "ipython",
        "version": 3
      },
      "file_extension": ".py",
      "mimetype": "text/x-python",
      "name": "python",
      "nbconvert_exporter": "python",
      "pygments_lexer": "ipython3",
      "version": "3.12.10"
    },
    "widgets": {
      "application/vnd.jupyter.widget-state+json": {
        "1d6f47372f7d41808c362650ab84117d": {
          "model_module": "jupyterlab-plotly",
          "model_module_version": "^5.24.1",
          "model_name": "FigureModel",
          "state": {
            "_config": {
              "plotlyServerURL": "https://plot.ly"
            },
            "_data": [
              {
                "cells": {
                  "align": "left",
                  "values": [
                    [
                      ""
                    ],
                    [
                      ""
                    ],
                    [
                      ""
                    ]
                  ]
                },
                "header": {
                  "values": [
                    "成交時間",
                    "成交價",
                    "成交量"
                  ]
                },
                "type": "table",
                "uid": "789a5e3c-feed-4b47-96d0-b6eb017b7060"
              }
            ],
            "_dom_classes": [],
            "_js2py_layoutDelta": {
              "layout_delta": {
                "activeselection": {
                  "fillcolor": "rgba(0,0,0,0)",
                  "opacity": 0.5
                },
                "activeshape": {
                  "fillcolor": "rgb(255,0,255)",
                  "opacity": 0.5
                },
                "annotations": [],
                "autotypenumbers": "convert types",
                "calendar": "gregorian",
                "clickmode": "event",
                "colorscale": {
                  "diverging": [
                    [
                      0,
                      "rgb(5,10,172)"
                    ],
                    [
                      0.35,
                      "rgb(106,137,247)"
                    ],
                    [
                      0.5,
                      "rgb(190,190,190)"
                    ],
                    [
                      0.6,
                      "rgb(220,170,132)"
                    ],
                    [
                      0.7,
                      "rgb(230,145,90)"
                    ],
                    [
                      1,
                      "rgb(178,10,28)"
                    ]
                  ],
                  "sequential": [
                    [
                      0,
                      "rgb(220,220,220)"
                    ],
                    [
                      0.2,
                      "rgb(245,195,157)"
                    ],
                    [
                      0.4,
                      "rgb(245,160,105)"
                    ],
                    [
                      1,
                      "rgb(178,10,28)"
                    ]
                  ],
                  "sequentialminus": [
                    [
                      0,
                      "rgb(5,10,172)"
                    ],
                    [
                      0.35,
                      "rgb(40,60,190)"
                    ],
                    [
                      0.5,
                      "rgb(70,100,245)"
                    ],
                    [
                      0.6,
                      "rgb(90,120,245)"
                    ],
                    [
                      0.7,
                      "rgb(106,137,247)"
                    ],
                    [
                      1,
                      "rgb(220,220,220)"
                    ]
                  ]
                },
                "colorway": [
                  "#1f77b4",
                  "#ff7f0e",
                  "#2ca02c",
                  "#d62728",
                  "#9467bd",
                  "#8c564b",
                  "#e377c2",
                  "#7f7f7f",
                  "#bcbd22",
                  "#17becf"
                ],
                "dragmode": "zoom",
                "font": {
                  "color": "#444",
                  "family": "\"Open Sans\", verdana, arial, sans-serif",
                  "lineposition": "none",
                  "shadow": "none",
                  "size": 12,
                  "style": "normal",
                  "textcase": "normal",
                  "variant": "normal",
                  "weight": "normal"
                },
                "height": 360,
                "hidesources": false,
                "hoverdistance": 20,
                "hoverlabel": {
                  "align": "auto",
                  "font": {
                    "family": "Arial, sans-serif",
                    "lineposition": "none",
                    "shadow": "none",
                    "size": 13,
                    "style": "normal",
                    "textcase": "normal",
                    "variant": "normal",
                    "weight": "normal"
                  },
                  "grouptitlefont": {
                    "family": "Arial, sans-serif",
                    "lineposition": "none",
                    "shadow": "none",
                    "size": 13,
                    "style": "normal",
                    "textcase": "normal",
                    "variant": "normal",
                    "weight": "normal"
                  },
                  "namelength": 15
                },
                "hovermode": "closest",
                "hoversubplots": "overlaying",
                "images": [],
                "margin": {
                  "autoexpand": true,
                  "b": 80,
                  "l": 80,
                  "pad": 0,
                  "r": 80,
                  "t": 100
                },
                "minreducedheight": 64,
                "minreducedwidth": 64,
                "modebar": {
                  "activecolor": "rgba(68, 68, 68, 0.7)",
                  "add": "",
                  "bgcolor": "rgba(255, 255, 255, 0.5)",
                  "color": "rgba(68, 68, 68, 0.3)",
                  "orientation": "h",
                  "remove": ""
                },
                "newselection": {
                  "line": {
                    "dash": "dot",
                    "width": 1
                  },
                  "mode": "immediate"
                },
                "newshape": {
                  "drawdirection": "diagonal",
                  "fillcolor": "rgba(0,0,0,0)",
                  "fillrule": "evenodd",
                  "label": {
                    "text": "",
                    "texttemplate": ""
                  },
                  "layer": "above",
                  "legend": "legend",
                  "legendgroup": "",
                  "legendgrouptitle": {
                    "font": {
                      "lineposition": "none",
                      "shadow": "none",
                      "style": "normal",
                      "textcase": "normal",
                      "variant": "normal",
                      "weight": "normal"
                    },
                    "text": ""
                  },
                  "legendrank": 1000,
                  "line": {
                    "color": "#444",
                    "dash": "solid",
                    "width": 4
                  },
                  "opacity": 1,
                  "showlegend": false,
                  "visible": true
                },
                "paper_bgcolor": "#fff",
                "scattermode": "overlay",
                "selections": [],
                "separators": ".,",
                "shapes": [],
                "showlegend": false,
                "sliders": [],
                "spikedistance": -1,
                "title": {
                  "automargin": false,
                  "font": {
                    "color": "#444",
                    "family": "\"Open Sans\", verdana, arial, sans-serif",
                    "lineposition": "none",
                    "shadow": "none",
                    "size": 17,
                    "style": "normal",
                    "textcase": "normal",
                    "variant": "normal",
                    "weight": "normal"
                  },
                  "pad": {
                    "b": 0,
                    "l": 0,
                    "r": 0,
                    "t": 0
                  },
                  "subtitle": {
                    "font": {
                      "color": "#444",
                      "family": "\"Open Sans\", verdana, arial, sans-serif",
                      "lineposition": "none",
                      "shadow": "none",
                      "size": 12,
                      "style": "normal",
                      "textcase": "normal",
                      "variant": "normal",
                      "weight": "normal"
                    },
                    "text": "Click to enter Plot subtitle"
                  },
                  "text": "Click to enter Plot title",
                  "x": 0.5,
                  "xanchor": "auto",
                  "xref": "container",
                  "y": "auto",
                  "yanchor": "auto",
                  "yref": "container"
                },
                "uniformtext": {
                  "mode": false
                },
                "updatemenus": [],
                "width": 1013.18
              },
              "layout_edit_id": 9
            },
            "_js2py_pointsCallback": {},
            "_js2py_relayout": {
              "relayout_data": {
                "autosize": true
              },
              "source_view_id": "957cd7"
            },
            "_js2py_restyle": {},
            "_js2py_traceDeltas": null,
            "_js2py_update": {},
            "_last_layout_edit_id": 9,
            "_last_trace_edit_id": 5,
            "_layout": {},
            "_model_module": "jupyterlab-plotly",
            "_model_module_version": "^5.24.1",
            "_model_name": "FigureModel",
            "_py2js_addTraces": {},
            "_py2js_animate": {},
            "_py2js_deleteTraces": {},
            "_py2js_moveTraces": {},
            "_py2js_relayout": null,
            "_py2js_removeLayoutProps": null,
            "_py2js_removeTraceProps": {},
            "_py2js_restyle": {},
            "_py2js_update": null,
            "_view_count": 4,
            "_view_module": "jupyterlab-plotly",
            "_view_module_version": "^5.24.1",
            "_view_name": "FigureView"
          }
        },
        "346ab80bddd54b25aa87f2fca4de2110": {
          "model_module": "jupyterlab-plotly",
          "model_module_version": "^5.24.1",
          "model_name": "FigureModel",
          "state": {
            "_config": {
              "plotlyServerURL": "https://plot.ly"
            },
            "_data": [
              {
                "cells": {
                  "align": "left",
                  "values": [
                    [
                      ""
                    ],
                    [
                      ""
                    ]
                  ]
                },
                "header": {
                  "values": [
                    "現貨統計時間",
                    "現貨價格"
                  ]
                },
                "type": "table",
                "uid": "0cbab8a8-2708-43da-b5e6-a53cfa2f09a7"
              }
            ],
            "_dom_classes": [],
            "_js2py_layoutDelta": null,
            "_js2py_pointsCallback": {},
            "_js2py_relayout": null,
            "_js2py_restyle": {},
            "_js2py_traceDeltas": null,
            "_js2py_update": {},
            "_last_layout_edit_id": 9,
            "_last_trace_edit_id": 6,
            "_layout": {},
            "_model_module": "jupyterlab-plotly",
            "_model_module_version": "^5.24.1",
            "_model_name": "FigureModel",
            "_py2js_addTraces": {},
            "_py2js_animate": {},
            "_py2js_deleteTraces": {},
            "_py2js_moveTraces": {},
            "_py2js_relayout": null,
            "_py2js_removeLayoutProps": null,
            "_py2js_removeTraceProps": {},
            "_py2js_restyle": {},
            "_py2js_update": null,
            "_view_count": 4,
            "_view_module": "jupyterlab-plotly",
            "_view_module_version": "^5.24.1",
            "_view_name": "FigureView"
          }
        },
        "522dc53ecd144d77b601a94d069b3118": {
          "model_module": "jupyterlab-plotly",
          "model_module_version": "^5.24.1",
          "model_name": "FigureModel",
          "state": {
            "_config": {
              "plotlyServerURL": "https://plot.ly"
            },
            "_data": [
              {
                "cells": {
                  "align": "left",
                  "values": [
                    [
                      ""
                    ],
                    [
                      ""
                    ],
                    [
                      ""
                    ],
                    [
                      ""
                    ],
                    [
                      ""
                    ],
                    [
                      ""
                    ],
                    [
                      ""
                    ],
                    [
                      ""
                    ],
                    [
                      ""
                    ],
                    [
                      ""
                    ],
                    [
                      ""
                    ],
                    [
                      ""
                    ],
                    [
                      ""
                    ],
                    [
                      ""
                    ],
                    [
                      ""
                    ],
                    [
                      ""
                    ],
                    [
                      ""
                    ],
                    [
                      ""
                    ],
                    [
                      ""
                    ],
                    [
                      ""
                    ]
                  ]
                },
                "header": {
                  "values": [
                    "買價1",
                    "買量1",
                    "買價2",
                    "買量2",
                    "買價3",
                    "買量3",
                    "買價4",
                    "買量4",
                    "買價5",
                    "買量5",
                    "賣價1",
                    "賣量1",
                    "賣價2",
                    "賣量2",
                    "賣價3",
                    "賣量3",
                    "賣價4",
                    "賣量4",
                    "賣價5",
                    "賣量5"
                  ]
                },
                "type": "table",
                "uid": "01e9692c-cbee-482e-bbf5-550918ee98a4"
              }
            ],
            "_dom_classes": [],
            "_js2py_layoutDelta": null,
            "_js2py_pointsCallback": {},
            "_js2py_relayout": null,
            "_js2py_restyle": {},
            "_js2py_traceDeltas": null,
            "_js2py_update": {},
            "_last_layout_edit_id": 100,
            "_last_trace_edit_id": 99,
            "_layout": {},
            "_model_module": "jupyterlab-plotly",
            "_model_module_version": "^5.24.1",
            "_model_name": "FigureModel",
            "_py2js_addTraces": {},
            "_py2js_animate": {},
            "_py2js_deleteTraces": {},
            "_py2js_moveTraces": {},
            "_py2js_relayout": null,
            "_py2js_removeLayoutProps": null,
            "_py2js_removeTraceProps": {},
            "_py2js_restyle": {},
            "_py2js_update": null,
            "_view_count": 1,
            "_view_module": "jupyterlab-plotly",
            "_view_module_version": "^5.24.1",
            "_view_name": "FigureView"
          }
        },
        "61028940783b4d44a6f3909964084d48": {
          "model_module": "jupyterlab-plotly",
          "model_module_version": "^5.24.1",
          "model_name": "FigureModel",
          "state": {
            "_config": {
              "plotlyServerURL": "https://plot.ly"
            },
            "_data": [
              {
                "cells": {
                  "align": "left",
                  "values": [
                    [
                      ""
                    ],
                    [
                      ""
                    ],
                    [
                      ""
                    ]
                  ]
                },
                "header": {
                  "values": [
                    "成交時間",
                    "成交價",
                    "成交量"
                  ]
                },
                "type": "table",
                "uid": "355b2a10-ee5a-495c-a002-78ac86ad5007"
              }
            ],
            "_dom_classes": [],
            "_js2py_layoutDelta": null,
            "_js2py_pointsCallback": {},
            "_js2py_relayout": null,
            "_js2py_restyle": {},
            "_js2py_traceDeltas": null,
            "_js2py_update": {},
            "_last_layout_edit_id": 36,
            "_last_trace_edit_id": 35,
            "_layout": {},
            "_model_module": "jupyterlab-plotly",
            "_model_module_version": "^5.24.1",
            "_model_name": "FigureModel",
            "_py2js_addTraces": {},
            "_py2js_animate": {},
            "_py2js_deleteTraces": {},
            "_py2js_moveTraces": {},
            "_py2js_relayout": null,
            "_py2js_removeLayoutProps": null,
            "_py2js_removeTraceProps": {},
            "_py2js_restyle": {},
            "_py2js_update": null,
            "_view_count": 1,
            "_view_module": "jupyterlab-plotly",
            "_view_module_version": "^5.24.1",
            "_view_name": "FigureView"
          }
        },
        "9baa01ba34b442e4b67745286124a9d6": {
          "model_module": "jupyterlab-plotly",
          "model_module_version": "^5.24.1",
          "model_name": "FigureModel",
          "state": {
            "_config": {
              "plotlyServerURL": "https://plot.ly"
            },
            "_data": [
              {
                "cells": {
                  "align": "left",
                  "values": [
                    [
                      ""
                    ],
                    [
                      ""
                    ],
                    [
                      ""
                    ],
                    [
                      ""
                    ],
                    [
                      ""
                    ],
                    [
                      ""
                    ]
                  ]
                },
                "header": {
                  "values": [
                    "開盤時間",
                    "開盤價",
                    "開盤量",
                    "最高低價時間",
                    "最高",
                    "最低"
                  ]
                },
                "type": "table",
                "uid": "aac6b239-6297-424a-b2dd-087c56d09ea4"
              }
            ],
            "_dom_classes": [],
            "_js2py_layoutDelta": null,
            "_js2py_pointsCallback": {},
            "_js2py_relayout": null,
            "_js2py_restyle": {},
            "_js2py_traceDeltas": null,
            "_js2py_update": {},
            "_last_layout_edit_id": 7,
            "_last_trace_edit_id": 3,
            "_layout": {},
            "_model_module": "jupyterlab-plotly",
            "_model_module_version": "^5.24.1",
            "_model_name": "FigureModel",
            "_py2js_addTraces": {},
            "_py2js_animate": {},
            "_py2js_deleteTraces": {},
            "_py2js_moveTraces": {},
            "_py2js_relayout": null,
            "_py2js_removeLayoutProps": null,
            "_py2js_removeTraceProps": {},
            "_py2js_restyle": {},
            "_py2js_update": null,
            "_view_count": 4,
            "_view_module": "jupyterlab-plotly",
            "_view_module_version": "^5.24.1",
            "_view_name": "FigureView"
          }
        }
      }
    }
  },
  "nbformat": 4,
  "nbformat_minor": 0
}
