{
  "cells": [
    {
      "cell_type": "markdown",
      "metadata": {
        "id": "view-in-github",
        "colab_type": "text"
      },
      "source": [
        "<a href=\"https://colab.research.google.com/github/PFCEC/unitrade/blob/main/%E6%95%99%E5%AD%B8/sample/%E5%A4%96%E6%9C%9F%E5%A7%94%E8%A8%97%E7%AF%84%E4%BE%8B.ipynb\" target=\"_parent\"><img src=\"https://colab.research.google.com/assets/colab-badge.svg\" alt=\"Open In Colab\"/></a>"
      ]
    },
    {
      "cell_type": "markdown",
      "metadata": {
        "id": "HImbuf--E6qi"
      },
      "source": [
        "<div class=\"markdown-google-sans\">\n",
        "\n",
        "# <strong>事先準備</strong>\n",
        "</div>"
      ]
    },
    {
      "cell_type": "markdown",
      "metadata": {
        "id": "u3RO0BeThqIg"
      },
      "source": [
        "<div class=\"markdown-google-sans\">\n",
        "\n",
        "## <strong>安裝pandas</strong>\n",
        "</div>\n",
        "範例會使用pandas表格呈現,請先安裝pandas<br/>\n"
      ]
    },
    {
      "cell_type": "code",
      "execution_count": null,
      "metadata": {
        "id": "vGjcJZ1hhqIi",
        "scrolled": true
      },
      "outputs": [],
      "source": [
        "!pip install pandas"
      ]
    },
    {
      "cell_type": "markdown",
      "metadata": {
        "id": "5gq-JxR0A_XM"
      },
      "source": [
        "<div class=\"markdown-google-sans\">\n",
        "\n",
        "## <strong>範例欄位設定</strong>\n",
        "</div>\n",
        "定義顯示欄位<br/>"
      ]
    },
    {
      "cell_type": "code",
      "execution_count": null,
      "metadata": {
        "id": "RUCo_8pA7W6n"
      },
      "outputs": [],
      "source": [
        "from typing import List\n",
        "#匯入顯示資料套件\n",
        "import pandas as pd\n",
        "from IPython.display import display,clear_output\n",
        "pd.set_option('display.max_columns', None)\n",
        "pd.set_option('display.max_rows', None)\n",
        "pd.set_option('display.width', None)\n",
        "from IPython.display import display, clear_output\n",
        "##初始資料\n",
        "reply_data = [ ['','','','','','','','','','','','','','','','','','','','','','','','','','','','','','']]\n",
        "reply_dd = pd.DataFrame(reply_data)\n",
        "reply_dd.columns=['分公司','帳號','網路流水序號','委託時間','委託書號','子帳',\n",
        "            '商品類別','交易所','商品代碼','年月','CP','履約價','商品代碼2','年月2','CP2','履約價2','買賣別','價格別','委託價格','委託數量','未成交數量',\n",
        "            '成交數量','刪除數量','下單方式','開倉別','異動時間','委託狀態','委託狀態碼','下單序號','pricebase']\n",
        "match_data = [ ['','','','','','','','','','','','','','','','','','','','','','','','','']]\n",
        "match_dd = pd.DataFrame(match_data)\n",
        "match_dd.columns=['分公司','帳號','網路流水序號','成交時間','委託書號','子帳',\n",
        "            '商品類別','交易所','商品代碼','年月','CP','履約價','商品代碼2','年月2','CP2','履約價2','買賣別','成交價格','成交口數','成交序號',\n",
        "            '成交價1','成交價2','備註','異動時間','pricebase']\n"
      ]
    },
    {
      "cell_type": "markdown",
      "metadata": {
        "id": "-4s0qdl--EST"
      },
      "source": [
        "<div class=\"markdown-google-sans\">\n",
        "\n",
        "## <strong>安裝unitrade</strong>\n",
        "</div>"
      ]
    },
    {
      "cell_type": "code",
      "execution_count": null,
      "metadata": {
        "id": "pA-GQgr7iIod"
      },
      "outputs": [],
      "source": [
        "!pip install unitrade-1.0.0.1-cp310-cp310-manylinux_2_17_x86_64.manylinux2014_x86_64.manylinux_2_28_x86_64.whl"
      ]
    },
    {
      "cell_type": "markdown",
      "metadata": {
        "id": "eeUwPGjahqIj"
      },
      "source": [
        "<div class=\"markdown-google-sans\">\n",
        "\n",
        "# <strong>初始化</strong>\n",
        "</div>"
      ]
    },
    {
      "cell_type": "code",
      "execution_count": null,
      "metadata": {
        "id": "yZxDgooGhqIj"
      },
      "outputs": [],
      "source": [
        "##API初始&登入\n",
        "import unitrade\n",
        "from unitrade.unitrade import *\n",
        "#初始API\n",
        "api = Unitrade()"
      ]
    },
    {
      "cell_type": "markdown",
      "metadata": {
        "id": "r1jl1-yE-Yb9"
      },
      "source": [
        "<div class=\"markdown-google-sans\">\n",
        "\n",
        "# <strong>登入api</strong>\n",
        "</div>"
      ]
    },
    {
      "cell_type": "code",
      "execution_count": null,
      "metadata": {
        "id": "Yxbg275XhqIk"
      },
      "outputs": [],
      "source": [
        "#錯誤事件處理\n",
        "api.on_error = lambda error: print(f'api錯誤 {error}')\n",
        "#系統登入\n",
        "loginresponse = api.login(\n",
        "    \"url\", \"帳號\", \"密碼\", '憑證檔名', '憑證密碼')#url,帳號,密碼,憑證檔名,憑證密碼\n",
        "\n",
        "actno = api.get_accounts()[0]#取得第一個交易帳號\n",
        "#顯示登入結果\n",
        "print(loginresponse)\n",
        "print(f\"登入旗標{api.login_status_flag}\")\n",
        "print(f\"交易帳號{actno}\")\n"
      ]
    },
    {
      "cell_type": "markdown",
      "metadata": {
        "id": "zs0rmbOBCu4f"
      },
      "source": [
        "<div class=\"markdown-google-sans\">\n",
        "\n",
        "# <strong>下單</strong>\n",
        "</div>"
      ]
    },
    {
      "cell_type": "markdown",
      "metadata": {
        "id": "sI7r5hH1CxhU"
      },
      "source": [
        "<div class=\"markdown-google-sans\">\n",
        "\n",
        "## <strong>訂閱回報接收</strong>\n",
        "</div>"
      ]
    },
    {
      "cell_type": "code",
      "execution_count": null,
      "metadata": {
        "colab": {
          "base_uri": "https://localhost:8080/"
        },
        "id": "ukOrf31OAJ_J",
        "outputId": "1311cebe-574a-452c-b325-3bd6c1e89faf"
      },
      "outputs": [
        {
          "name": "stdout",
          "output_type": "stream",
          "text": [
            "訂閱完畢\n"
          ]
        }
      ],
      "source": [
        "#訂閱回報接收範例\n",
        "def on_reply(orderreply: FOrderReply):\n",
        "    i=len(reply_dd)+1\n",
        "    reply_dd.loc[i, '分公司'] = orderreply.brokerid\n",
        "    reply_dd.loc[i, '帳號'] = orderreply.investoracno\n",
        "    reply_dd.loc[i, '網路流水序號'] = orderreply.networkid\n",
        "    reply_dd.loc[i, '委託時間'] = orderreply.ordertime\n",
        "    reply_dd.loc[i, '委託書號'] = orderreply.orderno\n",
        "    reply_dd.loc[i, '子帳'] = orderreply.subact\n",
        "    reply_dd.loc[i, '商品類別'] = orderreply.productkind\n",
        "    reply_dd.loc[i, '交易所'] = orderreply.exchange\n",
        "    reply_dd.loc[i, '商品代碼'] = orderreply.symbol\n",
        "    reply_dd.loc[i, '年月'] = orderreply.maturitymonthyear\n",
        "    reply_dd.loc[i, 'CP'] = orderreply.putorcall\n",
        "    reply_dd.loc[i, '履約價'] = orderreply.strikeprice\n",
        "    reply_dd.loc[i, '商品代碼2'] = orderreply.symbol2\n",
        "    reply_dd.loc[i, '年月2'] = orderreply.maturitymonthyear2\n",
        "    reply_dd.loc[i, 'CP2'] = orderreply.putorcall2\n",
        "    reply_dd.loc[i, '履約價2'] = orderreply.strikeprice2\n",
        "    reply_dd.loc[i, '買賣別'] = orderreply.bs\n",
        "    reply_dd.loc[i, '價格別'] = orderreply.ordertype\n",
        "    reply_dd.loc[i, '委託價格'] = orderreply.price\n",
        "    reply_dd.loc[i, '委託數量'] = orderreply.orderqty\n",
        "    reply_dd.loc[i, '未成交數量'] = orderreply.nomatchqty\n",
        "    reply_dd.loc[i, '成交數量'] = orderreply.matchqty\n",
        "    reply_dd.loc[i, '刪除數量'] = orderreply.delqty\n",
        "    reply_dd.loc[i, '下單方式'] = orderreply.ordercondition\n",
        "    reply_dd.loc[i, '開倉別'] = orderreply.opencloseflag\n",
        "    reply_dd.loc[i, '異動時間'] = orderreply.mdate\n",
        "    reply_dd.loc[i, '委託狀態'] = orderreply.orderstatus\n",
        "    reply_dd.loc[i, '委託狀態碼'] = orderreply.statuscode\n",
        "    reply_dd.loc[i, '開倉別'] = orderreply.opencloseflag\n",
        "    reply_dd.loc[i, '下單序號'] = orderreply.seq\n",
        "    reply_dd.loc[i, 'pricebase'] = orderreply.pricebase\n",
        "    clear_output(wait=True)\n",
        "    display(reply_dd)\n",
        "    display(match_dd)\n",
        "def on_match(matchreply: FMatchReply):\n",
        "    print(\"match\")\n",
        "    i=len(match_dd)+1\n",
        "\n",
        "    match_dd.loc[i, '分公司'] = matchreply.brokerid\n",
        "    match_dd.loc[i, '帳號'] = matchreply.investoracno\n",
        "    match_dd.loc[i, '網路流水序號'] = matchreply.networkid\n",
        "    match_dd.loc[i, '成交時間'] = matchreply.matchtime\n",
        "    match_dd.loc[i, '委託書號'] = matchreply.orderno\n",
        "    match_dd.loc[i, '子帳'] = matchreply.subact\n",
        "    match_dd.loc[i, '商品類別'] = matchreply.productkind\n",
        "    match_dd.loc[i, '交易所'] = matchreply.exchange\n",
        "    match_dd.loc[i, '商品代碼'] = matchreply.symbol\n",
        "    match_dd.loc[i, '年月'] = matchreply.maturitymonthyear\n",
        "    match_dd.loc[i, 'CP'] = matchreply.putorcall\n",
        "    match_dd.loc[i, '履約價'] = matchreply.strikeprice\n",
        "\n",
        "    match_dd.loc[i, '商品代碼2'] = matchreply.symbol2\n",
        "    match_dd.loc[i, '年月2'] = matchreply.maturitymonthyear2\n",
        "    match_dd.loc[i, 'CP2'] = matchreply.putorcall2\n",
        "    match_dd.loc[i, '履約價2'] = matchreply.strikeprice2\n",
        "\n",
        "    match_dd.loc[i, '買賣別'] = matchreply.bs\n",
        "    match_dd.loc[i, '成交價格'] = matchreply.matchprice\n",
        "    match_dd.loc[i, '成交口數'] = matchreply.matchqty\n",
        "    match_dd.loc[i, '成交序號'] = matchreply.matchseq\n",
        "    match_dd.loc[i, '備註'] = matchreply.note\n",
        "    match_dd.loc[i, '異動時間'] = matchreply.mdate\n",
        "    match_dd.loc[i, 'pricebase'] = matchreply.pricebase\n",
        "    clear_output(wait=True)\n",
        "    display(reply_dd)\n",
        "    display(match_dd)\n",
        "api.ftrade.on_reply=on_reply\n",
        "api.ftrade.on_match=on_match\n",
        "print('訂閱完畢')"
      ]
    },
    {
      "cell_type": "markdown",
      "metadata": {
        "id": "ldOKO1zGDJ7Z"
      },
      "source": [
        "<div class=\"markdown-google-sans\">\n",
        "\n",
        "## <strong>下單</strong>\n",
        "為了避免執行完下單,執行階段中斷,沒有顯示到回報,請在此sleep 等待一會兒\n",
        "</div>"
      ]
    },
    {
      "cell_type": "code",
      "execution_count": null,
      "metadata": {
        "id": "AYVyEPvOAJ_K"
      },
      "outputs": [],
      "source": [
        "order = FOrderObject()\n",
        "order.actno = actno#帳號\n",
        "order.note = \"ordertest\"#備註\n",
        "order.subactno = \"\"#子帳\n",
        "order.exchange = \"CME\"#交易所\n",
        "order.symbol= \"AD\"#商品\n",
        "order.maturitymonthyear = \"202412\"#年月\n",
        "order.putorcall=\"F\"#F:期貨 C:Call P:Put\n",
        "order.bs = \"B\"#買賣別B/S\n",
        "order.ordertype = \"M\"#L:限價 M:市價   3:停損市價 4:停損限價\n",
        "order.price = 0#委託價格\n",
        "order.stopprice=0#停損價格\n",
        "order.orderqty = 1#委託數量\n",
        "order.ordercondition = \"R\"##委託種類 I:IOC R:ROD F:FOK\n",
        "order.opencloseflag = \"0\"##開倉別 str 0:新倉 1:平倉 空白:自動\n",
        "order.dtrade=\"N\"## Y:當沖 N:非當沖\n",
        "orderresponse=api.ftrade.order(order)\n",
        "print(f\" 是否成功 {orderresponse.issend} 下單序號 {orderresponse.seq} 錯誤代碼 {orderresponse.errorcode} 錯誤訊息 {orderresponse.errormsg}\")\n",
        "time.sleep(5)"
      ]
    },
    {
      "cell_type": "markdown",
      "metadata": {
        "id": "lx_Ntk1bDTo3"
      },
      "source": [
        "<div class=\"markdown-google-sans\">\n",
        "\n",
        "## <strong>刪單</strong>\n",
        "為了避免執行完刪單,執行階段中斷,沒有顯示到回報,請在此sleep 等待一會兒\n",
        "</div>"
      ]
    },
    {
      "cell_type": "code",
      "execution_count": null,
      "metadata": {
        "id": "s9lXn1Y4AJ_K"
      },
      "outputs": [],
      "source": [
        "replace=FReplaceObject()\n",
        "replace.replacetype=\"4\"#4:取消, 5: 減量, m:改價\n",
        "replace.actno = actno#帳號\n",
        "replace.orderno=\"委託書號\"#委託書號\n",
        "replaceresponse=api.ftrade.replace_order(replace)\n",
        "print(f\" 是否成功 {replaceresponse.issend} 下單序號 {replaceresponse.seq} 錯誤代碼 {replaceresponse.errorcode} 錯誤訊息 {replaceresponse.errormsg}\")\n",
        "time.sleep(5)"
      ]
    },
    {
      "cell_type": "markdown",
      "metadata": {
        "id": "7Flito0sDe1I"
      },
      "source": [
        "<div class=\"markdown-google-sans\">\n",
        "\n",
        "## <strong>減量</strong>\n",
        "為了避免執行完減量,執行階段中斷,沒有顯示到回報,請在此sleep 等待一會兒\n",
        "</div>"
      ]
    },
    {
      "cell_type": "code",
      "execution_count": null,
      "metadata": {
        "id": "uR8Lzzq6AJ_K"
      },
      "outputs": [],
      "source": [
        "#減量\n",
        "replace=FReplaceObject()\n",
        "replace.replacetype=\"5\"#4:取消, 5: 減量, m:改價\n",
        "replace.actno = actno#帳號\n",
        "replace.orderno=\"\"#委託書號\n",
        "replace.orderqty = 1#委託數量\n",
        "replaceresponse=api.ftrade.replace_order(replace)\n",
        "print(f\" 是否成功 {replaceresponse.issend} 下單序號 {replaceresponse.seq} 錯誤代碼 {replaceresponse.errorcode} 錯誤訊息 {replaceresponse.errormsg}\")\n",
        "time.sleep(5)"
      ]
    },
    {
      "cell_type": "markdown",
      "metadata": {
        "id": "fE5pRL2nDnV0"
      },
      "source": [
        "<div class=\"markdown-google-sans\">\n",
        "\n",
        "## <strong>改價</strong>\n",
        "為了避免執行完改價,執行階段中斷,沒有顯示到回報,請在此sleep 等待一會兒\n",
        "</div>"
      ]
    },
    {
      "cell_type": "code",
      "execution_count": null,
      "metadata": {
        "id": "RHB5CY1TAJ_K"
      },
      "outputs": [],
      "source": [
        "replace=FReplaceObject()\n",
        "replace.replacetype=\"m\"#4:取消, 5: 減量, m:改價\n",
        "replace.actno = actno#帳號\n",
        "replace.orderno=\"\"#委託書號\n",
        "replace.ordertype=\"L\"#L:限價 M:市價   3:停損市價 4:停損限價\n",
        "replace.ordercondition=\"R\"##委託種類 I:IOC R:ROD F:FOK\n",
        "replace.price=22300#委託價格\n",
        "replaceresponse=api.ftrade.replace_order(replace)\n",
        "print(f\" 是否成功 {replaceresponse.issend} 下單序號 {replaceresponse.seq} 錯誤代碼 {replaceresponse.errorcode} 錯誤訊息 {replaceresponse.errormsg}\")\n",
        "time.sleep(5)"
      ]
    },
    {
      "cell_type": "markdown",
      "metadata": {
        "id": "LU0VXBo2DuAz"
      },
      "source": [
        "<div class=\"markdown-google-sans\">\n",
        "\n",
        "#<strong>回報查詢</strong>\n",
        "</div>"
      ]
    },
    {
      "cell_type": "markdown",
      "metadata": {
        "id": "P8eMA_ptDwDT"
      },
      "source": [
        "<div class=\"markdown-google-sans\">\n",
        "\n",
        "##<strong>委託回報查詢</strong>\n",
        "</div>"
      ]
    },
    {
      "cell_type": "code",
      "execution_count": null,
      "metadata": {
        "id": "ry8xZIqSAJ_L"
      },
      "outputs": [],
      "source": [
        "##委回查詢範例\n",
        "query_reply_response=api.ftrade.query_reply(actno,500,\"\",\"\",\"\",\"\")#帳號,筆數,網路流水序號起,,網路流水序號迄,委託時間起,委託時間迄\n",
        "if query_reply_response.ok == True:\n",
        "        i=0\n",
        "        for orderreply in query_reply_response.data:\n",
        "            reply_dd.loc[i, '分公司'] = orderreply.brokerid\n",
        "            reply_dd.loc[i, '帳號'] = orderreply.investoracno\n",
        "            reply_dd.loc[i, '網路流水序號'] = orderreply.networkid\n",
        "            reply_dd.loc[i, '委託時間'] = orderreply.ordertime\n",
        "            reply_dd.loc[i, '委託書號'] = orderreply.orderno\n",
        "            reply_dd.loc[i, '子帳'] = orderreply.subact\n",
        "            reply_dd.loc[i, '商品類別'] = orderreply.productkind\n",
        "            reply_dd.loc[i, '交易所'] = orderreply.exchange\n",
        "            reply_dd.loc[i, '商品代碼'] = orderreply.symbol\n",
        "            reply_dd.loc[i, '年月'] = orderreply.maturitymonthyear\n",
        "            reply_dd.loc[i, 'CP'] = orderreply.putorcall\n",
        "            reply_dd.loc[i, '履約價'] = orderreply.strikeprice\n",
        "            reply_dd.loc[i, '商品代碼2'] = orderreply.symbol2\n",
        "            reply_dd.loc[i, '年月2'] = orderreply.maturitymonthyear2\n",
        "            reply_dd.loc[i, 'CP2'] = orderreply.putorcall2\n",
        "            reply_dd.loc[i, '履約價2'] = orderreply.strikeprice2\n",
        "            reply_dd.loc[i, '買賣別'] = orderreply.bs\n",
        "            reply_dd.loc[i, '價格別'] = orderreply.ordertype\n",
        "            reply_dd.loc[i, '委託價格'] = orderreply.price\n",
        "            reply_dd.loc[i, '委託數量'] = orderreply.orderqty\n",
        "            reply_dd.loc[i, '未成交數量'] = orderreply.nomatchqty\n",
        "            reply_dd.loc[i, '成交數量'] = orderreply.matchqty\n",
        "            reply_dd.loc[i, '刪除數量'] = orderreply.delqty\n",
        "            reply_dd.loc[i, '下單方式'] = orderreply.ordercondition\n",
        "            reply_dd.loc[i, '開倉別'] = orderreply.opencloseflag\n",
        "            reply_dd.loc[i, '異動時間'] = orderreply.mdate\n",
        "            reply_dd.loc[i, '委託狀態'] = orderreply.orderstatus\n",
        "            reply_dd.loc[i, '委託狀態碼'] = orderreply.statuscode\n",
        "            reply_dd.loc[i, '開倉別'] = orderreply.opencloseflag\n",
        "            reply_dd.loc[i, '下單序號'] = orderreply.seq\n",
        "            reply_dd.loc[i, 'pricebase'] = orderreply.pricebase\n",
        "            i=i+1\n",
        "        clear_output(wait=True)\n",
        "        display(reply_dd)\n",
        "else:\n",
        "    print(query_reply_response.error)"
      ]
    },
    {
      "cell_type": "markdown",
      "metadata": {
        "id": "-wq0pw3KDzvo"
      },
      "source": [
        "<div class=\"markdown-google-sans\">\n",
        "\n",
        "##<strong>成交回報查詢</strong>\n",
        "</div>"
      ]
    },
    {
      "cell_type": "code",
      "execution_count": null,
      "metadata": {
        "id": "FwLsD6VnAJ_L"
      },
      "outputs": [],
      "source": [
        "##成回查詢範例\n",
        "query_match_response=api.ftrade.query_match(actno,500,\"\",\"\",\"\",\"\")#帳號,筆數,網路流水序號起,,網路流水序號迄,成交時間起,成交時間迄\n",
        "if query_match_response.ok == True:\n",
        "        i=0\n",
        "        for matchreply in query_match_response.data:\n",
        "            match_dd.loc[i, '分公司'] = matchreply.brokerid\n",
        "            match_dd.loc[i, '帳號'] = matchreply.investoracno\n",
        "            match_dd.loc[i, '網路流水序號'] = matchreply.networkid\n",
        "            match_dd.loc[i, '成交時間'] = matchreply.matchtime\n",
        "            match_dd.loc[i, '委託書號'] = matchreply.orderno\n",
        "            match_dd.loc[i, '子帳'] = matchreply.subact\n",
        "            match_dd.loc[i, '商品類別'] = matchreply.productkind\n",
        "            match_dd.loc[i, '交易所'] = matchreply.exchange\n",
        "            match_dd.loc[i, '商品代碼'] = matchreply.symbol\n",
        "            match_dd.loc[i, '年月'] = matchreply.maturitymonthyear\n",
        "            match_dd.loc[i, 'CP'] = matchreply.putorcall\n",
        "            match_dd.loc[i, '履約價'] = matchreply.strikeprice\n",
        "\n",
        "            match_dd.loc[i, '商品代碼2'] = matchreply.symbol2\n",
        "            match_dd.loc[i, '年月2'] = matchreply.maturitymonthyear2\n",
        "            match_dd.loc[i, 'CP2'] = matchreply.putorcall2\n",
        "            match_dd.loc[i, '履約價2'] = matchreply.strikeprice2\n",
        "\n",
        "            match_dd.loc[i, '買賣別'] = matchreply.bs\n",
        "            match_dd.loc[i, '成交價格'] = matchreply.matchprice\n",
        "            match_dd.loc[i, '成交口數'] = matchreply.matchqty\n",
        "            match_dd.loc[i, '成交序號'] = matchreply.matchseq\n",
        "            match_dd.loc[i, '備註'] = matchreply.note\n",
        "            match_dd.loc[i, '異動時間'] = matchreply.mdate\n",
        "            match_dd.loc[i, 'pricebase'] = matchreply.pricebase\n",
        "            i=i+1\n",
        "        clear_output(wait=True)\n",
        "        display(match_dd)\n",
        "else:\n",
        "    print(query_match_response.error)"
      ]
    },
    {
      "cell_type": "markdown",
      "metadata": {
        "id": "CTEKdZ9hD6DG"
      },
      "source": [
        "<div class=\"markdown-google-sans\">\n",
        "\n",
        "# <strong>*系統登出*</strong>\n",
        "</div>\n"
      ]
    },
    {
      "cell_type": "code",
      "execution_count": null,
      "metadata": {
        "colab": {
          "base_uri": "https://localhost:8080/"
        },
        "id": "kemJ84NnAJ_L",
        "outputId": "48a6ee80-9099-493d-e5be-50ddb4364dcf",
        "scrolled": true
      },
      "outputs": [
        {
          "name": "stdout",
          "output_type": "stream",
          "text": [
            "登出完畢\n",
            "登入旗標False\n"
          ]
        }
      ],
      "source": [
        "#系統登出\n",
        "api.logout()\n",
        "print('登出完畢')\n",
        "print(f\"登入旗標{api.login_status_flag}\")\n"
      ]
    }
  ],
  "metadata": {
    "colab": {
      "collapsed_sections": [
        "5gq-JxR0A_XM"
      ],
      "provenance": [],
      "include_colab_link": true
    },
    "kernelspec": {
      "display_name": "venv",
      "language": "python",
      "name": "python3"
    },
    "language_info": {
      "codemirror_mode": {
        "name": "ipython",
        "version": 3
      },
      "file_extension": ".py",
      "mimetype": "text/x-python",
      "name": "python",
      "nbconvert_exporter": "python",
      "pygments_lexer": "ipython3",
      "version": "3.12.7"
    }
  },
  "nbformat": 4,
  "nbformat_minor": 0
}