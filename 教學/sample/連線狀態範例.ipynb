{
  "cells": [
    {
      "cell_type": "markdown",
      "metadata": {
        "colab_type": "text",
        "id": "view-in-github"
      },
      "source": [
        "<a href=\"https://colab.research.google.com/github/PFCEC/unitrade/blob/main/%E6%95%99%E5%AD%B8/sample/%E9%80%A3%E7%B7%9A%E7%8B%80%E6%85%8B%E7%AF%84%E4%BE%8B.ipynb\" target=\"_parent\"><img src=\"https://colab.research.google.com/assets/colab-badge.svg\" alt=\"Open In Colab\"/></a>"
      ]
    },
    {
      "cell_type": "markdown",
      "metadata": {
        "id": "HImbuf--E6qi"
      },
      "source": [
        "<div class=\"markdown-google-sans\">\n",
        "\n",
        "# <strong>事先準備</strong>\n",
        "</div>"
      ]
    },
    {
      "cell_type": "markdown",
      "metadata": {
        "id": "u3RO0BeThqIg"
      },
      "source": [
        "<div class=\"markdown-google-sans\">\n",
        "\n",
        "## <strong>安裝pandas</strong>\n",
        "</div>\n",
        "範例會使用pandas表格呈現,請先安裝pandas<br/>\n"
      ]
    },
    {
      "cell_type": "code",
      "execution_count": null,
      "metadata": {
        "id": "vGjcJZ1hhqIi",
        "scrolled": true
      },
      "outputs": [],
      "source": [
        "!pip install pandas"
      ]
    },
    {
      "cell_type": "markdown",
      "metadata": {
        "id": "2Mpw34aDKlmr"
      },
      "source": [
        "<div class=\"markdown-google-sans\">\n",
        "\n",
        "## <strong>範例欄位設定</strong>\n",
        "</div>\n",
        "定義顯示欄位<br/>"
      ]
    },
    {
      "cell_type": "code",
      "execution_count": null,
      "metadata": {
        "id": "fIht8njLKimp"
      },
      "outputs": [],
      "source": [
        "from typing import List\n",
        "#匯入顯示資料套件\n",
        "import pandas as pd\n",
        "from IPython.display import display,clear_output\n",
        "pd.set_option('display.max_columns', None)\n",
        "pd.set_option('display.max_rows', None)\n",
        "pd.set_option('display.width', None)\n",
        "from IPython.display import display, clear_output\n",
        "init_notebook_mode(connected=True)\n",
        "data = [['','','','','','' ]]\n",
        "dd = pd.DataFrame(data)\n",
        "dd.columns=['內期報價連線', '外期報價連線','內期交易連線', '外期交易連線','內期帳務連線', '外期帳務連線']"
      ]
    },
    {
      "cell_type": "markdown",
      "metadata": {
        "id": "-4s0qdl--EST"
      },
      "source": [
        "<div class=\"markdown-google-sans\">\n",
        "\n",
        "## <strong>安裝unitrade</strong>\n",
        "</div>"
      ]
    },
    {
      "cell_type": "code",
      "execution_count": null,
      "metadata": {
        "id": "pA-GQgr7iIod"
      },
      "outputs": [],
      "source": [
        "!pip install unitrade"
      ]
    },
    {
      "cell_type": "markdown",
      "metadata": {
        "id": "eeUwPGjahqIj"
      },
      "source": [
        "<div class=\"markdown-google-sans\">\n",
        "\n",
        "# <strong>初始化</strong>\n",
        "</div>"
      ]
    },
    {
      "cell_type": "code",
      "execution_count": null,
      "metadata": {
        "id": "yZxDgooGhqIj"
      },
      "outputs": [],
      "source": [
        "##API初始&登入\n",
        "import unitrade\n",
        "from unitrade.unitrade import *\n",
        "#初始API\n",
        "api = Unitrade()"
      ]
    },
    {
      "cell_type": "markdown",
      "metadata": {
        "id": "rXg5JNS4wH-e"
      },
      "source": [
        "<div class=\"markdown-google-sans\">\n",
        "\n",
        "# <strong>註冊連線事件</strong>\n",
        "</div>"
      ]
    },
    {
      "cell_type": "code",
      "execution_count": null,
      "metadata": {
        "id": "g1aBlavmU_7u"
      },
      "outputs": [],
      "source": [
        "def api_dquote_on_connected():\n",
        "    serverip,port =api.dquote.get_current_server()\n",
        "    dd.loc[0, '內期報價連線'] =f\"{serverip} {port} 已連線\"\n",
        "def api_fquote_on_connected():\n",
        "    serverip,port =api.fquote.get_current_server()\n",
        "    dd.loc[0, '外期報價連線'] =f\"{serverip} {port} 已連線\"\n",
        "def api_dtrade_on_connected():\n",
        "    serverip,port =api.dtrade.get_current_server()\n",
        "    dd.loc[0, '內期交易連線'] =f\"{serverip} {port} 已連線\"\n",
        "def api_ftrade_on_connected():\n",
        "    serverip,port =api.ftrade.get_current_server()\n",
        "    dd.loc[0, '外期交易連線'] =f\"{serverip} {port} 已連線\"\n",
        "def api_daccount_on_connected():\n",
        "    url =api.daccount.get_current_server()\n",
        "    dd.loc[0, '內期帳務連線'] =f\"{url} 已連線\"\n",
        "def api_faccount_on_connected():\n",
        "    url =api.faccount.get_current_server()\n",
        "    dd.loc[0, '外期帳務連線'] =f\"{url} 已連線\"\n",
        "def api_dquote_on_disonnected():\n",
        "    serverip,port =api.dquote.get_current_server()\n",
        "    dd.loc[0, '內期報價連線'] =f\"{serverip} {port} 斷線\"\n",
        "def api_fquote_on_disonnected():\n",
        "    serverip,port =api.fquote.get_current_server()\n",
        "    dd.loc[0, '外期報價連線'] =f\"{serverip} {port} 斷線\"\n",
        "def api_dtrade_on_disonnected():\n",
        "    serverip,port =api.dtrade.get_current_server()\n",
        "    dd.loc[0, '內期交易連線'] =f\"{serverip} {port} 斷線\"\n",
        "def api_ftrade_on_disonnected():\n",
        "    serverip,port =api.ftrade.get_current_server()\n",
        "    dd.loc[0, '外期交易連線'] =f\"{serverip} {port} 斷線\"\n",
        "def api_daccount_on_disonnected():\n",
        "    url =api.daccount.get_current_server()\n",
        "    dd.loc[0, '外期交易連線'] =f\"{url} 斷線\"\n",
        "def api_faccount_on_disonnected():\n",
        "    url =api.daccount.get_current_server()\n",
        "    dd.loc[0, '外期帳務連線'] =f\"{url} 斷線\"\n",
        "api.dquote.on_connected=api_dquote_on_connected\n",
        "api.fquote.on_connected=api_fquote_on_connected\n",
        "api.dtrade.on_connected=api_dtrade_on_connected\n",
        "api.ftrade.on_connected=api_ftrade_on_connected\n",
        "api.daccount.on_connected=api_daccount_on_connected\n",
        "api.faccount.on_connected=api_faccount_on_connected\n",
        "api.dquote.on_disonnected=api_dquote_on_disonnected\n",
        "api.fquote.on_disonnected=api_fquote_on_disonnected\n",
        "api.dtrade.on_disonnected=api_dtrade_on_disonnected\n",
        "api.ftrade.on_disonnected=api_ftrade_on_disonnected\n",
        "api.daccount.on_disonnected=api_daccount_on_disonnected"
      ]
    },
    {
      "cell_type": "markdown",
      "metadata": {
        "id": "r1jl1-yE-Yb9"
      },
      "source": [
        "<div class=\"markdown-google-sans\">\n",
        "\n",
        "# <strong>登入api</strong>\n",
        "</div>\n",
        "為了避免執行完,執行階段中斷,沒有顯示到連線狀態,請在此sleep 等待一會兒"
      ]
    },
    {
      "cell_type": "code",
      "execution_count": null,
      "metadata": {
        "id": "OLNi2mdSR53A"
      },
      "outputs": [],
      "source": [
        "#錯誤事件處理\n",
        "api.on_error = lambda error: print(f'api錯誤 {error}')\n",
        "#系統登入\n",
        "loginresponse = api.login(\n",
        "    \"url\", \"帳號\", \"密碼\", '憑證檔名', '憑證密碼')#url,帳號,密碼,憑證檔名,憑證密碼\n",
        "actno = api.get_accounts()[0]#取得第一個交易帳號\n",
        "#顯示登入結果\n",
        "print(loginresponse)\n",
        "print(f\"登入旗標{api.login_status_flag}\")\n",
        "print(f\"交易帳號{actno}\")\n",
        "time.sleep(5)"
      ]
    },
    {
      "cell_type": "markdown",
      "metadata": {
        "id": "p9Cqbb75weuc"
      },
      "source": [
        "<div class=\"markdown-google-sans\">\n",
        "\n",
        "# <strong>取得內期報價連線</strong>\n",
        "</div>"
      ]
    },
    {
      "cell_type": "code",
      "execution_count": null,
      "metadata": {
        "id": "EgdmZWLrRJmy"
      },
      "outputs": [],
      "source": [
        "print(api.dquote.get_server_list())"
      ]
    },
    {
      "cell_type": "markdown",
      "metadata": {
        "id": "blK3O1xSworF"
      },
      "source": [
        "<div class=\"markdown-google-sans\">\n",
        "\n",
        "# <strong>切換內期報價連線</strong>\n",
        "</div>\n",
        "為了避免執行完,執行階段中斷,沒有顯示到連線狀態,請在此sleep 等待一會兒"
      ]
    },
    {
      "cell_type": "code",
      "execution_count": null,
      "metadata": {
        "id": "pFVGjYyPRJmy"
      },
      "outputs": [],
      "source": [
        "api.dquote.set_sever_by_name(\"217\")\n",
        "display(dd)\n",
        "time.sleep(5)"
      ]
    },
    {
      "cell_type": "markdown",
      "metadata": {
        "id": "VgTKrZrJwvWA"
      },
      "source": [
        "<div class=\"markdown-google-sans\">\n",
        "\n",
        "# <strong>取得外期報價連線</strong>\n",
        "</div>"
      ]
    },
    {
      "cell_type": "code",
      "execution_count": null,
      "metadata": {
        "id": "ar5xkVpBRJmy"
      },
      "outputs": [],
      "source": [
        "print(api.fquote.get_server_list())"
      ]
    },
    {
      "cell_type": "markdown",
      "metadata": {
        "id": "G6DZFpJRw0Ly"
      },
      "source": [
        "<div class=\"markdown-google-sans\">\n",
        "\n",
        "# <strong>切換外期報價連線</strong>\n",
        "</div>\n",
        "為了避免執行完,執行階段中斷,沒有顯示到連線狀態,請在此sleep 等待一會兒"
      ]
    },
    {
      "cell_type": "code",
      "execution_count": null,
      "metadata": {
        "id": "NmorR0TXRJmy"
      },
      "outputs": [],
      "source": [
        "api.fquote.set_sever_by_name(\"217\")\n",
        "display(dd)\n",
        "time.sleep(5)"
      ]
    },
    {
      "cell_type": "markdown",
      "metadata": {
        "id": "RhuiB68Tw5hi"
      },
      "source": [
        "<div class=\"markdown-google-sans\">\n",
        "\n",
        "# <strong>取得內期交易連線</strong>\n",
        "</div>"
      ]
    },
    {
      "cell_type": "code",
      "execution_count": null,
      "metadata": {
        "id": "PDoi7enSRJmz"
      },
      "outputs": [],
      "source": [
        "print(api.dtrade.get_server_list())"
      ]
    },
    {
      "cell_type": "markdown",
      "metadata": {
        "id": "sdy5xE4ww_sg"
      },
      "source": [
        "<div class=\"markdown-google-sans\">\n",
        "\n",
        "# <strong>切換內期交易連線</strong>\n",
        "</div>\n",
        "為了避免執行完,執行階段中斷,沒有顯示到連線狀態,請在此sleep 等待一會兒"
      ]
    },
    {
      "cell_type": "code",
      "execution_count": null,
      "metadata": {
        "id": "vAxsFVUQRJmz"
      },
      "outputs": [],
      "source": [
        "api.dtrade.set_sever_by_name(\"99167\")\n",
        "display(dd)\n",
        "time.sleep(5)"
      ]
    },
    {
      "cell_type": "markdown",
      "metadata": {
        "id": "luCNMHK8xGpW"
      },
      "source": [
        "<div class=\"markdown-google-sans\">\n",
        "\n",
        "# <strong>取得外期交易連線</strong>\n",
        "</div>"
      ]
    },
    {
      "cell_type": "code",
      "execution_count": null,
      "metadata": {
        "id": "GKtl94mtRJmz"
      },
      "outputs": [],
      "source": [
        "print(api.ftrade.get_server_list())"
      ]
    },
    {
      "cell_type": "markdown",
      "metadata": {
        "id": "u6gu1C0hxKlw"
      },
      "source": [
        "<div class=\"markdown-google-sans\">\n",
        "\n",
        "# <strong>切換外期交易連線</strong>\n",
        "</div>\n",
        "為了避免執行完,執行階段中斷,沒有顯示到連線狀態,請在此sleep 等待一會兒"
      ]
    },
    {
      "cell_type": "code",
      "execution_count": null,
      "metadata": {
        "id": "oLEmyBRJRJmz"
      },
      "outputs": [],
      "source": [
        "api.ftrade.set_sever_by_name(\"141\")\n",
        "display(dd)\n",
        "time.sleep(5)"
      ]
    },
    {
      "cell_type": "markdown",
      "metadata": {
        "id": "ErXoAIk0Rdog"
      },
      "source": [
        "<div class=\"markdown-google-sans\">\n",
        "\n",
        "# <strong>*系統登出*</strong>\n",
        "</div>\n"
      ]
    },
    {
      "cell_type": "code",
      "execution_count": null,
      "metadata": {
        "id": "-cRK1ygpRJm0",
        "scrolled": true
      },
      "outputs": [],
      "source": [
        "#系統登出\n",
        "api.logout()\n",
        "print('登出完畢')\n",
        "print(f\"登入旗標{api.login_status_flag}\")\n"
      ]
    }
  ],
  "metadata": {
    "colab": {
      "include_colab_link": true,
      "provenance": [],
      "toc_visible": true
    },
    "kernelspec": {
      "display_name": "venv",
      "language": "python",
      "name": "python3"
    },
    "language_info": {
      "codemirror_mode": {
        "name": "ipython",
        "version": 3
      },
      "file_extension": ".py",
      "mimetype": "text/x-python",
      "name": "python",
      "nbconvert_exporter": "python",
      "pygments_lexer": "ipython3",
      "version": "3.12.7"
    }
  },
  "nbformat": 4,
  "nbformat_minor": 0
}
