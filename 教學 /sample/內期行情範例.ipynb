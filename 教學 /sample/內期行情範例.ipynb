{
  "cells": [
    {
      "cell_type": "markdown",
      "metadata": {
        "id": "view-in-github",
        "colab_type": "text"
      },
      "source": [
        "<a href=\"https://colab.research.google.com/github/PFCEC/unitrade/blob/main/%E6%95%99%E5%AD%B8%20/sample/%E5%85%A7%E6%9C%9F%E8%A1%8C%E6%83%85%E7%AF%84%E4%BE%8B.ipynb\" target=\"_parent\"><img src=\"https://colab.research.google.com/assets/colab-badge.svg\" alt=\"Open In Colab\"/></a>"
      ]
    },
    {
      "cell_type": "markdown",
      "metadata": {
        "id": "HImbuf--E6qi"
      },
      "source": [
        "<div class=\"markdown-google-sans\">\n",
        "\n",
        "# <strong>事先準備</strong>\n",
        "</div>"
      ]
    },
    {
      "cell_type": "markdown",
      "metadata": {
        "id": "u3RO0BeThqIg"
      },
      "source": [
        "<div class=\"markdown-google-sans\">\n",
        "\n",
        "## <strong>安裝plotly</strong>\n",
        "</div>\n",
        "範例會使用plotly表格呈現,請先安裝plotly<br/>\n"
      ]
    },
    {
      "cell_type": "code",
      "execution_count": null,
      "metadata": {
        "id": "vGjcJZ1hhqIi",
        "scrolled": true
      },
      "outputs": [],
      "source": [
        "!pip install plotly"
      ]
    },
    {
      "cell_type": "markdown",
      "metadata": {
        "id": "wNRM9Ak4Kqcy"
      },
      "source": [
        "<div class=\"markdown-google-sans\">\n",
        "\n",
        "## <strong>載入plotly和設定渲染器</strong>\n",
        "</div>\n",
        "並且為了colab可以瀏覽,請透過以下指令設定"
      ]
    },
    {
      "cell_type": "code",
      "execution_count": null,
      "metadata": {
        "id": "Pa9JbL-OKvLc"
      },
      "outputs": [],
      "source": [
        "#匯入顯示表格套件\n",
        "import plotly.graph_objs as go\n",
        "from plotly.offline import init_notebook_mode\n",
        "import plotly.io as pio\n",
        "pio.renderers.default = 'colab'  # 或嘗試 'notebook' 或 'iframe' 渲染器\n",
        "from google.colab import output\n",
        "output.enable_custom_widget_manager()\n",
        "init_notebook_mode(connected=True)\n",
        "\n"
      ]
    },
    {
      "cell_type": "markdown",
      "metadata": {
        "id": "5gq-JxR0A_XM"
      },
      "source": [
        "<div class=\"markdown-google-sans\">\n",
        "\n",
        "## <strong>範例欄位設定</strong>\n",
        "</div>\n",
        "定義顯示欄位<br/>"
      ]
    },
    {
      "cell_type": "code",
      "execution_count": null,
      "metadata": {
        "id": "XeLjFJhwA0QQ"
      },
      "outputs": [],
      "source": [
        "from typing import List\n",
        "# 初始數據\n",
        "head_match = dict(values=['成交時間', '成交價','成交量'])\n",
        "head_bs5 = dict(values=['買價1','買量1' ,'買價2','買量2' ,'買價3','買量3' ,'買價4','買量4' ,'買價5','買量5',\n",
        "             '賣價1','賣量1' ,'賣價2','賣量2' ,'賣價3','賣量3' ,'賣價4','賣量4' ,'賣價5','賣量5'])\n",
        "head_open = dict(values=['開盤時間','開盤價' ,'開盤量','最高低價時間' ,'最高','最低'])\n",
        "head_idx = dict(values=['現貨統計時間','現貨價格'])\n",
        "# 創建初始表格\n",
        "fig_match = go.FigureWidget(data=[go.Table( header=head_match, cells=dict(values=list(zip(*[['','','']])), align='left'),)])\n",
        "fig_match.update_layout(height=100, margin=dict(t=0, b=0, l=0, r=0),autosize=True)\n",
        "fig_bs5 = go.FigureWidget(data=[go.Table( header=head_bs5, cells=dict(values=list(zip(*[['','','','','','','','','','','','','','','','','','','','']])), align='left'),)])\n",
        "fig_bs5.update_layout(height=100, margin=dict(t=0, b=0, l=0, r=0),autosize=True)\n",
        "fig_open = go.FigureWidget(data=[go.Table( header=head_open, cells=dict(values=list(zip(*[['','','','','','']])), align='left'),)])\n",
        "fig_open.update_layout(height=100, margin=dict(t=0, b=0, l=0, r=0),autosize=True)\n",
        "fig_idx = go.FigureWidget(data=[go.Table( header=head_idx, cells=dict(values=list(zip(*[['','']] )), align='left'),)])\n",
        "fig_idx.update_layout(height=100, margin=dict(t=0, b=0, l=0, r=0),autosize=True)\n",
        "\n",
        "col_match = {header: idx for idx, header in enumerate(head_match['values'])}\n",
        "col_bs5 = {header: idx for idx, header in enumerate(head_bs5['values'])}\n",
        "col_open = {header: idx for idx, header in enumerate(head_open['values'])}\n",
        "col_idx = {header: idx for idx, header in enumerate(head_idx['values'])}"
      ]
    },
    {
      "cell_type": "markdown",
      "metadata": {
        "id": "-4s0qdl--EST"
      },
      "source": [
        "<div class=\"markdown-google-sans\">\n",
        "\n",
        "## <strong>安裝unitrade</strong>\n",
        "</div>"
      ]
    },
    {
      "cell_type": "code",
      "execution_count": null,
      "metadata": {
        "id": "pA-GQgr7iIod"
      },
      "outputs": [],
      "source": [
        "!pip install unitrade-1.0.0.1-cp310-cp310-manylinux_2_17_x86_64.manylinux2014_x86_64.manylinux_2_28_x86_64.whl"
      ]
    },
    {
      "cell_type": "markdown",
      "metadata": {
        "id": "eeUwPGjahqIj"
      },
      "source": [
        "<div class=\"markdown-google-sans\">\n",
        "\n",
        "# <strong>初始化</strong>\n",
        "</div>"
      ]
    },
    {
      "cell_type": "code",
      "execution_count": null,
      "metadata": {
        "id": "yZxDgooGhqIj"
      },
      "outputs": [],
      "source": [
        "##API初始&登入\n",
        "import unitrade\n",
        "from unitrade.unitrade import *\n",
        "from unitrade.quote.ddata import *\n",
        "#初始API\n",
        "api = Unitrade()"
      ]
    },
    {
      "cell_type": "markdown",
      "metadata": {
        "id": "r1jl1-yE-Yb9"
      },
      "source": [
        "<div class=\"markdown-google-sans\">\n",
        "\n",
        "# <strong>登入api</strong>\n",
        "</div>"
      ]
    },
    {
      "cell_type": "code",
      "execution_count": null,
      "metadata": {
        "id": "Yxbg275XhqIk"
      },
      "outputs": [],
      "source": [
        "#錯誤事件處理\n",
        "api.on_error = lambda error: print(f'api錯誤 {error}')\n",
        "#系統登入\n",
        "loginresponse = api.login(\n",
        "    \"url\", \"帳號\", \"密碼\", '憑證檔名', '憑證密碼')#url,帳號,密碼,憑證檔名,憑證密碼\n",
        "\n",
        "\n",
        "#顯示登入結果\n",
        "print(loginresponse)\n",
        "print(f\"登入旗標{api.login_status_flag}\")\n",
        "print(f\"交易帳號{api.get_accounts()}\")\n"
      ]
    },
    {
      "cell_type": "markdown",
      "metadata": {
        "id": "ro9GGoIOFz-k"
      },
      "source": [
        "<div class=\"markdown-google-sans\">\n",
        "\n",
        "# <strong>查詢行情</strong>\n",
        "</div>"
      ]
    },
    {
      "cell_type": "markdown",
      "metadata": {
        "id": "N1NzkGKCNAWz"
      },
      "source": [
        "\n",
        "<div class=\"markdown-google-sans\">\n",
        "\n",
        "## <strong>成交價量</strong>\n",
        "</div>\n",
        "透過query_tick_data_trade方法實作,帶入商品代碼\n"
      ]
    },
    {
      "cell_type": "code",
      "execution_count": null,
      "metadata": {
        "id": "2dSVmboBNHEf"
      },
      "outputs": [],
      "source": [
        "tickDataTradeResponse=api.dquote.query_tick_data_trade('TXFK4')\n",
        "if tickDataTradeResponse.ok == True:\n",
        "    tickdatatrade=tickDataTradeResponse.data\n",
        "    cur = list(fig_match.data[0].cells.values)\n",
        "    cur[col_match['成交時間']] = tickdatatrade.matchtime\n",
        "    cur[col_match['成交價']] = tickdatatrade.matchprice\n",
        "    cur[col_match['成交量']] = tickdatatrade.matchquantity\n",
        "    with fig_match.batch_update():\n",
        "        fig_match.data[0].cells.values = cur\n",
        "    display(fig_match)\n",
        "else:\n",
        "    print(\"錯誤訊息 \"+tickDataTradeResponse.error)"
      ]
    },
    {
      "cell_type": "markdown",
      "metadata": {
        "id": "BBm2ojpSNLRB"
      },
      "source": [
        "<div class=\"markdown-google-sans\">\n",
        "\n",
        "## <strong>最佳買賣價量</strong>\n",
        "</div>\n",
        "透過query_tick_data_bid_offer方法實作,帶入商品代碼\n"
      ]
    },
    {
      "cell_type": "code",
      "execution_count": null,
      "metadata": {
        "id": "zreIEdmeNSQy"
      },
      "outputs": [],
      "source": [
        "tickDataBeforeBidOfferResponse=api.dquote.query_tick_data_bid_offer('TXFK4')\n",
        "if tickDataBeforeBidOfferResponse.ok == True:\n",
        "    tickdatabidoffer=tickDataBeforeBidOfferResponse.data\n",
        "    cur = list(fig_bs5.data[0].cells.values)\n",
        "    cur[col_bs5['買價1']] = tickdatabidoffer.bp1\n",
        "    cur[col_bs5['買量1']] = tickdatabidoffer.bq1\n",
        "    cur[col_bs5['買價2']] = tickdatabidoffer.bp2\n",
        "    cur[col_bs5['買量2']] = tickdatabidoffer.bq2\n",
        "    cur[col_bs5['買價3']] = tickdatabidoffer.bp3\n",
        "    cur[col_bs5['買量3']] = tickdatabidoffer.bq3\n",
        "    cur[col_bs5['買價4']] = tickdatabidoffer.bp4\n",
        "    cur[col_bs5['買量4']] = tickdatabidoffer.bq4\n",
        "    cur[col_bs5['買價5']] = tickdatabidoffer.bp5\n",
        "    cur[col_bs5['買量5']] = tickdatabidoffer.bq5\n",
        "    cur[col_bs5['賣價1']] = tickdatabidoffer.sp1\n",
        "    cur[col_bs5['賣量1']] = tickdatabidoffer.sq1\n",
        "    cur[col_bs5['賣價2']] = tickdatabidoffer.sp2\n",
        "    cur[col_bs5['賣量2']] = tickdatabidoffer.sq2\n",
        "    cur[col_bs5['賣價3']] = tickdatabidoffer.sp3\n",
        "    cur[col_bs5['賣量3']] = tickdatabidoffer.sq3\n",
        "    cur[col_bs5['賣價4']] = tickdatabidoffer.sp4\n",
        "    cur[col_bs5['賣量4']] = tickdatabidoffer.sq4\n",
        "    cur[col_bs5['賣價5']] = tickdatabidoffer.sp5\n",
        "    cur[col_bs5['賣量5']] = tickdatabidoffer.sq5\n",
        "    with fig_bs5.batch_update():\n",
        "        fig_bs5.data[0].cells.values = cur\n",
        "    display(fig_bs5)\n",
        "else:\n",
        "    print(\"tickdatabidoffer \"+tickDataBeforeBidOfferResponse.error)"
      ]
    },
    {
      "cell_type": "markdown",
      "metadata": {
        "id": "RHAIfkdBhqIk"
      },
      "source": [
        "\n",
        "<div class=\"markdown-google-sans\">\n",
        "\n",
        "## <strong>開盤價價量</strong>\n",
        "</div>\n",
        "透過query_tick_data_open方法實作,帶入商品代碼\n"
      ]
    },
    {
      "cell_type": "code",
      "execution_count": null,
      "metadata": {
        "id": "mf0Aecy-XLNn"
      },
      "outputs": [],
      "source": [
        "tickdataopenResponse=api.dquote.query_tick_data_open('TXFK4')\n",
        "if tickdataopenResponse.ok == True:\n",
        "    tickdataopen=tickdataopenResponse.data\n",
        "    cur = list(fig_open.data[0].cells.values)\n",
        "    cur[col_open['開盤時間']] = tickdataopen.opentime\n",
        "    cur[col_open['開盤價']] = tickdataopen.openprice\n",
        "    cur[col_open['開盤量'] ]= tickdataopen.openquantity\n",
        "    with fig_open.batch_update():\n",
        "        fig_open.data[0].cells.values = cur\n",
        "    display(fig_open)\n",
        "else:\n",
        "    print(\"錯誤訊息 \"+tickdataopenResponse.error)"
      ]
    },
    {
      "cell_type": "markdown",
      "metadata": {
        "id": "2PZTNQOvNr50"
      },
      "source": [
        "\n",
        "<div class=\"markdown-google-sans\">\n",
        "\n",
        "## <strong>最高最低價</strong>\n",
        "</div>\n",
        "透過query_tick_data_high_low方法實作,帶入商品代碼"
      ]
    },
    {
      "cell_type": "code",
      "execution_count": null,
      "metadata": {
        "id": "wPmJ3bXoN01C"
      },
      "outputs": [],
      "source": [
        "tickDataHignLowResponse=api.dquote.query_tick_data_high_low('TXFK4')\n",
        "if tickDataHignLowResponse.ok == True:\n",
        "    tickdatahighlow=tickDataHignLowResponse.data\n",
        "    cur = list(fig_open.data[0].cells.values)\n",
        "    cur[col_open['最高']] = tickdatahighlow.dayhighprice\n",
        "    cur[col_open['最低']] = tickdatahighlow.daylowprice\n",
        "    cur[col_open['最高低價時間']] = tickdatahighlow.showtime\n",
        "    with fig_open.batch_update():\n",
        "        fig_open.data[0].cells.values = cur\n",
        "    display(fig_open)\n",
        "else:\n",
        "    print(\"錯誤 \"+tickDataTradeResponse.error)\n",
        "\n"
      ]
    },
    {
      "cell_type": "markdown",
      "metadata": {
        "id": "b33eDzXdVaAm"
      },
      "source": [
        "\n",
        "<div class=\"markdown-google-sans\">\n",
        "\n",
        "## <strong>現貨價量</strong>\n",
        "</div>\n",
        "透過query_index_data方法實作,帶入標的物代碼\n"
      ]
    },
    {
      "cell_type": "code",
      "execution_count": null,
      "metadata": {
        "id": "vNMz_Em7hqIm"
      },
      "outputs": [],
      "source": [
        "#查詢現貨價量範例\n",
        "index_id='TXF'#代碼\n",
        "indexdataResponse=api.dquote.query_index_data(index_id)\n",
        "if indexdataResponse.ok == True:\n",
        "  indexdata=indexdataResponse.data\n",
        "  cur = list(fig_idx.data[0].cells.values)\n",
        "  cur[col_idx['現貨統計時間']] = indexdata.index_time\n",
        "  cur[col_idx['現貨價格']] = indexdata.index_value\n",
        "  with fig_idx.batch_update():\n",
        "    fig_idx.data[0].cells.values = cur\n",
        "    display(fig_idx)\n",
        "else:\n",
        "  print(indexdataResponse.error)"
      ]
    },
    {
      "cell_type": "markdown",
      "metadata": {
        "id": "9DE-qfXM-f-W"
      },
      "source": [
        "<div class=\"markdown-google-sans\">\n",
        "\n",
        "# <strong>接收即時行情</strong>\n",
        "</div>"
      ]
    },
    {
      "cell_type": "markdown",
      "metadata": {
        "id": "8sD82KBj45YL"
      },
      "source": [
        "<div class=\"markdown-google-sans\">\n",
        "\n",
        "## <strong>*成交和最佳買賣價*</strong>\n",
        "</div>"
      ]
    },
    {
      "cell_type": "markdown",
      "metadata": {
        "id": "VtrVF1XbVv9r"
      },
      "source": [
        "<div class=\"markdown-google-sans\">\n",
        "\n",
        "### <strong>*註冊*</strong>\n",
        "</div>"
      ]
    },
    {
      "cell_type": "code",
      "execution_count": null,
      "metadata": {
        "id": "6lqYhn3vV74_"
      },
      "outputs": [],
      "source": [
        "#成交價量接收處理\n",
        "def on_tick_data_trade(tickdatatrade: DTickDataTrade):\n",
        "    cur = list(fig_match.data[0].cells.values)\n",
        "    cur[col_match['成交時間']] = tickdatatrade.matchtime\n",
        "    cur[col_match['成交價']] = tickdatatrade.matchprice\n",
        "    cur[col_match['成交量']] = tickdatatrade.matchquantity\n",
        "    with fig_match.batch_update():\n",
        "        fig_match.data[0].cells.values = cur\n",
        "#最佳買賣價量接收處理\n",
        "def on_tick_data_bid_offer(tickdatabidoffer: DTickDataBidOffer):\n",
        "    cur = list(fig_bs5.data[0].cells.values)\n",
        "    cur[col_bs5['買價1']] = tickdatabidoffer.bp1\n",
        "    cur[col_bs5['買量1']] = tickdatabidoffer.bq1\n",
        "    cur[col_bs5['買價2']] = tickdatabidoffer.bp2\n",
        "    cur[col_bs5['買量2']] = tickdatabidoffer.bq2\n",
        "    cur[col_bs5['買價3']] = tickdatabidoffer.bp3\n",
        "    cur[col_bs5['買量3']] = tickdatabidoffer.bq3\n",
        "    cur[col_bs5['買價4']] = tickdatabidoffer.bp4\n",
        "    cur[col_bs5['買量4']] = tickdatabidoffer.bq4\n",
        "    cur[col_bs5['買價5']] = tickdatabidoffer.bp5\n",
        "    cur[col_bs5['買量5']] = tickdatabidoffer.bq5\n",
        "    cur[col_bs5['賣價1']] = tickdatabidoffer.sp1\n",
        "    cur[col_bs5['賣量1']] = tickdatabidoffer.sq1\n",
        "    cur[col_bs5['賣價2']] = tickdatabidoffer.sp2\n",
        "    cur[col_bs5['賣量2']] = tickdatabidoffer.sq2\n",
        "    cur[col_bs5['賣價3']] = tickdatabidoffer.sp3\n",
        "    cur[col_bs5['賣量3']] = tickdatabidoffer.sq3\n",
        "    cur[col_bs5['賣價4']] = tickdatabidoffer.sp4\n",
        "    cur[col_bs5['賣量4']] = tickdatabidoffer.sq4\n",
        "    cur[col_bs5['賣價5']] = tickdatabidoffer.sp5\n",
        "    cur[col_bs5['賣量5']] = tickdatabidoffer.sq5\n",
        "    with fig_bs5.batch_update():\n",
        "        fig_bs5.data[0].cells.values = cur\n",
        "#訂閱接收事件\n",
        "api.dquote.on_tick_data_trade = on_tick_data_trade\n",
        "api.dquote.on_tick_data_bid_offer = on_tick_data_bid_offer\n",
        "subok,msg=api.dquote.subscribe_trade_bid_offer('TXFK4')\n",
        "print(f'註冊結果 {subok} {msg}')\n",
        "display(fig_match)\n",
        "display(fig_bs5)"
      ]
    },
    {
      "cell_type": "markdown",
      "metadata": {
        "id": "ocdYK6HHWihI"
      },
      "source": [
        "<div class=\"markdown-google-sans\">\n",
        "\n",
        "### <strong>反註冊</strong>\n",
        "\n",
        "</div>"
      ]
    },
    {
      "cell_type": "code",
      "execution_count": null,
      "metadata": {
        "id": "kL6PgGQ1WedX"
      },
      "outputs": [],
      "source": [
        "unsub_ok,msg=api.dquote.unsubscribe_trade_bid_offer('TXFK4')\n",
        "print(f'反註冊結果  {unsub_ok} {msg}')"
      ]
    },
    {
      "cell_type": "markdown",
      "metadata": {
        "id": "S0xY9LQL5L1R"
      },
      "source": [
        "<div class=\"markdown-google-sans\">\n",
        "\n",
        "## <strong>*開盤價量*</strong>\n",
        "</div>"
      ]
    },
    {
      "cell_type": "markdown",
      "metadata": {
        "id": "zCn2xOa2V7hn"
      },
      "source": [
        "<div class=\"markdown-google-sans\">\n",
        "\n",
        "### <strong>*註冊*</strong>\n",
        "</div>"
      ]
    },
    {
      "cell_type": "code",
      "execution_count": null,
      "metadata": {
        "id": "Nt2S23lzuI68"
      },
      "outputs": [],
      "source": [
        "productid='TXFK4'#商品代碼\n",
        "#開盤價量接收處理\n",
        "def on_tick_data_open(tickdataopen: DTickDataOpen):\n",
        "    cur = list(fig_open.data[0].cells.values)\n",
        "    cur[col_open['開盤時間']] = tickdataopen.opentime\n",
        "    cur[col_open['開盤價']] = tickdataopen.openprice\n",
        "    cur[col_open['開盤量'] ]= tickdataopen.openquantity\n",
        "    with fig_open.batch_update():\n",
        "        fig_open.data[0].cells.values = cur\n",
        "\n",
        "#訂閱接收事件\n",
        "api.dquote.on_tick_data_open = on_tick_data_open\n",
        "subok,msg=api.dquote.subscribe_open(productid)\n",
        "print(f'註冊結果 {productid} {subok} {msg}')\n",
        "display(fig_open)"
      ]
    },
    {
      "cell_type": "markdown",
      "metadata": {
        "id": "HMu2gKvf-mkG"
      },
      "source": [
        "<div class=\"markdown-google-sans\">\n",
        "\n",
        "### <strong>*反註冊*</strong>\n",
        "</div>"
      ]
    },
    {
      "cell_type": "code",
      "execution_count": null,
      "metadata": {
        "id": "apXWLl74hqIm"
      },
      "outputs": [],
      "source": [
        "\n",
        "unsub_ok,msg=api.dquote.unsubscribe_open(productid)\n",
        "print(f'反註冊結果 {productid} {unsub_ok} {msg}')\n"
      ]
    },
    {
      "cell_type": "markdown",
      "metadata": {
        "id": "OLbGfs6dX-nr"
      },
      "source": [
        "<div class=\"markdown-google-sans\">\n",
        "\n",
        "## <strong>*最高最低價量*</strong>\n",
        "</div>"
      ]
    },
    {
      "cell_type": "markdown",
      "metadata": {
        "id": "lRjer7hB5kHW"
      },
      "source": [
        "<div class=\"markdown-google-sans\">\n",
        "\n",
        "### <strong>*註冊*</strong>\n",
        "</div>"
      ]
    },
    {
      "cell_type": "code",
      "execution_count": null,
      "metadata": {
        "id": "5qvsUwoLYTAH"
      },
      "outputs": [],
      "source": [
        "#最高最低價接收處理\n",
        "def on_tick_data_high_low(tickdatahighlow: DTickDataHighLow):\n",
        "    cur = list(fig_open.data[0].cells.values)\n",
        "    cur[col_open['最高']] = tickdatahighlow.dayhighprice\n",
        "    cur[col_open['最低']] = tickdatahighlow.daylowprice\n",
        "    cur[col_open['最高低價時間']] = tickdatahighlow.showtime\n",
        "    with fig_open.batch_update():\n",
        "        fig_open.data[0].cells.values = cur\n",
        "\n",
        "\n",
        "#訂閱接收事件\n",
        "api.dquote.on_tick_data_high_low = on_tick_data_high_low\n",
        "subok,msg=api.dquote.subscribe_high_low(productid)\n",
        "print(f'註冊結果 {productid} {subok} {msg}')\n",
        "display(fig_open)"
      ]
    },
    {
      "cell_type": "markdown",
      "metadata": {
        "id": "9uL3xmF4YDkq"
      },
      "source": [
        "<div class=\"markdown-google-sans\">\n",
        "\n",
        "### <strong>*反註冊*</strong>\n",
        "</div>"
      ]
    },
    {
      "cell_type": "code",
      "execution_count": null,
      "metadata": {
        "id": "1pmkdG8JYCDj"
      },
      "outputs": [],
      "source": [
        "unsub_ok,msg=api.dquote.unsubscribe_high_low(productid)\n",
        "print(f'反註冊結果 {productid} {unsub_ok} {msg}')"
      ]
    },
    {
      "cell_type": "markdown",
      "metadata": {
        "id": "Wzkqr103-xBB"
      },
      "source": [
        "<div class=\"markdown-google-sans\">\n",
        "\n",
        "## <strong>*現貨報價*</strong>\n",
        "</div>\n"
      ]
    },
    {
      "cell_type": "markdown",
      "metadata": {
        "id": "0n9cZH4w5wGM"
      },
      "source": [
        "<div class=\"markdown-google-sans\">\n",
        "\n",
        "### <strong>*註冊*</strong>\n",
        "</div>"
      ]
    },
    {
      "cell_type": "code",
      "execution_count": null,
      "metadata": {
        "id": "w_hHPEm5hqIm"
      },
      "outputs": [],
      "source": [
        "#訂閱現貨價量接收範例\n",
        "index_id='TXF' #代碼\n",
        "#接收現貨價量處理\n",
        "def on_index_data(indexdata: DIndexData):\n",
        "    cur = list(fig_idx.data[0].cells.values)\n",
        "    cur[col_idx['現貨統計時間']] = indexdata.index_time\n",
        "    cur[col_idx['現貨價格']] = indexdata.index_value\n",
        "    with fig_idx.batch_update():\n",
        "        fig_idx.data[0].cells.values = cur\n",
        "#訂閱事件\n",
        "api.dquote.on_index_data = on_index_data\n",
        "#註冊報價\n",
        "subok,msg=api.dquote.subscribe_index_data('1',index_id)\n",
        "print(f'註冊結果 {index_id} {subok} {msg}')\n",
        "display(fig_idx)"
      ]
    },
    {
      "cell_type": "markdown",
      "metadata": {
        "id": "E04iPtWa-2Vq"
      },
      "source": [
        "<div class=\"markdown-google-sans\">\n",
        "\n",
        "### <strong>*反註冊*</strong>\n",
        "</div>"
      ]
    },
    {
      "cell_type": "code",
      "execution_count": null,
      "metadata": {
        "id": "a3hCRWYVhqIm"
      },
      "outputs": [],
      "source": [
        "#反註冊現貨價量接收\n",
        "unsub_ok,msg=api.dquote.unsubscribe_index_data('1',index_id)\n",
        "print(f'反註冊結果 {index_id} {unsub_ok} {msg}')"
      ]
    },
    {
      "cell_type": "markdown",
      "metadata": {
        "id": "JfIM_Cu4-4ZH"
      },
      "source": [
        "<div class=\"markdown-google-sans\">\n",
        "\n",
        "# <strong>*系統登出*</strong>\n",
        "</div>\n"
      ]
    },
    {
      "cell_type": "code",
      "execution_count": null,
      "metadata": {
        "id": "tCNo21yWhqIn",
        "scrolled": true
      },
      "outputs": [],
      "source": [
        "#系統登出\n",
        "api.logout()\n",
        "print('登出完畢')\n",
        "print(f\"登入旗標{api.login_status_flag}\")\n"
      ]
    }
  ],
  "metadata": {
    "colab": {
      "collapsed_sections": [
        "N1NzkGKCNAWz",
        "BBm2ojpSNLRB",
        "2PZTNQOvNr50",
        "b33eDzXdVaAm",
        "ocdYK6HHWihI",
        "OLbGfs6dX-nr",
        "9uL3xmF4YDkq",
        "0n9cZH4w5wGM",
        "E04iPtWa-2Vq",
        "JfIM_Cu4-4ZH"
      ],
      "provenance": [],
      "toc_visible": true,
      "include_colab_link": true
    },
    "kernelspec": {
      "display_name": "venv",
      "language": "python",
      "name": "python3"
    },
    "language_info": {
      "codemirror_mode": {
        "name": "ipython",
        "version": 3
      },
      "file_extension": ".py",
      "mimetype": "text/x-python",
      "name": "python",
      "nbconvert_exporter": "python",
      "pygments_lexer": "ipython3",
      "version": "3.12.7"
    }
  },
  "nbformat": 4,
  "nbformat_minor": 0
}